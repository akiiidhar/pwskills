{
 "cells": [
  {
   "cell_type": "markdown",
   "id": "092fc550-7b7c-4dfd-89bc-2e2aade64f76",
   "metadata": {},
   "source": [
    "TOPIC: String Based Assignment Problem"
   ]
  },
  {
   "cell_type": "markdown",
   "id": "7e87e632-f970-4782-a33d-4c67eb394859",
   "metadata": {},
   "source": [
    "1. Write a program to reverse a string."
   ]
  },
  {
   "cell_type": "code",
   "execution_count": 1,
   "id": "d7f3e924-6ef6-4865-97c6-8be85e0aae63",
   "metadata": {},
   "outputs": [],
   "source": [
    "s = 'My name is Akash Dhar.'"
   ]
  },
  {
   "cell_type": "code",
   "execution_count": 2,
   "id": "7821653f-1119-4489-862f-819c21676e97",
   "metadata": {},
   "outputs": [
    {
     "data": {
      "text/plain": [
       "'.rahD hsakA si eman yM'"
      ]
     },
     "execution_count": 2,
     "metadata": {},
     "output_type": "execute_result"
    }
   ],
   "source": [
    "s[::-1] #Reverse of a string through slicing technique"
   ]
  },
  {
   "cell_type": "markdown",
   "id": "96991618-6b43-4765-acf5-41e2fd9496b2",
   "metadata": {},
   "source": [
    "2. Check if a string is a palindrome."
   ]
  },
  {
   "cell_type": "code",
   "execution_count": 3,
   "id": "7a6c14f1-bcad-4dd2-b321-40a3cfd0e79f",
   "metadata": {},
   "outputs": [],
   "source": [
    "s1 = 'madam'"
   ]
  },
  {
   "cell_type": "code",
   "execution_count": 4,
   "id": "64c49327-5a11-46ce-a51d-7eaf1e468988",
   "metadata": {},
   "outputs": [
    {
     "name": "stdout",
     "output_type": "stream",
     "text": [
      "The given string is a palindrome.\n"
     ]
    }
   ],
   "source": [
    "# Using if statement to check is a string is a palindrome or not\n",
    "if s1 == s1[::-1]:\n",
    "    print('The given string is a palindrome.')\n",
    "else:\n",
    "    print('The given string is not a palindrome.')"
   ]
  },
  {
   "cell_type": "markdown",
   "id": "84317aab-5a0d-4b0b-933d-258509872810",
   "metadata": {},
   "source": [
    "3. Convert a string to uppercase."
   ]
  },
  {
   "cell_type": "code",
   "execution_count": 5,
   "id": "7fb27956-afe8-4813-a55d-266fb1a139dc",
   "metadata": {},
   "outputs": [],
   "source": [
    "s2 = \"what is today's date?\""
   ]
  },
  {
   "cell_type": "code",
   "execution_count": 6,
   "id": "724a0147-abb6-4739-a0ec-74141ac51a1e",
   "metadata": {},
   "outputs": [
    {
     "data": {
      "text/plain": [
       "\"WHAT IS TODAY'S DATE?\""
      ]
     },
     "execution_count": 6,
     "metadata": {},
     "output_type": "execute_result"
    }
   ],
   "source": [
    "s2.upper() "
   ]
  },
  {
   "cell_type": "markdown",
   "id": "17b47e04-0909-4cbc-9575-013ff7d78269",
   "metadata": {},
   "source": [
    "4. Convert a string to lowercase."
   ]
  },
  {
   "cell_type": "code",
   "execution_count": 7,
   "id": "2a46dab8-09e1-4bc8-806f-31c9f7cb481b",
   "metadata": {},
   "outputs": [],
   "source": [
    "s3 = \"WHAT IS YOUR NAME?\""
   ]
  },
  {
   "cell_type": "code",
   "execution_count": 8,
   "id": "6e26c7c3-33f6-4e32-8ce9-2844d91ad196",
   "metadata": {},
   "outputs": [
    {
     "data": {
      "text/plain": [
       "'what is your name?'"
      ]
     },
     "execution_count": 8,
     "metadata": {},
     "output_type": "execute_result"
    }
   ],
   "source": [
    "s3.lower()"
   ]
  },
  {
   "cell_type": "markdown",
   "id": "58a49087-b26a-4cb7-8566-0b0717fee800",
   "metadata": {},
   "source": [
    "5. Count the number of vowels in a string."
   ]
  },
  {
   "cell_type": "code",
   "execution_count": 9,
   "id": "b0889ad2-ddd7-4c95-a3a0-2ca9bc909779",
   "metadata": {},
   "outputs": [],
   "source": [
    "s4 = \"Can I come over to your place?\""
   ]
  },
  {
   "cell_type": "code",
   "execution_count": 10,
   "id": "ed88f1fc-1e2d-4406-8de2-75b595897b74",
   "metadata": {},
   "outputs": [],
   "source": [
    "count = 0\n",
    "\n",
    "for i in s4:\n",
    "    if i == 'a' or i == 'A':\n",
    "        count = count+1\n",
    "    elif i == 'e' or i == 'E':\n",
    "        count = count+1\n",
    "    elif i == 'i' or i == 'I':\n",
    "        count = count+1\n",
    "    elif i == 'o' or i == 'O':\n",
    "        count = count+1\n",
    "    elif i == 'u' or i == 'U':\n",
    "        count = count+1"
   ]
  },
  {
   "cell_type": "code",
   "execution_count": 11,
   "id": "75d8b665-b89e-4b1f-ba37-ee2ac5308997",
   "metadata": {},
   "outputs": [
    {
     "name": "stdout",
     "output_type": "stream",
     "text": [
      "Number of vowels in the given string:  11\n"
     ]
    }
   ],
   "source": [
    "print(\"Number of vowels in the given string: \", count)"
   ]
  },
  {
   "cell_type": "markdown",
   "id": "59611c5d-4cb9-41d0-84bb-0f158b5c1aee",
   "metadata": {},
   "source": [
    "6. Count the number of consonants in a string."
   ]
  },
  {
   "cell_type": "code",
   "execution_count": 12,
   "id": "4f87cee6-5bea-4dd9-96e9-17a0d79c8122",
   "metadata": {},
   "outputs": [],
   "source": [
    "s5 = \"Can I come over to your place?\""
   ]
  },
  {
   "cell_type": "code",
   "execution_count": 13,
   "id": "988e7fa8-4656-4c8c-a0e7-2a0c72335bb3",
   "metadata": {},
   "outputs": [],
   "source": [
    "count = 0\n",
    "\n",
    "consonants = 'bcdfghjklmnpqrstvwxyzBCDFGHJKLMNPQRSTVWXYZ'\n",
    "\n",
    "for i in s5:\n",
    "    if i in consonants:\n",
    "        count = count+1"
   ]
  },
  {
   "cell_type": "code",
   "execution_count": 14,
   "id": "5908b359-cbe0-4ede-97bf-2c56341d1863",
   "metadata": {},
   "outputs": [
    {
     "name": "stdout",
     "output_type": "stream",
     "text": [
      "Number of consonants in the given string:  12\n"
     ]
    }
   ],
   "source": [
    "print(\"Number of consonants in the given string: \", count)"
   ]
  },
  {
   "cell_type": "markdown",
   "id": "b8237c91-5b32-413f-9941-1a8435e649a8",
   "metadata": {},
   "source": [
    "7. Remove all whitespaces from a string."
   ]
  },
  {
   "cell_type": "code",
   "execution_count": 15,
   "id": "c862b287-aca3-441e-b484-ce99bda2cd16",
   "metadata": {},
   "outputs": [],
   "source": [
    "s6 = 'What day is it today?'"
   ]
  },
  {
   "cell_type": "code",
   "execution_count": 16,
   "id": "249d3e72-1c10-4f8c-a376-1a194d382186",
   "metadata": {},
   "outputs": [
    {
     "data": {
      "text/plain": [
       "'Whatdayisittoday?'"
      ]
     },
     "execution_count": 16,
     "metadata": {},
     "output_type": "execute_result"
    }
   ],
   "source": [
    "s6.replace(' ','')"
   ]
  },
  {
   "cell_type": "markdown",
   "id": "b5ea6b11-d017-44a2-ba7a-f29700627448",
   "metadata": {},
   "source": [
    "8. Find the length of a string without using the `len()` function."
   ]
  },
  {
   "cell_type": "code",
   "execution_count": 17,
   "id": "288ac492-84f8-44b3-8da1-5c0272657a44",
   "metadata": {},
   "outputs": [],
   "source": [
    "s7 = 'Sixteen'"
   ]
  },
  {
   "cell_type": "code",
   "execution_count": 18,
   "id": "0a09b978-0e6c-4572-b3d4-2fd99cca0c24",
   "metadata": {},
   "outputs": [],
   "source": [
    "count = 0\n",
    "\n",
    "for i in s7:\n",
    "    count = count + 1"
   ]
  },
  {
   "cell_type": "code",
   "execution_count": 19,
   "id": "54668a47-8399-4c82-8270-43fc4b292275",
   "metadata": {},
   "outputs": [
    {
     "name": "stdout",
     "output_type": "stream",
     "text": [
      "The length of the given string:  7\n"
     ]
    }
   ],
   "source": [
    "print('The length of the given string: ', count)"
   ]
  },
  {
   "cell_type": "markdown",
   "id": "98d1db7a-15e1-41d3-915e-e6e9ab504b17",
   "metadata": {},
   "source": [
    "9. Check if a string contains a specific word."
   ]
  },
  {
   "cell_type": "code",
   "execution_count": 20,
   "id": "33e31a48-48b5-462d-aacd-9cdc2cebbfc0",
   "metadata": {},
   "outputs": [],
   "source": [
    "s8 = 'What is the meaning of this?'"
   ]
  },
  {
   "cell_type": "code",
   "execution_count": 21,
   "id": "12c5c586-b620-4d2b-8d30-707fc698033e",
   "metadata": {},
   "outputs": [
    {
     "name": "stdout",
     "output_type": "stream",
     "text": [
      "True\n"
     ]
    }
   ],
   "source": [
    "if 'this' in s8:\n",
    "    print(True)\n",
    "else:\n",
    "    print(False)"
   ]
  },
  {
   "cell_type": "markdown",
   "id": "e014a5d3-3e49-43b8-bc23-e59afb5ae951",
   "metadata": {},
   "source": [
    "10. Replace a word in a string with another word."
   ]
  },
  {
   "cell_type": "code",
   "execution_count": 22,
   "id": "09e24b92-d7cd-4a8a-a153-5e5efec896c7",
   "metadata": {},
   "outputs": [],
   "source": [
    "s9 = 'Can I go over there?'"
   ]
  },
  {
   "cell_type": "code",
   "execution_count": 23,
   "id": "6099afb6-5fa5-461b-a90d-bf13a65f0836",
   "metadata": {},
   "outputs": [
    {
     "data": {
      "text/plain": [
       "'Shall I go over there?'"
      ]
     },
     "execution_count": 23,
     "metadata": {},
     "output_type": "execute_result"
    }
   ],
   "source": [
    "s9.replace('Can','Shall')"
   ]
  },
  {
   "cell_type": "markdown",
   "id": "619b1904-da59-4791-a933-780c149be921",
   "metadata": {},
   "source": [
    "11. Count the occurrences of a word in a string."
   ]
  },
  {
   "cell_type": "code",
   "execution_count": 24,
   "id": "9a8b18f6-4897-4075-8ffc-b4af5f5b01b9",
   "metadata": {},
   "outputs": [],
   "source": [
    "s10 = 'Why is it like that? It is what it is.'"
   ]
  },
  {
   "cell_type": "code",
   "execution_count": 25,
   "id": "2a6d48fe-48b3-40c0-be04-6f4341f76fee",
   "metadata": {},
   "outputs": [
    {
     "data": {
      "text/plain": [
       "3"
      ]
     },
     "execution_count": 25,
     "metadata": {},
     "output_type": "execute_result"
    }
   ],
   "source": [
    "s10.count('is')"
   ]
  },
  {
   "cell_type": "markdown",
   "id": "56230607-7f7d-49d2-a86f-c79f7296eee2",
   "metadata": {
    "tags": []
   },
   "source": [
    "12. Find the first occurrence of a word in a string."
   ]
  },
  {
   "cell_type": "code",
   "execution_count": 26,
   "id": "d3d84513-8e40-4f8b-a3a6-0204a6abf51d",
   "metadata": {},
   "outputs": [],
   "source": [
    "s11 = 'What of it? Nothing, I was just making a general observation about it.'"
   ]
  },
  {
   "cell_type": "code",
   "execution_count": 27,
   "id": "3298c15e-6118-4a9d-8888-9a20f4326db2",
   "metadata": {},
   "outputs": [
    {
     "data": {
      "text/plain": [
       "8"
      ]
     },
     "execution_count": 27,
     "metadata": {},
     "output_type": "execute_result"
    }
   ],
   "source": [
    "s11.find('it')"
   ]
  },
  {
   "cell_type": "markdown",
   "id": "e1a61426-4f3b-49ff-b571-cfb2d4575818",
   "metadata": {},
   "source": [
    "13. Find the last occurrence of a word in a string."
   ]
  },
  {
   "cell_type": "code",
   "execution_count": 28,
   "id": "4e82a275-fe5d-4f94-9d7c-3a3eaac24ae2",
   "metadata": {},
   "outputs": [
    {
     "data": {
      "text/plain": [
       "'What of it? Nothing, I was just making a general observation about it.'"
      ]
     },
     "execution_count": 28,
     "metadata": {},
     "output_type": "execute_result"
    }
   ],
   "source": [
    "s11"
   ]
  },
  {
   "cell_type": "code",
   "execution_count": 29,
   "id": "aedabe17-bda4-42c5-b81b-a075a11d955d",
   "metadata": {},
   "outputs": [
    {
     "data": {
      "text/plain": [
       "67"
      ]
     },
     "execution_count": 29,
     "metadata": {},
     "output_type": "execute_result"
    }
   ],
   "source": [
    "s11.rfind('it')"
   ]
  },
  {
   "cell_type": "markdown",
   "id": "a9f14093-e50f-43ec-ad64-e9c0f2e268fc",
   "metadata": {},
   "source": [
    "14. Split a string into a list of words."
   ]
  },
  {
   "cell_type": "code",
   "execution_count": 30,
   "id": "a9432ff8-a915-407a-b203-1abba4662f29",
   "metadata": {},
   "outputs": [
    {
     "data": {
      "text/plain": [
       "'What of it? Nothing, I was just making a general observation about it.'"
      ]
     },
     "execution_count": 30,
     "metadata": {},
     "output_type": "execute_result"
    }
   ],
   "source": [
    "s11"
   ]
  },
  {
   "cell_type": "code",
   "execution_count": 31,
   "id": "5dcad517-b639-41de-a29b-31644ce1e75e",
   "metadata": {},
   "outputs": [
    {
     "data": {
      "text/plain": [
       "['What',\n",
       " 'of',\n",
       " 'it?',\n",
       " 'Nothing,',\n",
       " 'I',\n",
       " 'was',\n",
       " 'just',\n",
       " 'making',\n",
       " 'a',\n",
       " 'general',\n",
       " 'observation',\n",
       " 'about',\n",
       " 'it.']"
      ]
     },
     "execution_count": 31,
     "metadata": {},
     "output_type": "execute_result"
    }
   ],
   "source": [
    "s11.split(' ')"
   ]
  },
  {
   "cell_type": "markdown",
   "id": "4d343942-9d1d-4f98-84e4-29165f1f2dc2",
   "metadata": {},
   "source": [
    "15. Join a list of words into a string."
   ]
  },
  {
   "cell_type": "code",
   "execution_count": 32,
   "id": "22dd2d52-f7da-4e93-aae3-734f99a8c6ae",
   "metadata": {},
   "outputs": [],
   "source": [
    "l = ['What', 'do', 'you', 'want', '?']"
   ]
  },
  {
   "cell_type": "code",
   "execution_count": 33,
   "id": "4b38034d-7280-41c6-81ba-4438767554fa",
   "metadata": {},
   "outputs": [
    {
     "data": {
      "text/plain": [
       "'Whatdoyouwant?'"
      ]
     },
     "execution_count": 33,
     "metadata": {},
     "output_type": "execute_result"
    }
   ],
   "source": [
    "s12 = ''\n",
    "s12.join(l)"
   ]
  },
  {
   "cell_type": "markdown",
   "id": "561171a8-30b7-4e0e-94bd-08915dfa54a3",
   "metadata": {},
   "source": [
    "16. Convert a string where words are separated by spaces to one where words\n",
    "are separated by underscores."
   ]
  },
  {
   "cell_type": "code",
   "execution_count": 34,
   "id": "2a71356f-e81f-489d-b47f-f49617ac9da2",
   "metadata": {},
   "outputs": [
    {
     "data": {
      "text/plain": [
       "'What of it? Nothing, I was just making a general observation about it.'"
      ]
     },
     "execution_count": 34,
     "metadata": {},
     "output_type": "execute_result"
    }
   ],
   "source": [
    "s11"
   ]
  },
  {
   "cell_type": "code",
   "execution_count": 35,
   "id": "94fdbe43-f743-4377-9710-61c51cc30b0d",
   "metadata": {},
   "outputs": [
    {
     "data": {
      "text/plain": [
       "'What_of_it?_Nothing,_I_was_just_making_a_general_observation_about_it.'"
      ]
     },
     "execution_count": 35,
     "metadata": {},
     "output_type": "execute_result"
    }
   ],
   "source": [
    "s11.replace(' ', '_')"
   ]
  },
  {
   "cell_type": "markdown",
   "id": "f87d9439-3c1d-4a4e-96ed-efb7c10ce50f",
   "metadata": {},
   "source": [
    "17. Check if a string starts with a specific word or phrase."
   ]
  },
  {
   "cell_type": "code",
   "execution_count": 36,
   "id": "8a428a6e-4bf4-437a-a608-a9d308a8c214",
   "metadata": {},
   "outputs": [
    {
     "data": {
      "text/plain": [
       "'What of it? Nothing, I was just making a general observation about it.'"
      ]
     },
     "execution_count": 36,
     "metadata": {},
     "output_type": "execute_result"
    }
   ],
   "source": [
    "s11"
   ]
  },
  {
   "cell_type": "code",
   "execution_count": 37,
   "id": "f440fe60-1248-4e92-87e8-616f301fa477",
   "metadata": {},
   "outputs": [
    {
     "data": {
      "text/plain": [
       "True"
      ]
     },
     "execution_count": 37,
     "metadata": {},
     "output_type": "execute_result"
    }
   ],
   "source": [
    "s11.startswith('What')"
   ]
  },
  {
   "cell_type": "markdown",
   "id": "4dd92dde-fc4b-4e3a-9af8-1c1f52ba8dcd",
   "metadata": {},
   "source": [
    "18. Check if a string ends with a specific word or phrase."
   ]
  },
  {
   "cell_type": "code",
   "execution_count": 38,
   "id": "c53ee05c-dc5d-497b-ad3d-fd683a66d825",
   "metadata": {},
   "outputs": [
    {
     "data": {
      "text/plain": [
       "'What of it? Nothing, I was just making a general observation about it.'"
      ]
     },
     "execution_count": 38,
     "metadata": {},
     "output_type": "execute_result"
    }
   ],
   "source": [
    "s11"
   ]
  },
  {
   "cell_type": "code",
   "execution_count": 39,
   "id": "863b90b0-6239-43ce-972e-03ba9471017b",
   "metadata": {},
   "outputs": [
    {
     "data": {
      "text/plain": [
       "True"
      ]
     },
     "execution_count": 39,
     "metadata": {},
     "output_type": "execute_result"
    }
   ],
   "source": [
    "s11.endswith('it.')"
   ]
  },
  {
   "cell_type": "markdown",
   "id": "868b624d-aebd-417c-bd95-53c185ee57c6",
   "metadata": {},
   "source": [
    "19. Convert a string to title case (e.g., \"hello world\" to \"Hello World\")."
   ]
  },
  {
   "cell_type": "code",
   "execution_count": 40,
   "id": "11b621c0-11a1-431c-8a12-6ed002782924",
   "metadata": {},
   "outputs": [
    {
     "data": {
      "text/plain": [
       "'What of it? Nothing, I was just making a general observation about it.'"
      ]
     },
     "execution_count": 40,
     "metadata": {},
     "output_type": "execute_result"
    }
   ],
   "source": [
    "s11"
   ]
  },
  {
   "cell_type": "code",
   "execution_count": 41,
   "id": "86eb018a-a73f-4eb9-a3f8-7eb9e377fd35",
   "metadata": {},
   "outputs": [
    {
     "data": {
      "text/plain": [
       "'What Of It? Nothing, I Was Just Making A General Observation About It.'"
      ]
     },
     "execution_count": 41,
     "metadata": {},
     "output_type": "execute_result"
    }
   ],
   "source": [
    "s11.title()"
   ]
  },
  {
   "cell_type": "markdown",
   "id": "78b34f5f-8896-4da0-8c93-825fe79b1a4f",
   "metadata": {},
   "source": [
    "20. Find the longest word in a string."
   ]
  },
  {
   "cell_type": "code",
   "execution_count": 42,
   "id": "06ecbcb9-4f98-4550-956e-acc458f98a5d",
   "metadata": {},
   "outputs": [],
   "source": [
    "s13 = 'are you allowed to be present here at this time of the night'"
   ]
  },
  {
   "cell_type": "code",
   "execution_count": 43,
   "id": "72a0daf2-d92a-421b-97f0-98ecb8c1b803",
   "metadata": {},
   "outputs": [],
   "source": [
    "l1 = s13.split()"
   ]
  },
  {
   "cell_type": "code",
   "execution_count": 44,
   "id": "71f8085e-b76b-4b44-82fd-3fe1532e1331",
   "metadata": {},
   "outputs": [
    {
     "data": {
      "text/plain": [
       "['are',\n",
       " 'you',\n",
       " 'allowed',\n",
       " 'to',\n",
       " 'be',\n",
       " 'present',\n",
       " 'here',\n",
       " 'at',\n",
       " 'this',\n",
       " 'time',\n",
       " 'of',\n",
       " 'the',\n",
       " 'night']"
      ]
     },
     "execution_count": 44,
     "metadata": {},
     "output_type": "execute_result"
    }
   ],
   "source": [
    "l1"
   ]
  },
  {
   "cell_type": "code",
   "execution_count": 45,
   "id": "49d8fd18-8e75-42d6-942f-853edcf451ac",
   "metadata": {},
   "outputs": [],
   "source": [
    "s14 = ''\n",
    "max_length = 0"
   ]
  },
  {
   "cell_type": "code",
   "execution_count": 46,
   "id": "6abe3745-70bf-43b4-8a69-f5bfb23319a5",
   "metadata": {},
   "outputs": [],
   "source": [
    "for i in l1:\n",
    "    if len(i)>=max_length:\n",
    "        s14 = i\n",
    "        max_length = len(i)"
   ]
  },
  {
   "cell_type": "code",
   "execution_count": 47,
   "id": "d5acf11c-721f-46f3-9a7b-e5db1a049027",
   "metadata": {},
   "outputs": [
    {
     "name": "stdout",
     "output_type": "stream",
     "text": [
      "The longest word in the string:  present\n"
     ]
    }
   ],
   "source": [
    "print('The longest word in the string: ', s14)"
   ]
  },
  {
   "cell_type": "markdown",
   "id": "a3050967-6fe1-4947-bca8-69902a67510f",
   "metadata": {},
   "source": [
    "21. Find the shortest word in a string."
   ]
  },
  {
   "cell_type": "code",
   "execution_count": 48,
   "id": "2d08b1f2-3252-4d2e-b91e-3da3b1e47cf7",
   "metadata": {},
   "outputs": [],
   "source": [
    "s15 = 'I am not allowed here'"
   ]
  },
  {
   "cell_type": "code",
   "execution_count": 49,
   "id": "d68eb451-fe2b-45fd-a1bb-b92178399b7f",
   "metadata": {},
   "outputs": [],
   "source": [
    "l2 = s15.split()"
   ]
  },
  {
   "cell_type": "code",
   "execution_count": 50,
   "id": "4617a9eb-85ed-4dce-9426-fefb1b32ba42",
   "metadata": {},
   "outputs": [
    {
     "data": {
      "text/plain": [
       "['I', 'am', 'not', 'allowed', 'here']"
      ]
     },
     "execution_count": 50,
     "metadata": {},
     "output_type": "execute_result"
    }
   ],
   "source": [
    "l2"
   ]
  },
  {
   "cell_type": "code",
   "execution_count": 51,
   "id": "c84b1b3e-e079-4fe6-bdd1-a8472d75b35e",
   "metadata": {},
   "outputs": [],
   "source": [
    "s16 = ''\n",
    "min_length = 10000000000"
   ]
  },
  {
   "cell_type": "code",
   "execution_count": 52,
   "id": "365ef9d2-1175-4c33-8328-0cbd6fb4e86b",
   "metadata": {},
   "outputs": [],
   "source": [
    "for i in l2:\n",
    "    if len(i)<=min_length:\n",
    "        s16 = i\n",
    "        min_length = len(i)"
   ]
  },
  {
   "cell_type": "code",
   "execution_count": 53,
   "id": "86d4170e-5de0-4044-acae-284593d8172a",
   "metadata": {},
   "outputs": [
    {
     "name": "stdout",
     "output_type": "stream",
     "text": [
      "The sortest word in the string:  I\n"
     ]
    }
   ],
   "source": [
    "print('The sortest word in the string: ', s16)"
   ]
  },
  {
   "cell_type": "markdown",
   "id": "f26bf25e-099e-45f8-a805-1ef162f6ee33",
   "metadata": {},
   "source": [
    "22. Reverse the order of words in a string."
   ]
  },
  {
   "cell_type": "code",
   "execution_count": 54,
   "id": "71dbb57a-ebe8-42b1-823f-ba9b98a14efe",
   "metadata": {},
   "outputs": [
    {
     "data": {
      "text/plain": [
       "'I am not allowed here'"
      ]
     },
     "execution_count": 54,
     "metadata": {},
     "output_type": "execute_result"
    }
   ],
   "source": [
    "s15"
   ]
  },
  {
   "cell_type": "code",
   "execution_count": 55,
   "id": "0b8464af-23d0-4681-84c9-250e4d296d41",
   "metadata": {},
   "outputs": [],
   "source": [
    "l2 = s15.split()"
   ]
  },
  {
   "cell_type": "code",
   "execution_count": 56,
   "id": "9ae38b0a-5b23-4972-96f6-cf39b8fc7022",
   "metadata": {},
   "outputs": [
    {
     "data": {
      "text/plain": [
       "['I', 'am', 'not', 'allowed', 'here']"
      ]
     },
     "execution_count": 56,
     "metadata": {},
     "output_type": "execute_result"
    }
   ],
   "source": [
    "l2 "
   ]
  },
  {
   "cell_type": "code",
   "execution_count": 57,
   "id": "4f848efd-c88d-41da-aa3f-0c99b5884e4f",
   "metadata": {},
   "outputs": [],
   "source": [
    "l2.reverse()"
   ]
  },
  {
   "cell_type": "code",
   "execution_count": 58,
   "id": "a3d4ba38-b28a-4d6a-b382-6dceebc5e161",
   "metadata": {},
   "outputs": [
    {
     "data": {
      "text/plain": [
       "['here', 'allowed', 'not', 'am', 'I']"
      ]
     },
     "execution_count": 58,
     "metadata": {},
     "output_type": "execute_result"
    }
   ],
   "source": [
    "l2"
   ]
  },
  {
   "cell_type": "code",
   "execution_count": 59,
   "id": "011083aa-f24d-42c7-b2c1-244144150972",
   "metadata": {},
   "outputs": [],
   "source": [
    "s17 = ' '.join(l2)"
   ]
  },
  {
   "cell_type": "code",
   "execution_count": 60,
   "id": "373dac1d-f68e-4391-9f96-f41eb2687116",
   "metadata": {},
   "outputs": [
    {
     "name": "stdout",
     "output_type": "stream",
     "text": [
      "The string in reverse order: here allowed not am I\n"
     ]
    }
   ],
   "source": [
    "print('The string in reverse order:',s17)"
   ]
  },
  {
   "cell_type": "markdown",
   "id": "3333bcb4-9921-46bb-be92-bbd7859712ca",
   "metadata": {},
   "source": [
    "23. Check if a string is alphanumeric."
   ]
  },
  {
   "cell_type": "code",
   "execution_count": 61,
   "id": "cee13898-7f7b-4129-a5aa-ab948048914f",
   "metadata": {},
   "outputs": [
    {
     "data": {
      "text/plain": [
       "'What of it? Nothing, I was just making a general observation about it.'"
      ]
     },
     "execution_count": 61,
     "metadata": {},
     "output_type": "execute_result"
    }
   ],
   "source": [
    "s11"
   ]
  },
  {
   "cell_type": "code",
   "execution_count": 62,
   "id": "87424ada-3eb0-4ed0-b1b3-c9d3c9d902b7",
   "metadata": {
    "tags": []
   },
   "outputs": [
    {
     "data": {
      "text/plain": [
       "False"
      ]
     },
     "execution_count": 62,
     "metadata": {},
     "output_type": "execute_result"
    }
   ],
   "source": [
    "s11.isalnum()"
   ]
  },
  {
   "cell_type": "markdown",
   "id": "2f10f220-b5ad-49b9-80b2-5d8443a2795d",
   "metadata": {},
   "source": [
    "24. Extract all digits from a string."
   ]
  },
  {
   "cell_type": "code",
   "execution_count": 63,
   "id": "cd10f821-b324-44b0-a23c-f10b8a0bdefc",
   "metadata": {},
   "outputs": [],
   "source": [
    "s18 = 'The year is 2024 and the time is 11:48 AM'"
   ]
  },
  {
   "cell_type": "code",
   "execution_count": 64,
   "id": "f278e408-d420-484b-bfe9-e8a488e1d9c6",
   "metadata": {},
   "outputs": [],
   "source": [
    "digits = []\n",
    "\n",
    "for i in s18:\n",
    "    if i.isdigit():\n",
    "        digits.append(i)        "
   ]
  },
  {
   "cell_type": "code",
   "execution_count": 65,
   "id": "9e779779-38ba-4883-a30e-d3bf8e0962d8",
   "metadata": {},
   "outputs": [
    {
     "name": "stdout",
     "output_type": "stream",
     "text": [
      "The extracted digits are: ['2', '0', '2', '4', '1', '1', '4', '8']\n"
     ]
    }
   ],
   "source": [
    "print('The extracted digits are:', digits)"
   ]
  },
  {
   "cell_type": "markdown",
   "id": "fc2b470e-1edc-478b-b600-9ec25d0418b7",
   "metadata": {},
   "source": [
    "25. Extract all alphabets from a string."
   ]
  },
  {
   "cell_type": "code",
   "execution_count": 66,
   "id": "4c8a46b4-09ee-464e-89e1-adb43647ee2c",
   "metadata": {},
   "outputs": [
    {
     "data": {
      "text/plain": [
       "'The year is 2024 and the time is 11:48 AM'"
      ]
     },
     "execution_count": 66,
     "metadata": {},
     "output_type": "execute_result"
    }
   ],
   "source": [
    "s18"
   ]
  },
  {
   "cell_type": "code",
   "execution_count": 67,
   "id": "c20068e8-0813-4c6b-aa64-2243400a18c0",
   "metadata": {},
   "outputs": [],
   "source": [
    "alphabets = []\n",
    "\n",
    "for i in s18:\n",
    "    if i.isalpha():\n",
    "        alphabets.append(i)"
   ]
  },
  {
   "cell_type": "code",
   "execution_count": 68,
   "id": "3c305465-a655-400d-ae06-dc66beb37d83",
   "metadata": {},
   "outputs": [
    {
     "name": "stdout",
     "output_type": "stream",
     "text": [
      "The extracted alphabets are:  ['T', 'h', 'e', 'y', 'e', 'a', 'r', 'i', 's', 'a', 'n', 'd', 't', 'h', 'e', 't', 'i', 'm', 'e', 'i', 's', 'A', 'M']\n"
     ]
    }
   ],
   "source": [
    "print('The extracted alphabets are: ', alphabets)"
   ]
  },
  {
   "cell_type": "markdown",
   "id": "27e5ec96-81bc-459f-9cac-c1a64aa3d78e",
   "metadata": {},
   "source": [
    "26. Count the number of uppercase letters in a string."
   ]
  },
  {
   "cell_type": "code",
   "execution_count": 69,
   "id": "3e4bd5f0-8068-4b96-b5a4-cd9ae78de5a2",
   "metadata": {},
   "outputs": [
    {
     "data": {
      "text/plain": [
       "'What of it? Nothing, I was just making a general observation about it.'"
      ]
     },
     "execution_count": 69,
     "metadata": {},
     "output_type": "execute_result"
    }
   ],
   "source": [
    "s11"
   ]
  },
  {
   "cell_type": "code",
   "execution_count": 70,
   "id": "17985efc-3108-40c2-8408-9f4eb8877997",
   "metadata": {},
   "outputs": [],
   "source": [
    "count = 0\n",
    "\n",
    "for i in s11:\n",
    "    if i.isupper():\n",
    "        count = count + 1"
   ]
  },
  {
   "cell_type": "code",
   "execution_count": 71,
   "id": "d66efb34-51ff-4e36-a898-da3f25a141d3",
   "metadata": {},
   "outputs": [
    {
     "name": "stdout",
     "output_type": "stream",
     "text": [
      "The total number of uppercase letters in the given string are:  3\n"
     ]
    }
   ],
   "source": [
    "print('The total number of uppercase letters in the given string are: ', count)"
   ]
  },
  {
   "cell_type": "markdown",
   "id": "eae56d6b-8fcd-42f7-ac9a-7d818784ee96",
   "metadata": {},
   "source": [
    "27. Count the number of lowercase letters in a string."
   ]
  },
  {
   "cell_type": "code",
   "execution_count": 72,
   "id": "330a0e6b-62b2-4c3d-b464-789476d83682",
   "metadata": {},
   "outputs": [
    {
     "data": {
      "text/plain": [
       "'What of it? Nothing, I was just making a general observation about it.'"
      ]
     },
     "execution_count": 72,
     "metadata": {},
     "output_type": "execute_result"
    }
   ],
   "source": [
    "s11"
   ]
  },
  {
   "cell_type": "code",
   "execution_count": 73,
   "id": "60f04efd-0b8d-444d-b830-7ee67ad08408",
   "metadata": {},
   "outputs": [],
   "source": [
    "count = 0\n",
    "\n",
    "for i in s11:\n",
    "    if i.islower():\n",
    "        count = count + 1"
   ]
  },
  {
   "cell_type": "code",
   "execution_count": 74,
   "id": "1f9715f5-ac54-45fd-97ef-ecbd7753b3b7",
   "metadata": {},
   "outputs": [
    {
     "name": "stdout",
     "output_type": "stream",
     "text": [
      "The total number of lowercase letters in the given string are:  52\n"
     ]
    }
   ],
   "source": [
    "print('The total number of lowercase letters in the given string are: ', count)"
   ]
  },
  {
   "cell_type": "markdown",
   "id": "509dec47-f7eb-4244-bb62-af5d02eb74b9",
   "metadata": {},
   "source": [
    "28. Swap the case of each character in a string."
   ]
  },
  {
   "cell_type": "code",
   "execution_count": 75,
   "id": "7de22dba-6de7-4d7a-93e8-ad6405f1cd16",
   "metadata": {},
   "outputs": [
    {
     "data": {
      "text/plain": [
       "'What of it? Nothing, I was just making a general observation about it.'"
      ]
     },
     "execution_count": 75,
     "metadata": {},
     "output_type": "execute_result"
    }
   ],
   "source": [
    "s11"
   ]
  },
  {
   "cell_type": "code",
   "execution_count": 76,
   "id": "0cf53939-62b3-4d8b-818d-d74ecad746a4",
   "metadata": {},
   "outputs": [
    {
     "name": "stdout",
     "output_type": "stream",
     "text": [
      "The converted string is:  wHAT OF IT? nOTHING, i WAS JUST MAKING A GENERAL OBSERVATION ABOUT IT.\n"
     ]
    }
   ],
   "source": [
    "print('The converted string is: ', s11.swapcase())"
   ]
  },
  {
   "cell_type": "markdown",
   "id": "bcda65c0-37e8-4f0a-b74f-450c9ef602da",
   "metadata": {},
   "source": [
    "29. Remove a specific word from a string."
   ]
  },
  {
   "cell_type": "code",
   "execution_count": 77,
   "id": "adc9ef9f-8098-4beb-ade9-bc5be07bf973",
   "metadata": {},
   "outputs": [
    {
     "data": {
      "text/plain": [
       "'What of it? Nothing, I was just making a general observation about it.'"
      ]
     },
     "execution_count": 77,
     "metadata": {},
     "output_type": "execute_result"
    }
   ],
   "source": [
    "s11"
   ]
  },
  {
   "cell_type": "code",
   "execution_count": 78,
   "id": "2a74870c-dd0a-485e-87a9-cc6a699e71f5",
   "metadata": {},
   "outputs": [],
   "source": [
    "s11 = s11.replace('general', '')"
   ]
  },
  {
   "cell_type": "code",
   "execution_count": 79,
   "id": "735be9f1-fdd5-4da1-b8d1-535cc3f0c995",
   "metadata": {},
   "outputs": [
    {
     "data": {
      "text/plain": [
       "'What of it? Nothing, I was just making a  observation about it.'"
      ]
     },
     "execution_count": 79,
     "metadata": {},
     "output_type": "execute_result"
    }
   ],
   "source": [
    "s11"
   ]
  },
  {
   "cell_type": "markdown",
   "id": "a33aecdd-9a6f-4210-bba9-ba5ea4dec0a7",
   "metadata": {},
   "source": [
    "30. Check if a string is a valid email address.\n",
    "31. Extract the username from an email address string.\n",
    "32. Extract the domain name from an email address string."
   ]
  },
  {
   "cell_type": "code",
   "execution_count": 80,
   "id": "81426bfc-7a22-4dfc-9989-df3a99aeb06f",
   "metadata": {},
   "outputs": [],
   "source": [
    "s19 = 'akashdhar@gmail.com'"
   ]
  },
  {
   "cell_type": "code",
   "execution_count": 81,
   "id": "db240c14-25df-4ee4-ab04-5f9e10cac007",
   "metadata": {},
   "outputs": [],
   "source": [
    "# Checking if '@' is present in the email address\n",
    "if '@' not in s19:\n",
    "    print('Not a valid email address.')"
   ]
  },
  {
   "cell_type": "code",
   "execution_count": 82,
   "id": "b8bc996d-edbe-44ea-bc0e-07991a2c8702",
   "metadata": {},
   "outputs": [],
   "source": [
    "# Splitting the email address into local and domain part. We will check these separately.\n",
    "local, domain = s19.split('@')\n",
    "# Checking if the local or domain part is empty\n",
    "if not local or not domain:\n",
    "    print('Not a valid email address')"
   ]
  },
  {
   "cell_type": "code",
   "execution_count": 83,
   "id": "94fe0683-33ce-495f-84df-ff4d3ac8c6db",
   "metadata": {},
   "outputs": [],
   "source": [
    "# valid_chars is a string containing all the characters that are considered valid in an email address on a general basis\n",
    "valid_chars = \"abcdefghijklmnopqrstuvwxyzABCDEFGHIJKLMNOPQRSTUVWXYZ0123456789~!$%^&*_=+}{'?-.\" "
   ]
  },
  {
   "cell_type": "code",
   "execution_count": 84,
   "id": "dbee1703-a057-4424-999a-240a707f1cc3",
   "metadata": {},
   "outputs": [],
   "source": [
    "# Checking if any character in the local part if is outside of valid_chars\n",
    "for i in local:\n",
    "    if i not in valid_chars:\n",
    "        print('Not a valid email address.')"
   ]
  },
  {
   "cell_type": "code",
   "execution_count": 85,
   "id": "a52805f3-9af9-4d0c-9cd2-3c99292b6905",
   "metadata": {},
   "outputs": [],
   "source": [
    "# Checking if the domain starts or ends with '.', in which case it would not be a vaid email address \n",
    "if domain.startswith('.') or domain.endswith('.'):\n",
    "    print('Not a valid email address')"
   ]
  },
  {
   "cell_type": "code",
   "execution_count": 86,
   "id": "8c4a302f-a80c-4cc0-ad13-4e50a2524aa0",
   "metadata": {},
   "outputs": [],
   "source": [
    "# Splitting the domain into two parts with '.' as the seprator \n",
    "domain_parts = domain.split('.')\n",
    "# Checking if any of the domain part is empty\n",
    "if not domain_parts[0] or not domain_parts[1]:\n",
    "    print('Not a valid email address')"
   ]
  },
  {
   "cell_type": "code",
   "execution_count": 87,
   "id": "b14e1329-9ea9-487b-8486-6345afee21cc",
   "metadata": {},
   "outputs": [
    {
     "name": "stdout",
     "output_type": "stream",
     "text": [
      "The given string is a valid email address.\n"
     ]
    }
   ],
   "source": [
    "print('The given string is a valid email address.') # 30."
   ]
  },
  {
   "cell_type": "code",
   "execution_count": 88,
   "id": "ee978247-2b8c-4e96-bc4b-8b783105ec45",
   "metadata": {},
   "outputs": [
    {
     "name": "stdout",
     "output_type": "stream",
     "text": [
      "The username of the given email address is:  akashdhar\n"
     ]
    }
   ],
   "source": [
    "print('The username of the given email address is: ', local) # 31."
   ]
  },
  {
   "cell_type": "code",
   "execution_count": 89,
   "id": "30d18f3d-252a-4b48-9197-c936d5e3c7c9",
   "metadata": {},
   "outputs": [
    {
     "name": "stdout",
     "output_type": "stream",
     "text": [
      "The domain name of the given email address is:  gmail.com\n"
     ]
    }
   ],
   "source": [
    "print('The domain name of the given email address is: ', domain) #32."
   ]
  },
  {
   "cell_type": "markdown",
   "id": "efa6e38f-e3ec-442f-a475-ca909d242e42",
   "metadata": {},
   "source": [
    "33. Replace multiple spaces in a string with a single space."
   ]
  },
  {
   "cell_type": "code",
   "execution_count": 90,
   "id": "8b6934b0-e008-4e84-912e-9aaed1358eee",
   "metadata": {},
   "outputs": [],
   "source": [
    "s20 = 'There  is  a  quick  brown  fox  in  the  backyard.'"
   ]
  },
  {
   "cell_type": "code",
   "execution_count": 91,
   "id": "d89e8b10-482b-4e1b-84b7-6e80d632173a",
   "metadata": {},
   "outputs": [
    {
     "data": {
      "text/plain": [
       "'There is a quick brown fox in the backyard.'"
      ]
     },
     "execution_count": 91,
     "metadata": {},
     "output_type": "execute_result"
    }
   ],
   "source": [
    "s20.replace('  ', ' ')"
   ]
  },
  {
   "cell_type": "markdown",
   "id": "d3a0dc03-12dd-4bdb-9312-1a4405f663b6",
   "metadata": {},
   "source": [
    "34. Check if a string is a valid URL.\n",
    "35. Extract the protocol (http or https) from a URL string."
   ]
  },
  {
   "cell_type": "code",
   "execution_count": 92,
   "id": "f48ca837-49b5-41ff-ab8b-252b63674156",
   "metadata": {},
   "outputs": [],
   "source": [
    "url = 'https://gray-waiter-chkxh.pwskills.app/lab/tree/work/Assignments/20th_August_Python_Basic_Datatypes.ipynb'"
   ]
  },
  {
   "cell_type": "code",
   "execution_count": 93,
   "id": "364d610e-8012-4a23-94cf-05c4489cf4f7",
   "metadata": {},
   "outputs": [],
   "source": [
    "# Checking if the URL contains a scheme\n",
    "if '://' not in url:\n",
    "    print('Not a valid URL.')"
   ]
  },
  {
   "cell_type": "code",
   "execution_count": 94,
   "id": "9f6ddd0a-6a97-4d9d-bcf4-02e8e3619e25",
   "metadata": {},
   "outputs": [],
   "source": [
    "# Checking the valid schemes of the URL\n",
    "valid_schemes = [\"http\", \"https\", \"ftp\", \"file\", \"mailto\"]\n",
    "\n",
    "if url.split('://')[0] not in valid_schemes:\n",
    "    print('Not a valid URL.')"
   ]
  },
  {
   "cell_type": "code",
   "execution_count": 95,
   "id": "deb9b327-13ac-4bf6-ba24-0c271874a526",
   "metadata": {},
   "outputs": [],
   "source": [
    "# Checking if the URL contains a host name\n",
    "host_start = url.index('://') + len('://')\n",
    "\n",
    "if len(url)<=host_start:\n",
    "    print('Not a valid URL.')\n",
    "    \n",
    "if '/' not in url[host_start:]:\n",
    "    print('Not a valid URL.')"
   ]
  },
  {
   "cell_type": "code",
   "execution_count": 96,
   "id": "5f7084d7-8547-4d18-9008-839db616b6ba",
   "metadata": {},
   "outputs": [
    {
     "name": "stdout",
     "output_type": "stream",
     "text": [
      "The given URL is valid.\n"
     ]
    }
   ],
   "source": [
    "print('The given URL is valid.') #34."
   ]
  },
  {
   "cell_type": "code",
   "execution_count": 97,
   "id": "94baca83-9af1-4f5a-ab38-a64f59f9092e",
   "metadata": {},
   "outputs": [
    {
     "name": "stdout",
     "output_type": "stream",
     "text": [
      "The protocol (http or https) from a URL string is:  https\n"
     ]
    }
   ],
   "source": [
    "print('The protocol (http or https) from a URL string is: ', url.split('://')[0])"
   ]
  },
  {
   "cell_type": "markdown",
   "id": "ed56d932-199a-4fa4-a6d8-2a74072d47d1",
   "metadata": {},
   "source": [
    "36. Find the frequency of each character in a string."
   ]
  },
  {
   "cell_type": "code",
   "execution_count": 98,
   "id": "6cbb76cd-34f0-463b-9acd-d4330d7f0c5e",
   "metadata": {},
   "outputs": [],
   "source": [
    "s21 = \"I am who I am. I don't have to give you any explaination.\""
   ]
  },
  {
   "cell_type": "code",
   "execution_count": 99,
   "id": "bbeb7bb5-7adf-452f-8ec2-04fd67a0d022",
   "metadata": {},
   "outputs": [],
   "source": [
    "freq = {}\n",
    "\n",
    "for i in s21:\n",
    "    if i in freq:\n",
    "        freq[i] += 1\n",
    "    else:\n",
    "        freq[i] = 1"
   ]
  },
  {
   "cell_type": "code",
   "execution_count": 100,
   "id": "02949087-73e0-45f6-a894-5bb2b29cbc06",
   "metadata": {},
   "outputs": [
    {
     "name": "stdout",
     "output_type": "stream",
     "text": [
      "The freqency of each character in the given string is:  {'I': 3, ' ': 12, 'a': 6, 'm': 2, 'w': 1, 'h': 2, 'o': 5, '.': 2, 'd': 1, 'n': 4, \"'\": 1, 't': 3, 'v': 2, 'e': 3, 'g': 1, 'i': 3, 'y': 2, 'u': 1, 'x': 1, 'p': 1, 'l': 1}\n"
     ]
    }
   ],
   "source": [
    "print('The freqency of each character in the given string is: ', freq)"
   ]
  },
  {
   "cell_type": "markdown",
   "id": "bb9564f6-d79e-4db3-beff-47411952cc08",
   "metadata": {},
   "source": [
    "37. Remove all punctuation from a string."
   ]
  },
  {
   "cell_type": "code",
   "execution_count": 101,
   "id": "6b7e6a8b-4580-4a5f-a76e-84595347cd65",
   "metadata": {},
   "outputs": [],
   "source": [
    "s22 = \"Wow! What is that thing? It is so beautiful, I can't take my eyes off of it.\""
   ]
  },
  {
   "cell_type": "code",
   "execution_count": 102,
   "id": "980f8580-4767-4609-846b-dd12b4de9845",
   "metadata": {},
   "outputs": [],
   "source": [
    "punctuations = '''!\"#$%&'()*+,-./:;<=>?@[\\]^_`{|}~'''"
   ]
  },
  {
   "cell_type": "code",
   "execution_count": 103,
   "id": "4cb10823-59ca-4f89-9208-aecba0849eda",
   "metadata": {},
   "outputs": [],
   "source": [
    "for i in s22:\n",
    "    if i in punctuations:\n",
    "        s22 = s22.replace(i,'')"
   ]
  },
  {
   "cell_type": "code",
   "execution_count": 104,
   "id": "6b9c4cab-7fd6-493d-b3f8-4fe9698dffd1",
   "metadata": {},
   "outputs": [
    {
     "name": "stdout",
     "output_type": "stream",
     "text": [
      "The string after removal of all punctuations is:  Wow What is that thing It is so beautiful I cant take my eyes off of it\n"
     ]
    }
   ],
   "source": [
    "print('The string after removal of all punctuations is: ', s22)"
   ]
  },
  {
   "cell_type": "markdown",
   "id": "43d4cf63-f6eb-43e7-9480-f3cb63fe6806",
   "metadata": {},
   "source": [
    "38. Check if a string contains only digits."
   ]
  },
  {
   "cell_type": "code",
   "execution_count": 105,
   "id": "baea8db6-cdae-4d8b-92b7-c52b8b618390",
   "metadata": {},
   "outputs": [],
   "source": [
    "s23 = 'What is the number between 22 and 24?'"
   ]
  },
  {
   "cell_type": "code",
   "execution_count": 106,
   "id": "18cfe1b7-5683-484b-abe5-5e09b8850e50",
   "metadata": {},
   "outputs": [
    {
     "data": {
      "text/plain": [
       "False"
      ]
     },
     "execution_count": 106,
     "metadata": {},
     "output_type": "execute_result"
    }
   ],
   "source": [
    "s23.isdigit()"
   ]
  },
  {
   "cell_type": "markdown",
   "id": "8bd07005-6a15-4fd9-8940-f6b7340030cc",
   "metadata": {},
   "source": [
    "39. Check if a string contains only alphabets."
   ]
  },
  {
   "cell_type": "code",
   "execution_count": 107,
   "id": "e4f0e10a-a124-402b-bafd-2b2b66f305ef",
   "metadata": {},
   "outputs": [
    {
     "data": {
      "text/plain": [
       "'What is the number between 22 and 24?'"
      ]
     },
     "execution_count": 107,
     "metadata": {},
     "output_type": "execute_result"
    }
   ],
   "source": [
    "s23"
   ]
  },
  {
   "cell_type": "code",
   "execution_count": 108,
   "id": "da465d1f-bcde-42b4-9ba4-057d8a76edb5",
   "metadata": {},
   "outputs": [
    {
     "data": {
      "text/plain": [
       "False"
      ]
     },
     "execution_count": 108,
     "metadata": {},
     "output_type": "execute_result"
    }
   ],
   "source": [
    "s23.isalpha()"
   ]
  },
  {
   "cell_type": "markdown",
   "id": "3d5157ca-c437-460d-8011-fe087781db85",
   "metadata": {},
   "source": [
    "40. Convert a string to a list of characters."
   ]
  },
  {
   "cell_type": "code",
   "execution_count": 109,
   "id": "ac7f3aea-bccf-4844-91dc-118f993ef9e9",
   "metadata": {},
   "outputs": [
    {
     "data": {
      "text/plain": [
       "'What is the number between 22 and 24?'"
      ]
     },
     "execution_count": 109,
     "metadata": {},
     "output_type": "execute_result"
    }
   ],
   "source": [
    "s23"
   ]
  },
  {
   "cell_type": "code",
   "execution_count": 110,
   "id": "6e291e60-ff99-4aa4-966e-acb97b70efeb",
   "metadata": {},
   "outputs": [],
   "source": [
    "l3 = list(s23)"
   ]
  },
  {
   "cell_type": "code",
   "execution_count": 111,
   "id": "fd2f3c66-2c20-4843-951b-fb41910a788b",
   "metadata": {},
   "outputs": [
    {
     "name": "stdout",
     "output_type": "stream",
     "text": [
      "The string converted to a list is:  ['W', 'h', 'a', 't', ' ', 'i', 's', ' ', 't', 'h', 'e', ' ', 'n', 'u', 'm', 'b', 'e', 'r', ' ', 'b', 'e', 't', 'w', 'e', 'e', 'n', ' ', '2', '2', ' ', 'a', 'n', 'd', ' ', '2', '4', '?']\n"
     ]
    }
   ],
   "source": [
    "print(\"The string converted to a list is: \", l3)"
   ]
  },
  {
   "cell_type": "markdown",
   "id": "e10ed83f-31c5-46c3-9402-9c596f1ae148",
   "metadata": {},
   "source": [
    "41. Check if two strings are anagrams."
   ]
  },
  {
   "cell_type": "code",
   "execution_count": 112,
   "id": "5431ccf7-8899-4b63-abd2-9fb3ab16465c",
   "metadata": {},
   "outputs": [],
   "source": [
    "string1 = 'abcdef'\n",
    "string2 = 'afecdb'"
   ]
  },
  {
   "cell_type": "code",
   "execution_count": 113,
   "id": "fdcba0f7-e6b1-4d04-8662-4347d8a24690",
   "metadata": {},
   "outputs": [],
   "source": [
    "set1 = set(string1)\n",
    "set2 = set(string2)"
   ]
  },
  {
   "cell_type": "code",
   "execution_count": 114,
   "id": "b1fe9772-5ec1-4e76-a241-45f00d5e17d1",
   "metadata": {},
   "outputs": [
    {
     "name": "stdout",
     "output_type": "stream",
     "text": [
      "The two strings are anagrams.\n"
     ]
    }
   ],
   "source": [
    "if set1 == set2:\n",
    "    print('The two strings are anagrams.')"
   ]
  },
  {
   "cell_type": "markdown",
   "id": "5c7dba24-2dbc-40ca-956a-4ac09ff18e4c",
   "metadata": {},
   "source": [
    "42. Encode a string using a Caesar cipher.\n",
    "43. Decode a Caesar cipher encoded string."
   ]
  },
  {
   "cell_type": "code",
   "execution_count": 115,
   "id": "1263bb06-440c-4076-829b-84509315e61e",
   "metadata": {},
   "outputs": [],
   "source": [
    "s24 = 'brackets'"
   ]
  },
  {
   "cell_type": "code",
   "execution_count": 116,
   "id": "870050c4-4977-4a58-b742-6061a6db7cda",
   "metadata": {},
   "outputs": [],
   "source": [
    "# ENCODING\n",
    "\n",
    "encoded_string = []\n",
    "# Assigning a shift value as is required in Ceaser Cipher\n",
    "shift = 6\n",
    "\n",
    "for i in s24:\n",
    "#   Checking/assigning the shift within the range of 0-25\n",
    "    actual_shift = shift%26\n",
    "    \n",
    "#   Assigning an offset value based on whether the current character is an uppercase or lowercase alphabet\n",
    "    ascii_offset = ord('A') if i.isupper() else ord('a') \n",
    "    \n",
    "    ''' \n",
    "    Explaination using example:\n",
    "    Let's take the example of s24. The first charcater is 'b'. \n",
    "    \n",
    "    ord('b') = 98\n",
    "    ascii_offset = 97\n",
    "    ord('b')-ascii_offset = 98-97 = 1 ; This normalises 'b' within the range of 0-25\n",
    "    ord('b')-ascii_offset+actual_shift = 1+6 = 7 ; The shift is done\n",
    "    (ord('b')-ascii_offset+actual_shift)%26 = 7%26 = 7 ; This normalises the value again within the range of 0-25\n",
    "    ((ord('b')-ascii_offset+actual_shift)%26)+ascii_offset = 7+97 = 104 ; Adding the ascii_offset, to convert back to original range\n",
    "    chr(((ord('b')-ascii_offset+actual_shift)%26)+ascii_offset) = chr(104) = 'h' ; This finally gives us the Ceaser Cipher for 'b'\n",
    "    \n",
    "    The rest of the process is similar.\n",
    "    '''\n",
    "\n",
    "    encoded_char = chr(((ord(i) - ascii_offset + actual_shift)%26)+ascii_offset)\n",
    "    encoded_string.append(encoded_char)"
   ]
  },
  {
   "cell_type": "code",
   "execution_count": 117,
   "id": "2af45929-4fdd-479d-809b-01c8b4230ecd",
   "metadata": {},
   "outputs": [
    {
     "name": "stdout",
     "output_type": "stream",
     "text": [
      "The encoded string using Ceaser Cipher is:  hxgiqkzy\n"
     ]
    }
   ],
   "source": [
    "print('The encoded string using Ceaser Cipher is: ', ''.join(encoded_string)) #42."
   ]
  },
  {
   "cell_type": "code",
   "execution_count": 118,
   "id": "e422e57d-d5bc-4aa4-8510-77a023d0b9ba",
   "metadata": {},
   "outputs": [],
   "source": [
    "# DECODING\n",
    "\n",
    "decoded_string = []\n",
    "# Assigning shift value as -shift for decoding of the cipher\n",
    "shift = -shift\n",
    "\n",
    "for i in encoded_string:\n",
    "#   Checking/assigning the shift within the range of 0-25\n",
    "    actual_shift = shift%26\n",
    "    \n",
    "#   Assigning an offset value based on whether the current character is an uppercase or lowercase alphabet\n",
    "    ascii_offset = ord('A') if i.isupper() else ord('a') \n",
    "\n",
    "    decoded_char = chr(((ord(i) - ascii_offset + actual_shift)%26)+ascii_offset)\n",
    "    decoded_string.append(decoded_char)"
   ]
  },
  {
   "cell_type": "code",
   "execution_count": 119,
   "id": "12ce6c52-96b6-4210-80fa-6354a4b3aa38",
   "metadata": {},
   "outputs": [
    {
     "name": "stdout",
     "output_type": "stream",
     "text": [
      "The decoded string using Ceaser Cipher is:  brackets\n"
     ]
    }
   ],
   "source": [
    "print('The decoded string using Ceaser Cipher is: ', ''.join(decoded_string)) #43."
   ]
  },
  {
   "cell_type": "markdown",
   "id": "c88af79d-6d91-4646-ae38-7770ffb400e6",
   "metadata": {},
   "source": [
    "44. Find the most frequent word in a string."
   ]
  },
  {
   "cell_type": "code",
   "execution_count": 120,
   "id": "7ff9e57d-67f7-4dc6-959f-b6fa8413de6f",
   "metadata": {},
   "outputs": [
    {
     "data": {
      "text/plain": [
       "\"I am who I am. I don't have to give you any explaination.\""
      ]
     },
     "execution_count": 120,
     "metadata": {},
     "output_type": "execute_result"
    }
   ],
   "source": [
    "s21"
   ]
  },
  {
   "cell_type": "code",
   "execution_count": 121,
   "id": "4e543a22-ff3a-4566-9fff-6578f8c5b2ff",
   "metadata": {},
   "outputs": [],
   "source": [
    "# Importing string module to use the string.punctuation method. \n",
    "import string\n",
    "\n",
    "# This makes a translation table that maps each punctuation into a space.\n",
    "translator = str.maketrans(string.punctuation, ' '*len(string.punctuation))\n",
    "\n",
    "# Appying the translator on the given string s21\n",
    "cleared_str = s21.translate(translator).lower()"
   ]
  },
  {
   "cell_type": "code",
   "execution_count": 122,
   "id": "a4451a7a-ffee-4309-bfd5-536e1e25bf68",
   "metadata": {},
   "outputs": [],
   "source": [
    "l4 = s21.split(' ')"
   ]
  },
  {
   "cell_type": "code",
   "execution_count": 123,
   "id": "c4b6554c-110b-4424-8e52-aab8e95f95b1",
   "metadata": {},
   "outputs": [],
   "source": [
    "freq = {}\n",
    "\n",
    "for i in l4:\n",
    "    if i in freq:\n",
    "        freq[i] += 1\n",
    "    else:\n",
    "        freq[i] = 1\n",
    "        \n",
    "most_freq_word = max(freq, key=freq.get)"
   ]
  },
  {
   "cell_type": "code",
   "execution_count": 124,
   "id": "1c8021c8-b4f3-48ca-981f-6284cd027290",
   "metadata": {},
   "outputs": [
    {
     "name": "stdout",
     "output_type": "stream",
     "text": [
      "The most frequent word in the given string is:  I\n"
     ]
    }
   ],
   "source": [
    "print('The most frequent word in the given string is: ', most_freq_word)"
   ]
  },
  {
   "cell_type": "markdown",
   "id": "d7bb7ae4-b0ef-4618-acc1-29f42be79855",
   "metadata": {},
   "source": [
    "45. Find all unique words in a string."
   ]
  },
  {
   "cell_type": "code",
   "execution_count": 125,
   "id": "fea5b51a-cf36-4322-b690-d05424dd8ce6",
   "metadata": {},
   "outputs": [],
   "source": [
    "s25 = 'What is there to be discuss? What is it? There shall be no more disscussion on this.'"
   ]
  },
  {
   "cell_type": "code",
   "execution_count": 126,
   "id": "9a932721-325c-434e-adf3-b2dbcde63799",
   "metadata": {},
   "outputs": [],
   "source": [
    "translated = str.maketrans(string.punctuation, ' '*len(string.punctuation))\n",
    "cleared_string = s25.translate(translated).lower()"
   ]
  },
  {
   "cell_type": "code",
   "execution_count": 127,
   "id": "2c81fb02-36d9-4651-86db-8aaac8594461",
   "metadata": {},
   "outputs": [
    {
     "data": {
      "text/plain": [
       "'what is there to be discuss  what is it  there shall be no more disscussion on this '"
      ]
     },
     "execution_count": 127,
     "metadata": {},
     "output_type": "execute_result"
    }
   ],
   "source": [
    "cleared_string"
   ]
  },
  {
   "cell_type": "code",
   "execution_count": 128,
   "id": "2f9a8699-1c8f-4066-b6a3-9d83e21e8921",
   "metadata": {},
   "outputs": [],
   "source": [
    "l5 = cleared_string.split()"
   ]
  },
  {
   "cell_type": "code",
   "execution_count": 129,
   "id": "cc2cad12-20b8-4566-8b3c-97d35fd81e1a",
   "metadata": {},
   "outputs": [],
   "source": [
    "freq = {}\n",
    "for i in l5:\n",
    "    if i in freq:\n",
    "        freq[i] += 1\n",
    "    else:\n",
    "        freq[i] = 1"
   ]
  },
  {
   "cell_type": "code",
   "execution_count": 130,
   "id": "daea95d4-6662-48f9-a59c-6e8ba032984f",
   "metadata": {},
   "outputs": [],
   "source": [
    "unique_words = []\n",
    "\n",
    "for i in freq:\n",
    "    if freq[i] == 1:\n",
    "        unique_words.append(i)"
   ]
  },
  {
   "cell_type": "code",
   "execution_count": 131,
   "id": "576ef3af-5bd9-42e2-91a5-890bb20e10b5",
   "metadata": {},
   "outputs": [
    {
     "name": "stdout",
     "output_type": "stream",
     "text": [
      "All the unique words in the string are as follows:  ['to', 'discuss', 'it', 'shall', 'no', 'more', 'disscussion', 'on', 'this']\n"
     ]
    }
   ],
   "source": [
    "print('All the unique words in the string are as follows: ', unique_words)"
   ]
  },
  {
   "cell_type": "markdown",
   "id": "7a079f85-e9d4-478d-9137-7414c0fc05e9",
   "metadata": {},
   "source": [
    "46. Count the number of syllables in a string."
   ]
  },
  {
   "cell_type": "code",
   "execution_count": 132,
   "id": "08cd80c5-01ca-4848-ac11-7b19b22fe9fb",
   "metadata": {},
   "outputs": [],
   "source": [
    "s26 = 'This is a test. This test is only a test!'"
   ]
  },
  {
   "cell_type": "code",
   "execution_count": 133,
   "id": "8e8bed54-0a80-4543-bafc-d233ef4af3b8",
   "metadata": {},
   "outputs": [],
   "source": [
    "translated = str.maketrans(string.punctuation, ' '*len(string.punctuation))\n",
    "cleared_string = s26.translate(translated).lower()"
   ]
  },
  {
   "cell_type": "code",
   "execution_count": 134,
   "id": "1c25c679-d8f6-452d-bf3c-c93a02396957",
   "metadata": {
    "tags": []
   },
   "outputs": [],
   "source": [
    "words = cleared_string.split()"
   ]
  },
  {
   "cell_type": "code",
   "execution_count": 135,
   "id": "8c46b821-247f-4a4d-9fa4-e57c4067370c",
   "metadata": {},
   "outputs": [
    {
     "data": {
      "text/plain": [
       "['this', 'is', 'a', 'test', 'this', 'test', 'is', 'only', 'a', 'test']"
      ]
     },
     "execution_count": 135,
     "metadata": {},
     "output_type": "execute_result"
    }
   ],
   "source": [
    "words"
   ]
  },
  {
   "cell_type": "code",
   "execution_count": 136,
   "id": "192ffb9e-2e23-417b-a444-c58090b1b348",
   "metadata": {},
   "outputs": [],
   "source": [
    "vowels = 'aeiouy'\n",
    "total_syllable = 0\n",
    "\n",
    "for word in words:\n",
    "    syllable_count = 0\n",
    "    prev_word_vowel = False\n",
    "\n",
    "    # Counting the number of syllables\n",
    "    for i, char in enumerate(word):\n",
    "        # print(i, char)\n",
    "        if char in vowels:\n",
    "            if not prev_word_vowel:\n",
    "                syllable_count += 1\n",
    "                prev_word_vowel = True\n",
    "        else:\n",
    "            prev_word_vowel = False\n",
    "\n",
    "    # Handling the silent 'e'\n",
    "    if word.endswith('e') and syllable_count>1:\n",
    "        syllable_count -= 1\n",
    "\n",
    "    # Setting the syllable count to 1 in case the syllable count is 0\n",
    "    if syllable_count == 0:\n",
    "        syllable_count = 1\n",
    "        \n",
    "    # Adding the syllables from each word in the list\n",
    "    total_syllable += syllable_count"
   ]
  },
  {
   "cell_type": "code",
   "execution_count": 137,
   "id": "fcd2dd16-77d9-45f2-a281-94c8e2d36e32",
   "metadata": {},
   "outputs": [
    {
     "name": "stdout",
     "output_type": "stream",
     "text": [
      "The total number of syllables in the given string are:  11\n"
     ]
    }
   ],
   "source": [
    "print('The total number of syllables in the given string are: ', total_syllable)"
   ]
  },
  {
   "cell_type": "markdown",
   "id": "22535f61-0968-432b-9646-4b4308b322ed",
   "metadata": {},
   "source": [
    "47. Check if a string contains any special characters."
   ]
  },
  {
   "cell_type": "code",
   "execution_count": 138,
   "id": "96a7f3e0-51ee-4251-824a-4ec3b4f54562",
   "metadata": {},
   "outputs": [
    {
     "data": {
      "text/plain": [
       "\"I am who I am. I don't have to give you any explaination.\""
      ]
     },
     "execution_count": 138,
     "metadata": {},
     "output_type": "execute_result"
    }
   ],
   "source": [
    "s21"
   ]
  },
  {
   "cell_type": "code",
   "execution_count": 139,
   "id": "8ccfcf17-a602-4557-ba3b-869c74d491bd",
   "metadata": {},
   "outputs": [],
   "source": [
    "special_char = '''!@#$%^&*()_-+={}[]|\\:;''\"\"<,>.?/~`'''"
   ]
  },
  {
   "cell_type": "code",
   "execution_count": 140,
   "id": "1a9efd2f-4e2c-494a-beb4-eb39a8100627",
   "metadata": {},
   "outputs": [
    {
     "name": "stdout",
     "output_type": "stream",
     "text": [
      "The given string contains the following special charcters:  ['.', \"'\", '.']\n"
     ]
    }
   ],
   "source": [
    "l6 = [] \n",
    "\n",
    "for i in s21:\n",
    "    if i in special_char:\n",
    "        l6.append(i)  \n",
    "\n",
    "if len(l6) == 0:\n",
    "    print('The given string does not contain any special characters.')\n",
    "else:\n",
    "    print('The given string contains the following special charcters: ', l6)"
   ]
  },
  {
   "cell_type": "markdown",
   "id": "1bfa6635-26cc-4573-bb9c-29ced629b884",
   "metadata": {},
   "source": [
    "48. Remove the nth word from a string.\n",
    "49. Insert a word at the nth position in a string."
   ]
  },
  {
   "cell_type": "code",
   "execution_count": 141,
   "id": "56773eea-f37c-471b-9b8c-37acb35aa1cb",
   "metadata": {},
   "outputs": [
    {
     "name": "stdin",
     "output_type": "stream",
     "text": [
      "Enter the string:  what is this place\n"
     ]
    }
   ],
   "source": [
    "s27 = input('Enter the string: ')"
   ]
  },
  {
   "cell_type": "code",
   "execution_count": 142,
   "id": "03eff2c9-1a1f-43ac-ba51-cf7aed43d7dd",
   "metadata": {},
   "outputs": [],
   "source": [
    "words = s27.split()"
   ]
  },
  {
   "cell_type": "code",
   "execution_count": 143,
   "id": "67d56ad8-b929-41cf-b5a6-e1cf09bb2dfd",
   "metadata": {},
   "outputs": [
    {
     "name": "stdin",
     "output_type": "stream",
     "text": [
      "Enter the index (from 1 to 4) of the word you want to remove:  3\n"
     ]
    }
   ],
   "source": [
    "n_word1 = int(input('Enter the index (from 1 to {}) of the word you want to remove: '.format(len(words))))"
   ]
  },
  {
   "cell_type": "code",
   "execution_count": 144,
   "id": "6fe4e694-d442-4223-abb9-413a33d7b728",
   "metadata": {},
   "outputs": [],
   "source": [
    "if not isinstance(s27, str):\n",
    "    print('Input must be a string')"
   ]
  },
  {
   "cell_type": "code",
   "execution_count": 145,
   "id": "fa83ec02-adcd-44b3-814f-9cc2ba5721ac",
   "metadata": {},
   "outputs": [],
   "source": [
    "if n_word1 < 0 or n_word1 > len(words):\n",
    "    print('Input must be in the range of 1 to {}.'.format(len(words)))"
   ]
  },
  {
   "cell_type": "code",
   "execution_count": 146,
   "id": "d0e8d759-2cf5-47c1-8f24-995b2ccb1ddf",
   "metadata": {},
   "outputs": [],
   "source": [
    "punc_char = string.punctuation   \n",
    "\n",
    "cleaned_words = [''.join(char for char in word if char not in punc_char)for word in words]"
   ]
  },
  {
   "cell_type": "code",
   "execution_count": 147,
   "id": "268cfb4c-f286-4523-89a9-e968c3f85208",
   "metadata": {},
   "outputs": [
    {
     "data": {
      "text/plain": [
       "['what', 'is', 'this', 'place']"
      ]
     },
     "execution_count": 147,
     "metadata": {},
     "output_type": "execute_result"
    }
   ],
   "source": [
    "cleaned_words"
   ]
  },
  {
   "cell_type": "code",
   "execution_count": 148,
   "id": "88bcbff2-27ff-4ea1-a6e9-69f591f00696",
   "metadata": {},
   "outputs": [],
   "source": [
    "del cleaned_words[n_word1-1]"
   ]
  },
  {
   "cell_type": "code",
   "execution_count": 149,
   "id": "d52361ea-ed5a-471f-ae0f-fa954b7300f0",
   "metadata": {},
   "outputs": [],
   "source": [
    "result_string1 = ' '.join(cleaned_words)"
   ]
  },
  {
   "cell_type": "code",
   "execution_count": 150,
   "id": "4bd9bf84-2041-4289-a302-d63a1485b042",
   "metadata": {},
   "outputs": [
    {
     "name": "stdout",
     "output_type": "stream",
     "text": [
      "The resulting string after removing the word at index 3 is:  what is place\n"
     ]
    }
   ],
   "source": [
    "print('The resulting string after removing the word at index {} is: '.format(n_word1), result_string1) #48."
   ]
  },
  {
   "cell_type": "code",
   "execution_count": 151,
   "id": "30b67889-59d4-467b-a31d-64dfeee0af51",
   "metadata": {},
   "outputs": [
    {
     "name": "stdin",
     "output_type": "stream",
     "text": [
      "Enter the index (from 1 to 3) where you want to insert the new word:  3\n"
     ]
    }
   ],
   "source": [
    "n_word2 = int(input('Enter the index (from 1 to {}) where you want to insert the new word: '.format(len(cleaned_words))))"
   ]
  },
  {
   "cell_type": "code",
   "execution_count": 152,
   "id": "467a97db-b439-446c-9ebc-61a9c628052d",
   "metadata": {},
   "outputs": [
    {
     "name": "stdin",
     "output_type": "stream",
     "text": [
      "Enter the word that you want to insert:  this\n"
     ]
    }
   ],
   "source": [
    "insert_word = input('Enter the word that you want to insert: ')"
   ]
  },
  {
   "cell_type": "code",
   "execution_count": 153,
   "id": "27ba63f8-3613-4b81-8d44-efe4aedca4ba",
   "metadata": {},
   "outputs": [],
   "source": [
    "cleaned_words.insert(n_word2-1, insert_word)"
   ]
  },
  {
   "cell_type": "code",
   "execution_count": 154,
   "id": "ed491c75-5746-437d-869e-c55cec42b6ba",
   "metadata": {},
   "outputs": [],
   "source": [
    "result_string2 = ' '.join(cleaned_words)"
   ]
  },
  {
   "cell_type": "code",
   "execution_count": 155,
   "id": "1aa8085a-42a8-47d9-9f34-c1875f700ed0",
   "metadata": {},
   "outputs": [
    {
     "name": "stdout",
     "output_type": "stream",
     "text": [
      "The resulting string after inserting the word at index 3 is:  what is this place\n"
     ]
    }
   ],
   "source": [
    "print('The resulting string after inserting the word at index {} is: '.format(n_word2), result_string2) #49."
   ]
  },
  {
   "cell_type": "markdown",
   "id": "cc5b74bb-871e-4f0b-a6a6-668639a3748d",
   "metadata": {},
   "source": [
    "50. Convert a CSV string to a list of lists."
   ]
  },
  {
   "cell_type": "code",
   "execution_count": 156,
   "id": "ead941c9-3ceb-41a2-af17-ac1e8df3154d",
   "metadata": {},
   "outputs": [],
   "source": [
    "csv_string = '''name,age,city\n",
    "Akash,26,Jammu\n",
    "Anuj,28,Datia\n",
    "Chetan,27,Port Blair'''"
   ]
  },
  {
   "cell_type": "code",
   "execution_count": 157,
   "id": "89581c67-6a8d-48d4-be73-d9b707e5bdcb",
   "metadata": {},
   "outputs": [],
   "source": [
    "import csv\n",
    "from io import StringIO"
   ]
  },
  {
   "cell_type": "code",
   "execution_count": 158,
   "id": "e1948b8c-76c7-4dfa-9086-bbdb575c14ca",
   "metadata": {},
   "outputs": [],
   "source": [
    "csv_file = StringIO(csv_string)"
   ]
  },
  {
   "cell_type": "code",
   "execution_count": 159,
   "id": "a452039d-2b34-4020-9d08-9729a87aa884",
   "metadata": {},
   "outputs": [],
   "source": [
    "reader = csv.reader(csv_file)"
   ]
  },
  {
   "cell_type": "code",
   "execution_count": 160,
   "id": "0b1ab9d5-dd5a-4de1-b684-0cbcb968a0c5",
   "metadata": {},
   "outputs": [],
   "source": [
    "list_of_lists = [row for row in reader]"
   ]
  },
  {
   "cell_type": "code",
   "execution_count": 161,
   "id": "4d59aedc-0056-4be2-8634-112c8bd1fa62",
   "metadata": {},
   "outputs": [
    {
     "name": "stdout",
     "output_type": "stream",
     "text": [
      "The CSV string converted to list of lists is as follows: \n",
      " [['name', 'age', 'city'], ['Akash', '26', 'Jammu'], ['Anuj', '28', 'Datia'], ['Chetan', '27', 'Port Blair']]\n"
     ]
    }
   ],
   "source": [
    "print('The CSV string converted to list of lists is as follows: \\n', list_of_lists)"
   ]
  },
  {
   "cell_type": "markdown",
   "id": "d44e8172-8a36-46b0-934a-e8ffc9086e42",
   "metadata": {},
   "source": [
    "# List Based Practice Problem :"
   ]
  },
  {
   "cell_type": "markdown",
   "id": "af001363-1ea2-4a47-90f3-b90ee9db1510",
   "metadata": {},
   "source": [
    "1. Create a list with integers from 1 to 10."
   ]
  },
  {
   "cell_type": "code",
   "execution_count": 162,
   "id": "0a6d6c46-98ed-40da-939b-ef734ec71137",
   "metadata": {},
   "outputs": [],
   "source": [
    "l1 = list(range(10))"
   ]
  },
  {
   "cell_type": "code",
   "execution_count": 163,
   "id": "913b6e1a-66db-425d-8212-a2f494de0d02",
   "metadata": {},
   "outputs": [
    {
     "name": "stdout",
     "output_type": "stream",
     "text": [
      "List with integers from 1 to 10:  [0, 1, 2, 3, 4, 5, 6, 7, 8, 9]\n"
     ]
    }
   ],
   "source": [
    "print('List with integers from 1 to 10: ', l1)"
   ]
  },
  {
   "cell_type": "markdown",
   "id": "6f58c27c-521b-4f8c-9e5e-6875adcb7f87",
   "metadata": {},
   "source": [
    "2. Find the length of a list without using the `len()` function."
   ]
  },
  {
   "cell_type": "code",
   "execution_count": 164,
   "id": "166fec39-d50e-45b2-ba59-8e3fadfef31c",
   "metadata": {},
   "outputs": [
    {
     "data": {
      "text/plain": [
       "[0, 1, 2, 3, 4, 5, 6, 7, 8, 9]"
      ]
     },
     "execution_count": 164,
     "metadata": {},
     "output_type": "execute_result"
    }
   ],
   "source": [
    "l1"
   ]
  },
  {
   "cell_type": "code",
   "execution_count": 165,
   "id": "275b2713-2c67-4206-984c-4066ed3ce63b",
   "metadata": {},
   "outputs": [
    {
     "name": "stdout",
     "output_type": "stream",
     "text": [
      "The length of the list is:  10\n"
     ]
    }
   ],
   "source": [
    "count = 0\n",
    "\n",
    "for i in l1:\n",
    "    count += 1\n",
    "    \n",
    "print('The length of the list is: ', count)"
   ]
  },
  {
   "cell_type": "markdown",
   "id": "050ffcff-34fb-4262-adeb-9d1eaeb2e257",
   "metadata": {},
   "source": [
    "3. Append an element to the end of a list."
   ]
  },
  {
   "cell_type": "code",
   "execution_count": 166,
   "id": "e9225128-6f4c-48cb-8efb-0b46bf796921",
   "metadata": {},
   "outputs": [
    {
     "data": {
      "text/plain": [
       "[0, 1, 2, 3, 4, 5, 6, 7, 8, 9]"
      ]
     },
     "execution_count": 166,
     "metadata": {},
     "output_type": "execute_result"
    }
   ],
   "source": [
    "l1"
   ]
  },
  {
   "cell_type": "code",
   "execution_count": 167,
   "id": "b7de9479-5251-4744-bd9c-29a093a70cb0",
   "metadata": {},
   "outputs": [],
   "source": [
    "l1.append(10)"
   ]
  },
  {
   "cell_type": "code",
   "execution_count": 168,
   "id": "df199bb8-78b1-4d27-ac60-90fed730f324",
   "metadata": {},
   "outputs": [
    {
     "name": "stdout",
     "output_type": "stream",
     "text": [
      "The new list with an element added to its end is:  [0, 1, 2, 3, 4, 5, 6, 7, 8, 9, 10]\n"
     ]
    }
   ],
   "source": [
    "print('The new list with an element added to its end is: ', l1)"
   ]
  },
  {
   "cell_type": "markdown",
   "id": "a4c7ffdd-4b43-4e25-a9a0-b370b59aa196",
   "metadata": {},
   "source": [
    "4. Insert an element at a specific index in a list."
   ]
  },
  {
   "cell_type": "code",
   "execution_count": 169,
   "id": "9ee83c15-decd-41f6-9cac-f32ee3d5e1ad",
   "metadata": {},
   "outputs": [
    {
     "data": {
      "text/plain": [
       "[0, 1, 2, 3, 4, 5, 6, 7, 8, 9, 10]"
      ]
     },
     "execution_count": 169,
     "metadata": {},
     "output_type": "execute_result"
    }
   ],
   "source": [
    "l1"
   ]
  },
  {
   "cell_type": "code",
   "execution_count": 170,
   "id": "42f0a83c-5886-42c4-a72e-be444dd9a8c8",
   "metadata": {},
   "outputs": [],
   "source": [
    "l1.insert(4, 11)\n",
    "l1.insert(10, 11)"
   ]
  },
  {
   "cell_type": "code",
   "execution_count": 171,
   "id": "dddadeb3-83c8-4f03-8265-cae4981cba62",
   "metadata": {},
   "outputs": [
    {
     "name": "stdout",
     "output_type": "stream",
     "text": [
      "The new list is:  [0, 1, 2, 3, 11, 4, 5, 6, 7, 8, 11, 9, 10]\n"
     ]
    }
   ],
   "source": [
    "print('The new list is: ', l1)"
   ]
  },
  {
   "cell_type": "markdown",
   "id": "937ba769-0c93-4bab-952c-09676e383aa7",
   "metadata": {},
   "source": [
    "5. Remove an element from a list by its value."
   ]
  },
  {
   "cell_type": "code",
   "execution_count": 172,
   "id": "ab3c062b-2dbb-49ab-9976-ecff212374a0",
   "metadata": {},
   "outputs": [
    {
     "data": {
      "text/plain": [
       "[0, 1, 2, 3, 11, 4, 5, 6, 7, 8, 11, 9, 10]"
      ]
     },
     "execution_count": 172,
     "metadata": {},
     "output_type": "execute_result"
    }
   ],
   "source": [
    "l1"
   ]
  },
  {
   "cell_type": "code",
   "execution_count": 173,
   "id": "c3d28daf-fc96-4664-a728-58822575489e",
   "metadata": {},
   "outputs": [],
   "source": [
    "value_to_remove = 11"
   ]
  },
  {
   "cell_type": "code",
   "execution_count": 174,
   "id": "a18d8b7d-3a2a-41ac-8af1-e064094c1a0e",
   "metadata": {},
   "outputs": [],
   "source": [
    "# Using for loop to remove all occurences of the element to be removed\n",
    "for i in l1:\n",
    "    if l1[i] == value_to_remove:\n",
    "        l1.remove(value_to_remove)"
   ]
  },
  {
   "cell_type": "code",
   "execution_count": 175,
   "id": "4a8f7045-8209-41a7-a5bd-068ed4e08a9f",
   "metadata": {},
   "outputs": [
    {
     "name": "stdout",
     "output_type": "stream",
     "text": [
      "The new list is:  [0, 1, 2, 3, 4, 5, 6, 7, 8, 9, 10]\n"
     ]
    }
   ],
   "source": [
    "print('The new list is: ', l1)"
   ]
  },
  {
   "cell_type": "markdown",
   "id": "c6bf6cdb-a5c6-4a25-b227-6082e7c10a55",
   "metadata": {},
   "source": [
    "6. Remove an element from a list by its index."
   ]
  },
  {
   "cell_type": "code",
   "execution_count": 176,
   "id": "ad189357-2a44-49ac-9b90-7edf74d3aa81",
   "metadata": {},
   "outputs": [
    {
     "data": {
      "text/plain": [
       "[0, 1, 2, 3, 4, 5, 6, 7, 8, 9, 10]"
      ]
     },
     "execution_count": 176,
     "metadata": {},
     "output_type": "execute_result"
    }
   ],
   "source": [
    "l1"
   ]
  },
  {
   "cell_type": "code",
   "execution_count": 177,
   "id": "a82ccd43-b00a-432a-b968-1b247cc66859",
   "metadata": {},
   "outputs": [],
   "source": [
    "index_val = 10"
   ]
  },
  {
   "cell_type": "code",
   "execution_count": 178,
   "id": "0b3e46db-4da3-4ecc-b32a-51c53f603946",
   "metadata": {},
   "outputs": [
    {
     "data": {
      "text/plain": [
       "10"
      ]
     },
     "execution_count": 178,
     "metadata": {},
     "output_type": "execute_result"
    }
   ],
   "source": [
    "l1.pop(index_val)"
   ]
  },
  {
   "cell_type": "code",
   "execution_count": 179,
   "id": "3682976a-693a-49de-95fc-59f57743b60f",
   "metadata": {},
   "outputs": [
    {
     "name": "stdout",
     "output_type": "stream",
     "text": [
      "The new list is:  [0, 1, 2, 3, 4, 5, 6, 7, 8, 9]\n"
     ]
    }
   ],
   "source": [
    "print('The new list is: ', l1)"
   ]
  },
  {
   "cell_type": "markdown",
   "id": "c2e3fadf-befc-44e9-8400-a9d2ae8f4b48",
   "metadata": {},
   "source": [
    "7. Check if an element exists in a list."
   ]
  },
  {
   "cell_type": "code",
   "execution_count": 180,
   "id": "c43b2bfd-8cab-423e-b6f3-db176f4d11f5",
   "metadata": {},
   "outputs": [
    {
     "data": {
      "text/plain": [
       "[0, 1, 2, 3, 4, 5, 6, 7, 8, 9]"
      ]
     },
     "execution_count": 180,
     "metadata": {},
     "output_type": "execute_result"
    }
   ],
   "source": [
    "l1"
   ]
  },
  {
   "cell_type": "code",
   "execution_count": 181,
   "id": "74bfa3e0-79c2-407c-9c0d-09b3812f8b28",
   "metadata": {},
   "outputs": [],
   "source": [
    "val_check = 5\n",
    "count = 0"
   ]
  },
  {
   "cell_type": "code",
   "execution_count": 182,
   "id": "3adf7b2d-ce27-4872-aadf-6f6714d1e685",
   "metadata": {},
   "outputs": [
    {
     "name": "stdout",
     "output_type": "stream",
     "text": [
      "The given value is present in the list.\n"
     ]
    }
   ],
   "source": [
    "for i in l1:\n",
    "    if l1[i] == val_check:\n",
    "        count += 1\n",
    "if count >= 1:\n",
    "    print('The given value is present in the list.')\n",
    "else:\n",
    "    print('The given value is not present in the list.')"
   ]
  },
  {
   "cell_type": "markdown",
   "id": "6da55aa3-5f1e-492d-bb06-346b72babd74",
   "metadata": {},
   "source": [
    "8. Find the index of the first occurrence of an element in a list."
   ]
  },
  {
   "cell_type": "code",
   "execution_count": 183,
   "id": "9e4c0db2-dc53-44f6-b20d-c9a7ae5ebac0",
   "metadata": {},
   "outputs": [],
   "source": [
    "l2 = [2, 3, 5, 2, 65, 1, 9, 23, 65]"
   ]
  },
  {
   "cell_type": "code",
   "execution_count": 184,
   "id": "4dd66fe5-48a3-457d-b2a2-ac267ceae36a",
   "metadata": {},
   "outputs": [
    {
     "data": {
      "text/plain": [
       "0"
      ]
     },
     "execution_count": 184,
     "metadata": {},
     "output_type": "execute_result"
    }
   ],
   "source": [
    "l2.index(2)"
   ]
  },
  {
   "cell_type": "code",
   "execution_count": 185,
   "id": "db6cce2b-54bf-4d64-be04-f10f92398e7b",
   "metadata": {},
   "outputs": [
    {
     "data": {
      "text/plain": [
       "4"
      ]
     },
     "execution_count": 185,
     "metadata": {},
     "output_type": "execute_result"
    }
   ],
   "source": [
    "l2.index(65)"
   ]
  },
  {
   "cell_type": "markdown",
   "id": "4b38a45e-bcd6-4bf2-b775-6c9f4e9fdcd6",
   "metadata": {},
   "source": [
    "9. Count the occurrences of an element in a list."
   ]
  },
  {
   "cell_type": "code",
   "execution_count": 186,
   "id": "776c3575-58c3-40c2-a4d3-af014a503035",
   "metadata": {},
   "outputs": [
    {
     "data": {
      "text/plain": [
       "[2, 3, 5, 2, 65, 1, 9, 23, 65]"
      ]
     },
     "execution_count": 186,
     "metadata": {},
     "output_type": "execute_result"
    }
   ],
   "source": [
    "l2"
   ]
  },
  {
   "cell_type": "code",
   "execution_count": 187,
   "id": "be625537-8e38-46df-ba7c-44bda5f5f5ed",
   "metadata": {},
   "outputs": [],
   "source": [
    "element_to_count = 2\n",
    "count = 0"
   ]
  },
  {
   "cell_type": "code",
   "execution_count": 188,
   "id": "c9a500e1-ed9a-41ca-b628-c8107f840766",
   "metadata": {},
   "outputs": [
    {
     "name": "stdout",
     "output_type": "stream",
     "text": [
      "The occurence of element 2 in the given list is:  2\n"
     ]
    }
   ],
   "source": [
    "for i in l2:\n",
    "    if i == element_to_count:\n",
    "        count += 1\n",
    "    \n",
    "if count > 1:\n",
    "    print('The occurence of element {} in the given list is: '.format(element_to_count), count)\n",
    "else:\n",
    "    print('There is only a single occurence of the element {} in the given list.'.format(element_to_count))"
   ]
  },
  {
   "cell_type": "markdown",
   "id": "f83b3259-cfbb-4db2-8df6-1181b405ef58",
   "metadata": {},
   "source": [
    "10. Reverse the order of elements in a list."
   ]
  },
  {
   "cell_type": "code",
   "execution_count": 189,
   "id": "da4248c0-b0e2-4b37-8b0e-6d97a7e634b1",
   "metadata": {},
   "outputs": [
    {
     "data": {
      "text/plain": [
       "[0, 1, 2, 3, 4, 5, 6, 7, 8, 9]"
      ]
     },
     "execution_count": 189,
     "metadata": {},
     "output_type": "execute_result"
    }
   ],
   "source": [
    "l1"
   ]
  },
  {
   "cell_type": "code",
   "execution_count": 190,
   "id": "f1c8be76-264f-46b4-86c5-38b547e7c9ab",
   "metadata": {},
   "outputs": [],
   "source": [
    "l1.reverse()"
   ]
  },
  {
   "cell_type": "code",
   "execution_count": 191,
   "id": "a4a373ac-0f93-40f1-8045-806c8f0aad9b",
   "metadata": {},
   "outputs": [
    {
     "name": "stdout",
     "output_type": "stream",
     "text": [
      "The given list in reverese order is:  [9, 8, 7, 6, 5, 4, 3, 2, 1, 0]\n"
     ]
    }
   ],
   "source": [
    "print('The given list in reverese order is: ', l1)"
   ]
  },
  {
   "cell_type": "markdown",
   "id": "a8e9bbda-9a17-4f97-bf12-8b5ff8285808",
   "metadata": {},
   "source": [
    "11. Sort a list in ascending order."
   ]
  },
  {
   "cell_type": "code",
   "execution_count": 192,
   "id": "2387cf93-7578-410f-a22d-2993f35dc28c",
   "metadata": {},
   "outputs": [
    {
     "data": {
      "text/plain": [
       "[9, 8, 7, 6, 5, 4, 3, 2, 1, 0]"
      ]
     },
     "execution_count": 192,
     "metadata": {},
     "output_type": "execute_result"
    }
   ],
   "source": [
    "l1"
   ]
  },
  {
   "cell_type": "code",
   "execution_count": 193,
   "id": "97ecc37f-8f6b-42e8-aae8-3410f00504df",
   "metadata": {},
   "outputs": [],
   "source": [
    "l1.sort()"
   ]
  },
  {
   "cell_type": "code",
   "execution_count": 194,
   "id": "c0a3727f-7a6a-440e-84d6-b1e7ac985da9",
   "metadata": {},
   "outputs": [
    {
     "name": "stdout",
     "output_type": "stream",
     "text": [
      "The sorted list is:  [0, 1, 2, 3, 4, 5, 6, 7, 8, 9]\n"
     ]
    }
   ],
   "source": [
    "print('The sorted list is: ', l1)"
   ]
  },
  {
   "cell_type": "markdown",
   "id": "628a9620-7daa-408d-99fb-418e410eee49",
   "metadata": {},
   "source": [
    "12. Sort a list in descending order."
   ]
  },
  {
   "cell_type": "code",
   "execution_count": 195,
   "id": "3852eb53-c8cf-44cd-bb21-b889f72d965d",
   "metadata": {},
   "outputs": [
    {
     "data": {
      "text/plain": [
       "[0, 1, 2, 3, 4, 5, 6, 7, 8, 9]"
      ]
     },
     "execution_count": 195,
     "metadata": {},
     "output_type": "execute_result"
    }
   ],
   "source": [
    "l1"
   ]
  },
  {
   "cell_type": "code",
   "execution_count": 196,
   "id": "d6849b62-2c3c-42f1-9671-d96d44e10365",
   "metadata": {},
   "outputs": [],
   "source": [
    "l1.sort(reverse=True)"
   ]
  },
  {
   "cell_type": "code",
   "execution_count": 197,
   "id": "276189c3-3cde-4af3-af38-0e4e699f0a38",
   "metadata": {},
   "outputs": [
    {
     "name": "stdout",
     "output_type": "stream",
     "text": [
      "The list in descending order is:  [9, 8, 7, 6, 5, 4, 3, 2, 1, 0]\n"
     ]
    }
   ],
   "source": [
    "print('The list in descending order is: ', l1)"
   ]
  },
  {
   "cell_type": "markdown",
   "id": "8fb81e0c-44a1-42c0-8b74-499375c73f2e",
   "metadata": {},
   "source": [
    "13. Create a list of even numbers from 1 to 20."
   ]
  },
  {
   "cell_type": "code",
   "execution_count": 198,
   "id": "c53eeb8e-4da2-4b09-85ff-de9e047a61b5",
   "metadata": {},
   "outputs": [],
   "source": [
    "l3 = list(range(2,21,2))"
   ]
  },
  {
   "cell_type": "code",
   "execution_count": 199,
   "id": "ce65c3df-da0e-42e5-b486-0c20921f2e11",
   "metadata": {},
   "outputs": [
    {
     "name": "stdout",
     "output_type": "stream",
     "text": [
      "The list is:  [2, 4, 6, 8, 10, 12, 14, 16, 18, 20]\n"
     ]
    }
   ],
   "source": [
    "print('The list is: ', l3)"
   ]
  },
  {
   "cell_type": "markdown",
   "id": "4180e85a-1f5a-40f9-9e0b-cc7b56b78a2e",
   "metadata": {},
   "source": [
    "14. Create a list of odd numbers from 1 to 20."
   ]
  },
  {
   "cell_type": "code",
   "execution_count": 200,
   "id": "4dcc37d0-0f7f-40da-8d4b-257912c56a12",
   "metadata": {},
   "outputs": [],
   "source": [
    "l4 = list(range(1,20,2))"
   ]
  },
  {
   "cell_type": "code",
   "execution_count": 201,
   "id": "c29b2ea6-2486-4483-974e-bc445cb57b8b",
   "metadata": {},
   "outputs": [
    {
     "name": "stdout",
     "output_type": "stream",
     "text": [
      "The list is:  [1, 3, 5, 7, 9, 11, 13, 15, 17, 19]\n"
     ]
    }
   ],
   "source": [
    "print('The list is: ', l4)"
   ]
  },
  {
   "cell_type": "markdown",
   "id": "b177aee5-fcb1-4456-a6bc-bb5f2ab7e425",
   "metadata": {},
   "source": [
    "15. Find the sum of all elements in a list."
   ]
  },
  {
   "cell_type": "code",
   "execution_count": 202,
   "id": "eff1e15d-a3aa-409e-94d3-4e603f5d037a",
   "metadata": {},
   "outputs": [
    {
     "data": {
      "text/plain": [
       "[2, 4, 6, 8, 10, 12, 14, 16, 18, 20]"
      ]
     },
     "execution_count": 202,
     "metadata": {},
     "output_type": "execute_result"
    }
   ],
   "source": [
    "l3"
   ]
  },
  {
   "cell_type": "code",
   "execution_count": 203,
   "id": "d0caf39f-6901-4355-9142-629cb3d9058e",
   "metadata": {},
   "outputs": [],
   "source": [
    "list_sum = 0"
   ]
  },
  {
   "cell_type": "code",
   "execution_count": 204,
   "id": "eb5ec011-375f-4404-848e-24e623ee6013",
   "metadata": {},
   "outputs": [],
   "source": [
    "for i in l3:\n",
    "    list_sum += i"
   ]
  },
  {
   "cell_type": "code",
   "execution_count": 205,
   "id": "d626eab5-683c-42dc-afb4-eaa1e4f5f3c5",
   "metadata": {},
   "outputs": [
    {
     "name": "stdout",
     "output_type": "stream",
     "text": [
      "The sum of all elements in the given list is:  110\n"
     ]
    }
   ],
   "source": [
    "print('The sum of all elements in the given list is: ', list_sum)"
   ]
  },
  {
   "cell_type": "markdown",
   "id": "e7690cc4-ba45-4ba9-9efd-2e1f94e7e4bc",
   "metadata": {},
   "source": [
    "16. Find the maximum value in a list."
   ]
  },
  {
   "cell_type": "code",
   "execution_count": 206,
   "id": "6315038c-f3df-4f87-8bc5-fea10e59645f",
   "metadata": {},
   "outputs": [
    {
     "data": {
      "text/plain": [
       "[2, 3, 5, 2, 65, 1, 9, 23, 65]"
      ]
     },
     "execution_count": 206,
     "metadata": {},
     "output_type": "execute_result"
    }
   ],
   "source": [
    "l2"
   ]
  },
  {
   "cell_type": "code",
   "execution_count": 207,
   "id": "a796b990-cf24-4846-892a-c0c74837a9b0",
   "metadata": {},
   "outputs": [],
   "source": [
    "max_val = 0\n",
    "\n",
    "for i in range(len(l2)-1):\n",
    "    if max_val >= l2[i]:\n",
    "        max_val = max_val\n",
    "    else:\n",
    "        max_val = l2[i]"
   ]
  },
  {
   "cell_type": "code",
   "execution_count": 208,
   "id": "084b1a0a-c7f7-4b2e-9185-ed579fe6a728",
   "metadata": {},
   "outputs": [
    {
     "name": "stdout",
     "output_type": "stream",
     "text": [
      "The maximum value in the given list is:  65\n"
     ]
    }
   ],
   "source": [
    "print('The maximum value in the given list is: ', max_val)"
   ]
  },
  {
   "cell_type": "markdown",
   "id": "00a9ab81-a657-44ea-9e3c-b62d39f50925",
   "metadata": {},
   "source": [
    "17. Find the minimum value in a list."
   ]
  },
  {
   "cell_type": "code",
   "execution_count": 209,
   "id": "0b5c0af3-999e-4d34-bf51-8372c9ba84f5",
   "metadata": {},
   "outputs": [
    {
     "data": {
      "text/plain": [
       "[2, 3, 5, 2, 65, 1, 9, 23, 65]"
      ]
     },
     "execution_count": 209,
     "metadata": {},
     "output_type": "execute_result"
    }
   ],
   "source": [
    "l2"
   ]
  },
  {
   "cell_type": "code",
   "execution_count": 210,
   "id": "d0426ac3-950a-44b7-be2c-67f396e4ab19",
   "metadata": {},
   "outputs": [],
   "source": [
    "min_val = 9999999999999\n",
    "\n",
    "for i in range(len(l2)-1):\n",
    "    if min_val <= l2[i]:\n",
    "        min_val = min_val\n",
    "    else:\n",
    "        min_val = l2[i]"
   ]
  },
  {
   "cell_type": "code",
   "execution_count": 211,
   "id": "9caf7ac5-bd66-4f49-ace5-7eccdd431420",
   "metadata": {},
   "outputs": [
    {
     "name": "stdout",
     "output_type": "stream",
     "text": [
      "The minimum value in the given list is:  1\n"
     ]
    }
   ],
   "source": [
    "print('The minimum value in the given list is: ', min_val)"
   ]
  },
  {
   "cell_type": "markdown",
   "id": "de2a4f1e-59f1-4050-a489-88434e653627",
   "metadata": {},
   "source": [
    "18. Create a list of squares of numbers from 1 to 10."
   ]
  },
  {
   "cell_type": "code",
   "execution_count": 212,
   "id": "54fc24e6-8b2d-4639-8f33-109a29d4596e",
   "metadata": {},
   "outputs": [],
   "source": [
    "l5 = []"
   ]
  },
  {
   "cell_type": "code",
   "execution_count": 213,
   "id": "c5df54bb-021f-49fd-8ebb-50bdb16ea0aa",
   "metadata": {},
   "outputs": [],
   "source": [
    "for i in range(1,11):\n",
    "    l5.append(i*i)"
   ]
  },
  {
   "cell_type": "code",
   "execution_count": 214,
   "id": "83d991e5-40d9-4ecf-8f73-cfbcd8c2e3f9",
   "metadata": {},
   "outputs": [
    {
     "name": "stdout",
     "output_type": "stream",
     "text": [
      "The list with squares of numbers from 1 to 10 is:  [1, 4, 9, 16, 25, 36, 49, 64, 81, 100]\n"
     ]
    }
   ],
   "source": [
    "print('The list with squares of numbers from 1 to 10 is: ', l5)"
   ]
  },
  {
   "cell_type": "markdown",
   "id": "11c8cdde-3746-490a-846c-8e8b85c0bdea",
   "metadata": {},
   "source": [
    "19. Create a list of random numbers."
   ]
  },
  {
   "cell_type": "code",
   "execution_count": 215,
   "id": "2264a6c7-3b5a-4c74-8d0f-971a9687b729",
   "metadata": {},
   "outputs": [],
   "source": [
    "import random"
   ]
  },
  {
   "cell_type": "code",
   "execution_count": 216,
   "id": "ccaf5819-88b8-4a6f-9ba5-3b5f30cd9805",
   "metadata": {},
   "outputs": [],
   "source": [
    "for i in range(1, 11):\n",
    "    l6.append(random.randint(1, 100))"
   ]
  },
  {
   "cell_type": "code",
   "execution_count": 217,
   "id": "d1ddb4fd-3718-45f0-b56f-87f128e381ae",
   "metadata": {},
   "outputs": [
    {
     "name": "stdout",
     "output_type": "stream",
     "text": [
      "The list with random numbers is:  ['.', \"'\", '.', 56, 57, 66, 48, 60, 36, 58, 2, 56, 7]\n"
     ]
    }
   ],
   "source": [
    "print('The list with random numbers is: ', l6)"
   ]
  },
  {
   "cell_type": "markdown",
   "id": "869b0dba-e180-4776-b80f-4226603de91d",
   "metadata": {},
   "source": [
    "20. Remove duplicates from a list."
   ]
  },
  {
   "cell_type": "code",
   "execution_count": 218,
   "id": "4eac3453-b91c-4802-806b-1dd66a65d4f3",
   "metadata": {},
   "outputs": [
    {
     "data": {
      "text/plain": [
       "[2, 3, 5, 2, 65, 1, 9, 23, 65]"
      ]
     },
     "execution_count": 218,
     "metadata": {},
     "output_type": "execute_result"
    }
   ],
   "source": [
    "l2"
   ]
  },
  {
   "cell_type": "code",
   "execution_count": 219,
   "id": "4dd547df-ddaf-417a-94c3-2757fed2c40b",
   "metadata": {},
   "outputs": [],
   "source": [
    "seen = set()\n",
    "unique_list = []"
   ]
  },
  {
   "cell_type": "code",
   "execution_count": 220,
   "id": "f48ab6d1-adc3-4234-a424-2e5d6cfa4f31",
   "metadata": {},
   "outputs": [],
   "source": [
    "for i in l2:\n",
    "    if i not in seen:\n",
    "        unique_list.append(i)\n",
    "        seen.add(i)"
   ]
  },
  {
   "cell_type": "code",
   "execution_count": 221,
   "id": "7aaf1eaf-da63-49e3-b764-8366c4ead130",
   "metadata": {},
   "outputs": [
    {
     "name": "stdout",
     "output_type": "stream",
     "text": [
      "The list after removing duplicates is:  [2, 3, 5, 65, 1, 9, 23]\n"
     ]
    }
   ],
   "source": [
    "print('The list after removing duplicates is: ', unique_list)"
   ]
  },
  {
   "cell_type": "markdown",
   "id": "f108fed6-6a07-4eed-9ee5-301e9e23c5f4",
   "metadata": {},
   "source": [
    "21. Find the common elements between two lists."
   ]
  },
  {
   "cell_type": "code",
   "execution_count": 222,
   "id": "d68cf396-ab4e-4d51-a77b-e2c8590d5c89",
   "metadata": {},
   "outputs": [],
   "source": [
    "l7 = [1, 2, 3, 4, 5, 6, 7, 8, 9]"
   ]
  },
  {
   "cell_type": "code",
   "execution_count": 223,
   "id": "2df69d3a-5676-4618-88ff-307151b99875",
   "metadata": {},
   "outputs": [],
   "source": [
    "l8 = [5, 7, 9, 11, 13, 15, 17, 19]"
   ]
  },
  {
   "cell_type": "code",
   "execution_count": 224,
   "id": "38ea313f-49df-479c-9e52-bfd497b10f71",
   "metadata": {},
   "outputs": [],
   "source": [
    "common_element = []"
   ]
  },
  {
   "cell_type": "code",
   "execution_count": 225,
   "id": "e1b5f468-754e-40ca-bd4c-5a5514bbad3c",
   "metadata": {},
   "outputs": [],
   "source": [
    "for i in l7:\n",
    "    if i in l8:\n",
    "        common_element.append(i)"
   ]
  },
  {
   "cell_type": "code",
   "execution_count": 226,
   "id": "1debfcda-1f91-4287-8a41-8a65d6296324",
   "metadata": {},
   "outputs": [
    {
     "name": "stdout",
     "output_type": "stream",
     "text": [
      "The common elements in the two lists are:  [5, 7, 9]\n"
     ]
    }
   ],
   "source": [
    "print('The common elements in the two lists are: ', common_element)"
   ]
  },
  {
   "cell_type": "markdown",
   "id": "30701d0a-f9ba-450f-bf1b-8c18ce109c27",
   "metadata": {},
   "source": [
    "22. Find the difference between two lists."
   ]
  },
  {
   "cell_type": "code",
   "execution_count": 227,
   "id": "747ffa3a-4be8-4638-bdd4-3b9434260b88",
   "metadata": {},
   "outputs": [
    {
     "data": {
      "text/plain": [
       "[1, 2, 3, 4, 5, 6, 7, 8, 9]"
      ]
     },
     "execution_count": 227,
     "metadata": {},
     "output_type": "execute_result"
    }
   ],
   "source": [
    "l7"
   ]
  },
  {
   "cell_type": "code",
   "execution_count": 228,
   "id": "0aef7da5-b242-4c00-8490-bda49d7ce3ad",
   "metadata": {},
   "outputs": [
    {
     "data": {
      "text/plain": [
       "[5, 7, 9, 11, 13, 15, 17, 19]"
      ]
     },
     "execution_count": 228,
     "metadata": {},
     "output_type": "execute_result"
    }
   ],
   "source": [
    "l8"
   ]
  },
  {
   "cell_type": "code",
   "execution_count": 229,
   "id": "00bf8128-0786-42e5-b745-08d427b5bbc7",
   "metadata": {},
   "outputs": [],
   "source": [
    "different_element = []"
   ]
  },
  {
   "cell_type": "code",
   "execution_count": 230,
   "id": "47b023e1-ffc4-46c7-82e1-d221d419171f",
   "metadata": {},
   "outputs": [],
   "source": [
    "for i in l7:\n",
    "    if i not in l8:\n",
    "        different_element.append(i)"
   ]
  },
  {
   "cell_type": "code",
   "execution_count": 231,
   "id": "5983e397-28c2-44ca-a340-cd485d4b503c",
   "metadata": {},
   "outputs": [
    {
     "name": "stdout",
     "output_type": "stream",
     "text": [
      "The difference between the two given lists is:  [1, 2, 3, 4, 6, 8]\n"
     ]
    }
   ],
   "source": [
    "print('The difference between the two given lists is: ', different_element)"
   ]
  },
  {
   "cell_type": "markdown",
   "id": "21696312-99b3-4dd3-9c82-631423598237",
   "metadata": {},
   "source": [
    "23. Merge two lists."
   ]
  },
  {
   "cell_type": "code",
   "execution_count": 232,
   "id": "1b9e7870-ae73-43d6-b719-b4ca7155adcc",
   "metadata": {},
   "outputs": [],
   "source": [
    "l9 = [1,2,3]"
   ]
  },
  {
   "cell_type": "code",
   "execution_count": 233,
   "id": "41649ab1-84a1-42fe-a9b3-8dbeae487709",
   "metadata": {},
   "outputs": [],
   "source": [
    "l10 = [4,5,6]"
   ]
  },
  {
   "cell_type": "code",
   "execution_count": 234,
   "id": "d5f7f60e-dbd6-49d0-bc0b-57f39dd2aa9c",
   "metadata": {},
   "outputs": [],
   "source": [
    "merged_list = []"
   ]
  },
  {
   "cell_type": "code",
   "execution_count": 235,
   "id": "08da97f8-3bb5-444e-a63f-192f03443339",
   "metadata": {},
   "outputs": [],
   "source": [
    "merged_list = l9 + l10"
   ]
  },
  {
   "cell_type": "code",
   "execution_count": 236,
   "id": "b0716d2d-cb28-4d4f-a241-0d25582d1c6d",
   "metadata": {},
   "outputs": [
    {
     "name": "stdout",
     "output_type": "stream",
     "text": [
      "The new merged list is:  [1, 2, 3, 4, 5, 6]\n"
     ]
    }
   ],
   "source": [
    "print('The new merged list is: ', merged_list)"
   ]
  },
  {
   "cell_type": "markdown",
   "id": "2b3304a9-d011-4f4d-8936-bf0c909f3719",
   "metadata": {},
   "source": [
    "24. Multiply all elements in a list by 2."
   ]
  },
  {
   "cell_type": "code",
   "execution_count": 237,
   "id": "de084d0e-9876-4c68-bd64-4f6f34d94072",
   "metadata": {},
   "outputs": [],
   "source": [
    "l11 = [1,2,3,4,5,6,7,8,9]"
   ]
  },
  {
   "cell_type": "code",
   "execution_count": 238,
   "id": "1be102ed-9620-4d29-bd97-8c42bad85dd7",
   "metadata": {},
   "outputs": [],
   "source": [
    "for i in range(len(l11)):\n",
    "    l11[i] = l11[i]*2"
   ]
  },
  {
   "cell_type": "code",
   "execution_count": 239,
   "id": "f0567fff-cb9f-46a1-b593-5c6a03b004e2",
   "metadata": {},
   "outputs": [
    {
     "name": "stdout",
     "output_type": "stream",
     "text": [
      "The new list is:  [2, 4, 6, 8, 10, 12, 14, 16, 18]\n"
     ]
    }
   ],
   "source": [
    "print('The new list is: ', l11)"
   ]
  },
  {
   "cell_type": "markdown",
   "id": "f7b5edcc-6235-4374-8d5e-986a2a51c9cf",
   "metadata": {},
   "source": [
    "25. Filter out all even numbers from a list."
   ]
  },
  {
   "cell_type": "code",
   "execution_count": 240,
   "id": "ed4ae6d9-0399-41b3-9f8c-94a977166491",
   "metadata": {},
   "outputs": [
    {
     "data": {
      "text/plain": [
       "[9, 8, 7, 6, 5, 4, 3, 2, 1, 0]"
      ]
     },
     "execution_count": 240,
     "metadata": {},
     "output_type": "execute_result"
    }
   ],
   "source": [
    "l1"
   ]
  },
  {
   "cell_type": "code",
   "execution_count": 241,
   "id": "200a9050-ded2-4bcb-9124-30993fdce49f",
   "metadata": {},
   "outputs": [],
   "source": [
    "for i in l1:\n",
    "    if i%2 == 0:\n",
    "        l1.remove(i)"
   ]
  },
  {
   "cell_type": "code",
   "execution_count": 242,
   "id": "0178322f-6f50-4e78-9f9f-4f301c58f8d1",
   "metadata": {},
   "outputs": [
    {
     "name": "stdout",
     "output_type": "stream",
     "text": [
      "The new list after filtering out all even numbers is:  [9, 7, 5, 3, 1]\n"
     ]
    }
   ],
   "source": [
    "print('The new list after filtering out all even numbers is: ', l1)"
   ]
  },
  {
   "cell_type": "markdown",
   "id": "a346c476-a328-42c5-bfb4-d9754aad8e1a",
   "metadata": {},
   "source": [
    "26. Convert a list of strings to a list of integers."
   ]
  },
  {
   "cell_type": "code",
   "execution_count": 243,
   "id": "1f368f78-9e1e-4d1f-a644-6285c720c328",
   "metadata": {},
   "outputs": [],
   "source": [
    "l12 = ['1', '2', '3', '4']"
   ]
  },
  {
   "cell_type": "code",
   "execution_count": 244,
   "id": "41c21683-44bb-4532-8434-4d169f38fa1d",
   "metadata": {},
   "outputs": [
    {
     "data": {
      "text/plain": [
       "['1', '2', '3', '4']"
      ]
     },
     "execution_count": 244,
     "metadata": {},
     "output_type": "execute_result"
    }
   ],
   "source": [
    "l12"
   ]
  },
  {
   "cell_type": "code",
   "execution_count": 245,
   "id": "20a776bd-d73e-49f7-b9b2-69c718837031",
   "metadata": {},
   "outputs": [],
   "source": [
    "for i in range(len(l12)):\n",
    "    l12[i] = int(l12[i])"
   ]
  },
  {
   "cell_type": "code",
   "execution_count": 246,
   "id": "5d6a7429-2fd5-4016-adf7-7779ffc04c73",
   "metadata": {},
   "outputs": [
    {
     "name": "stdout",
     "output_type": "stream",
     "text": [
      "The converted list is:  [1, 2, 3, 4]\n"
     ]
    }
   ],
   "source": [
    "print('The converted list is: ', l12)"
   ]
  },
  {
   "cell_type": "markdown",
   "id": "a9324f94-0f37-47ed-80cb-1d078a4511dc",
   "metadata": {},
   "source": [
    "27. Convert a list of integers to a list of strings."
   ]
  },
  {
   "cell_type": "code",
   "execution_count": 247,
   "id": "7a37b230-b8bd-48a5-9ec9-9bc4ca7a68e5",
   "metadata": {},
   "outputs": [
    {
     "data": {
      "text/plain": [
       "[1, 2, 3, 4]"
      ]
     },
     "execution_count": 247,
     "metadata": {},
     "output_type": "execute_result"
    }
   ],
   "source": [
    "l12"
   ]
  },
  {
   "cell_type": "code",
   "execution_count": 248,
   "id": "b5f8e327-f1b6-4bc4-b34e-da69009e54e9",
   "metadata": {},
   "outputs": [
    {
     "data": {
      "text/plain": [
       "[1, 2, 3, 4]"
      ]
     },
     "execution_count": 248,
     "metadata": {},
     "output_type": "execute_result"
    }
   ],
   "source": [
    "l12"
   ]
  },
  {
   "cell_type": "code",
   "execution_count": 249,
   "id": "53fabdeb-f8d7-482a-98e2-7ee774540741",
   "metadata": {},
   "outputs": [],
   "source": [
    "for i in range(len(l12)):\n",
    "    l12[i] = str(l12[i])"
   ]
  },
  {
   "cell_type": "code",
   "execution_count": 250,
   "id": "1f7df14d-824f-4504-b7f3-5143e7b3c518",
   "metadata": {},
   "outputs": [
    {
     "name": "stdout",
     "output_type": "stream",
     "text": [
      "The converted list is : ['1', '2', '3', '4']\n"
     ]
    }
   ],
   "source": [
    "print('The converted list is :', l12)"
   ]
  },
  {
   "cell_type": "markdown",
   "id": "562fb8a8-07d8-4f2f-8920-965b9afef7b2",
   "metadata": {},
   "source": [
    "28. Flatten a nested list."
   ]
  },
  {
   "cell_type": "code",
   "execution_count": 251,
   "id": "5ad856da-aab4-4aae-a3b6-f76a2433108e",
   "metadata": {},
   "outputs": [],
   "source": [
    "l13 = [[1,2,3],[4,5,6],[7,8,9]]"
   ]
  },
  {
   "cell_type": "code",
   "execution_count": 252,
   "id": "4fdedff6-db73-41ca-b44a-9b6458033215",
   "metadata": {},
   "outputs": [],
   "source": [
    "flattened_list = []"
   ]
  },
  {
   "cell_type": "code",
   "execution_count": 253,
   "id": "524bc0e2-a1f2-4bb9-8712-b4ea05b6448a",
   "metadata": {},
   "outputs": [],
   "source": [
    "for i in l13:\n",
    "    if isinstance(i, list):\n",
    "        flattened_list.extend(i)\n",
    "    else:\n",
    "        flattened_list.appened(i)"
   ]
  },
  {
   "cell_type": "code",
   "execution_count": 254,
   "id": "373373ab-71cb-44bf-b718-9302aa52ffe1",
   "metadata": {},
   "outputs": [
    {
     "name": "stdout",
     "output_type": "stream",
     "text": [
      "The flattened list is:  [1, 2, 3, 4, 5, 6, 7, 8, 9]\n"
     ]
    }
   ],
   "source": [
    "print('The flattened list is: ', flattened_list)"
   ]
  },
  {
   "cell_type": "markdown",
   "id": "b5da6632-7260-4d91-8615-680b19182500",
   "metadata": {},
   "source": [
    "29. Create a list of the first 10 Fibonacci numbers."
   ]
  },
  {
   "cell_type": "code",
   "execution_count": 255,
   "id": "f8fae7ff-61da-406d-bd56-00a3c5c4523b",
   "metadata": {},
   "outputs": [],
   "source": [
    "fibonacci_no = []"
   ]
  },
  {
   "cell_type": "code",
   "execution_count": 256,
   "id": "b7574414-c605-43b8-b641-e425509b4eaf",
   "metadata": {},
   "outputs": [],
   "source": [
    "for i in range(0,10):\n",
    "    # print(i)\n",
    "    if i<=1:\n",
    "        fibonacci_no.append(i)\n",
    "    else:\n",
    "        next_digit = fibonacci_no[i-1] + fibonacci_no[i-2]\n",
    "        fibonacci_no.append(next_digit)"
   ]
  },
  {
   "cell_type": "code",
   "execution_count": 257,
   "id": "7077d5f2-f110-4b03-a77d-192ad482f112",
   "metadata": {},
   "outputs": [
    {
     "name": "stdout",
     "output_type": "stream",
     "text": [
      "The list of first 10 Fibonacci numbers is:  [0, 1, 1, 2, 3, 5, 8, 13, 21, 34]\n"
     ]
    }
   ],
   "source": [
    "print('The list of first 10 Fibonacci numbers is: ', fibonacci_no)"
   ]
  },
  {
   "cell_type": "markdown",
   "id": "f8a5499d-6c59-4b38-9e88-449dd093f797",
   "metadata": {},
   "source": [
    "30. Check if a list is sorted."
   ]
  },
  {
   "cell_type": "code",
   "execution_count": 258,
   "id": "c81a5938-6a06-4b90-9cac-0e4f729c0b2e",
   "metadata": {},
   "outputs": [],
   "source": [
    "l14 = [1,3,6,4,8,12,43,23]"
   ]
  },
  {
   "cell_type": "code",
   "execution_count": 259,
   "id": "2679cb5b-3d14-496d-9a2f-6b0438d68895",
   "metadata": {},
   "outputs": [
    {
     "name": "stdout",
     "output_type": "stream",
     "text": [
      "The list is not sorted.\n"
     ]
    }
   ],
   "source": [
    "if l14 == sorted(l14):\n",
    "    print('The list is sorted.')\n",
    "else:\n",
    "    print('The list is not sorted.')"
   ]
  },
  {
   "cell_type": "markdown",
   "id": "1015b479-27c7-48f4-b174-38fae1964604",
   "metadata": {},
   "source": [
    "31. Rotate a list to the left by `n` positions."
   ]
  },
  {
   "cell_type": "code",
   "execution_count": 260,
   "id": "81efa245-42e4-4fdb-b672-a384507387fb",
   "metadata": {},
   "outputs": [],
   "source": [
    "l15 = [1, 2, 5, 2, 7, 4, 9, 8]"
   ]
  },
  {
   "cell_type": "code",
   "execution_count": 261,
   "id": "3fe08bf6-5d5e-42a0-a851-1aab39f08341",
   "metadata": {},
   "outputs": [
    {
     "name": "stdin",
     "output_type": "stream",
     "text": [
      "Enter the value by which the list is to be shifted leftward:  3\n"
     ]
    }
   ],
   "source": [
    "n_pos = int(input('Enter the value by which the list is to be shifted leftward: '))"
   ]
  },
  {
   "cell_type": "code",
   "execution_count": 262,
   "id": "0d59f380-a874-4a28-a478-d0c2fce18aeb",
   "metadata": {},
   "outputs": [],
   "source": [
    "n_pos = n_pos%len(l15)"
   ]
  },
  {
   "cell_type": "code",
   "execution_count": 263,
   "id": "0ca03659-4a6e-430a-867b-aeb447689db1",
   "metadata": {},
   "outputs": [],
   "source": [
    "rotated_list_left = l15[:]"
   ]
  },
  {
   "cell_type": "code",
   "execution_count": 264,
   "id": "aeacbbd1-4e84-475a-988d-5c5ba6e466f6",
   "metadata": {},
   "outputs": [],
   "source": [
    "for i in range(n_pos):\n",
    "    first_element = rotated_list_left.pop(0)\n",
    "    rotated_list_left.append(first_element)"
   ]
  },
  {
   "cell_type": "code",
   "execution_count": 265,
   "id": "7f8acc60-8cdb-4e78-a551-0102c4a37e0d",
   "metadata": {},
   "outputs": [
    {
     "name": "stdout",
     "output_type": "stream",
     "text": [
      "The rotated list is:  [2, 7, 4, 9, 8, 1, 2, 5]\n"
     ]
    }
   ],
   "source": [
    "print('The rotated list is: ', rotated_list_left)"
   ]
  },
  {
   "cell_type": "markdown",
   "id": "40c77c84-9525-420c-b641-70f59ae12451",
   "metadata": {},
   "source": [
    "32. Rotate a list to the right by `n` positions."
   ]
  },
  {
   "cell_type": "code",
   "execution_count": 266,
   "id": "3432bdb3-8bf1-4169-86f1-80b643a52310",
   "metadata": {},
   "outputs": [
    {
     "data": {
      "text/plain": [
       "[1, 2, 5, 2, 7, 4, 9, 8]"
      ]
     },
     "execution_count": 266,
     "metadata": {},
     "output_type": "execute_result"
    }
   ],
   "source": [
    "l15"
   ]
  },
  {
   "cell_type": "code",
   "execution_count": 267,
   "id": "7648b517-bb52-4f6c-9f4e-6ced4f8acb91",
   "metadata": {},
   "outputs": [
    {
     "name": "stdin",
     "output_type": "stream",
     "text": [
      "Enter the value by which the list is to be shifted rightward:  3\n"
     ]
    }
   ],
   "source": [
    "n_pos = int(input('Enter the value by which the list is to be shifted rightward: '))"
   ]
  },
  {
   "cell_type": "code",
   "execution_count": 268,
   "id": "08901cee-c97b-4f5e-97a9-47d72b7c266a",
   "metadata": {},
   "outputs": [],
   "source": [
    "rotated_list_right = l15[:]"
   ]
  },
  {
   "cell_type": "code",
   "execution_count": 269,
   "id": "d7a61402-22eb-4eab-b10a-886d313696b4",
   "metadata": {},
   "outputs": [],
   "source": [
    "for i in range(n_pos):\n",
    "    last_element = rotated_list_right.pop()\n",
    "    rotated_list_right.insert(0, last_element)"
   ]
  },
  {
   "cell_type": "code",
   "execution_count": 270,
   "id": "b7024b37-0841-4ba3-b2fd-8b61a5b37033",
   "metadata": {},
   "outputs": [
    {
     "data": {
      "text/plain": [
       "[4, 9, 8, 1, 2, 5, 2, 7]"
      ]
     },
     "execution_count": 270,
     "metadata": {},
     "output_type": "execute_result"
    }
   ],
   "source": [
    "rotated_list_right"
   ]
  },
  {
   "cell_type": "markdown",
   "id": "e731d138-535a-43cd-b7ad-79f31d16824b",
   "metadata": {},
   "source": [
    "33. Create a list of prime numbers up to 50."
   ]
  },
  {
   "cell_type": "code",
   "execution_count": 271,
   "id": "57a90e4a-9727-42a4-b38a-b338f9655501",
   "metadata": {},
   "outputs": [],
   "source": [
    "prime_no = []"
   ]
  },
  {
   "cell_type": "code",
   "execution_count": 272,
   "id": "a8ccbfd9-6a6f-4217-823d-c804fd04db13",
   "metadata": {},
   "outputs": [],
   "source": [
    "for num in range(2, 51):\n",
    "    is_prime = True\n",
    "    for i in range(2, int(num**0.5)+1):\n",
    "        if num%i == 0:\n",
    "            is_prime = False\n",
    "            break\n",
    "    if is_prime:\n",
    "        prime_no.append(num)"
   ]
  },
  {
   "cell_type": "code",
   "execution_count": 273,
   "id": "0bffa2ef-185d-4e06-b82b-7123d246bb51",
   "metadata": {},
   "outputs": [
    {
     "name": "stdout",
     "output_type": "stream",
     "text": [
      "The list of prime numbers upto 50 is:  [2, 3, 5, 7, 11, 13, 17, 19, 23, 29, 31, 37, 41, 43, 47]\n"
     ]
    }
   ],
   "source": [
    "print('The list of prime numbers upto 50 is: ', prime_no)"
   ]
  },
  {
   "cell_type": "markdown",
   "id": "0c311564-ac84-46ea-bf5c-2d6c555778e8",
   "metadata": {},
   "source": [
    "34. Split a list into chunks of size `n`."
   ]
  },
  {
   "cell_type": "code",
   "execution_count": 274,
   "id": "09c75aad-eef7-4962-9339-96dcac57d1e2",
   "metadata": {},
   "outputs": [],
   "source": [
    "l16 = [1,2,3,4,5,6,7,8,9]"
   ]
  },
  {
   "cell_type": "code",
   "execution_count": 275,
   "id": "1a579b8a-31c3-45ee-a127-d8960c69eafb",
   "metadata": {},
   "outputs": [
    {
     "name": "stdin",
     "output_type": "stream",
     "text": [
      "Enter the value by which the list is to be chunked:  4\n"
     ]
    }
   ],
   "source": [
    "n = int(input('Enter the value by which the list is to be chunked: '))"
   ]
  },
  {
   "cell_type": "code",
   "execution_count": 276,
   "id": "a5ea8c75-82a6-4043-80fd-bd21d31ae286",
   "metadata": {},
   "outputs": [],
   "source": [
    "chunk_list = []"
   ]
  },
  {
   "cell_type": "code",
   "execution_count": 277,
   "id": "1e7b657d-73fe-45c0-94be-9f3b577f0b49",
   "metadata": {},
   "outputs": [],
   "source": [
    "for i in range(0, len(l16), n):\n",
    "    chunk_list.append(l16[i:i+n])"
   ]
  },
  {
   "cell_type": "code",
   "execution_count": 278,
   "id": "47fabbb8-c810-4328-81e2-2d813503ebd2",
   "metadata": {},
   "outputs": [
    {
     "data": {
      "text/plain": [
       "[[1, 2, 3, 4], [5, 6, 7, 8], [9]]"
      ]
     },
     "execution_count": 278,
     "metadata": {},
     "output_type": "execute_result"
    }
   ],
   "source": [
    "chunk_list"
   ]
  },
  {
   "cell_type": "markdown",
   "id": "29cc3f80-fe16-4424-969d-08a10f30da6c",
   "metadata": {},
   "source": [
    "35. Find the second largest number in a list."
   ]
  },
  {
   "cell_type": "code",
   "execution_count": 279,
   "id": "11e55bb2-9e31-4a2c-a6ac-e771d0e1f895",
   "metadata": {},
   "outputs": [],
   "source": [
    "l17 = [23, 35, 25, 98, 67, 82, 25]"
   ]
  },
  {
   "cell_type": "code",
   "execution_count": 280,
   "id": "86656741-17fc-4c06-8734-20046b28e5d3",
   "metadata": {},
   "outputs": [],
   "source": [
    "l17.sort(reverse=True)"
   ]
  },
  {
   "cell_type": "code",
   "execution_count": 281,
   "id": "9de5aba8-9229-4bbe-885d-37a308376cca",
   "metadata": {},
   "outputs": [],
   "source": [
    "second_largest = list(set(l17))"
   ]
  },
  {
   "cell_type": "code",
   "execution_count": 282,
   "id": "3f259fff-40c7-4b1b-859b-f23b70c0b72f",
   "metadata": {},
   "outputs": [
    {
     "name": "stdout",
     "output_type": "stream",
     "text": [
      "The second largest number in the list is:  35\n"
     ]
    }
   ],
   "source": [
    "print('The second largest number in the list is: ', second_largest[1])"
   ]
  },
  {
   "cell_type": "markdown",
   "id": "9664b809-a1c9-425a-a6b9-c45df9841f6b",
   "metadata": {},
   "source": [
    "36. Replace every element in a list with its square."
   ]
  },
  {
   "cell_type": "code",
   "execution_count": 283,
   "id": "3712f5ef-f42a-4b58-8099-0dd51f90f7ee",
   "metadata": {},
   "outputs": [
    {
     "data": {
      "text/plain": [
       "[1, 2, 3, 4, 5, 6, 7, 8, 9]"
      ]
     },
     "execution_count": 283,
     "metadata": {},
     "output_type": "execute_result"
    }
   ],
   "source": [
    "l16"
   ]
  },
  {
   "cell_type": "code",
   "execution_count": 284,
   "id": "f6cbca44-1438-4724-80d3-5462c07fb5be",
   "metadata": {},
   "outputs": [],
   "source": [
    "for i in range(len(l16)):\n",
    "    l16[i] = l16[i]**2"
   ]
  },
  {
   "cell_type": "code",
   "execution_count": 285,
   "id": "a5abf8cb-279e-463b-acfb-e55ea1fcb715",
   "metadata": {},
   "outputs": [
    {
     "name": "stdout",
     "output_type": "stream",
     "text": [
      "The new list is:  [1, 4, 9, 16, 25, 36, 49, 64, 81]\n"
     ]
    }
   ],
   "source": [
    "print('The new list is: ', l16)"
   ]
  },
  {
   "cell_type": "markdown",
   "id": "5799b8b4-143c-49b9-8c0c-81160b3d3034",
   "metadata": {},
   "source": [
    "37. Convert a list to a dictionary where list elements become keys and their\n",
    "indices become values."
   ]
  },
  {
   "cell_type": "code",
   "execution_count": 286,
   "id": "2d2ff4ce-7df1-4180-8d65-6f00c39ae6bc",
   "metadata": {},
   "outputs": [],
   "source": [
    "l18 = [23, 35, 36, 123, 364, 12, 45]"
   ]
  },
  {
   "cell_type": "code",
   "execution_count": 287,
   "id": "349f8238-ebe1-48ad-8fe0-5cb2ed7778aa",
   "metadata": {},
   "outputs": [],
   "source": [
    "indices_dict = {}"
   ]
  },
  {
   "cell_type": "code",
   "execution_count": 288,
   "id": "3e955777-8b1b-4a3d-b29e-37b5ea6a6b22",
   "metadata": {},
   "outputs": [],
   "source": [
    "for i in range(len(l18)):\n",
    "    indices_dict[l18[i]] = i"
   ]
  },
  {
   "cell_type": "code",
   "execution_count": 289,
   "id": "89bf4454-9b63-41f7-8b54-a741b293b503",
   "metadata": {},
   "outputs": [
    {
     "data": {
      "text/plain": [
       "{23: 0, 35: 1, 36: 2, 123: 3, 364: 4, 12: 5, 45: 6}"
      ]
     },
     "execution_count": 289,
     "metadata": {},
     "output_type": "execute_result"
    }
   ],
   "source": [
    "indices_dict"
   ]
  },
  {
   "cell_type": "markdown",
   "id": "ef77882c-0b91-4120-93c2-7252702eb799",
   "metadata": {},
   "source": [
    "38. Shuffle the elements of a list randomly."
   ]
  },
  {
   "cell_type": "code",
   "execution_count": 290,
   "id": "3c033959-c731-49de-a0ff-9623fccb1c6a",
   "metadata": {},
   "outputs": [],
   "source": [
    "l19 = [12, 124, 45, 123, 354, 546, 23, 54]"
   ]
  },
  {
   "cell_type": "code",
   "execution_count": 291,
   "id": "05bb31b0-f87f-4212-b2b6-1db5e68ab681",
   "metadata": {},
   "outputs": [],
   "source": [
    "random.shuffle(l19)"
   ]
  },
  {
   "cell_type": "code",
   "execution_count": 292,
   "id": "82d76e04-09a7-4b3d-9f18-c7207724f8b4",
   "metadata": {},
   "outputs": [
    {
     "name": "stdout",
     "output_type": "stream",
     "text": [
      "The shuffled list is:  [123, 124, 354, 12, 546, 45, 54, 23]\n"
     ]
    }
   ],
   "source": [
    "print('The shuffled list is: ',l19)"
   ]
  },
  {
   "cell_type": "markdown",
   "id": "3c639e1c-4333-4cb7-9ae2-d7a3e426b6fc",
   "metadata": {},
   "source": [
    "39. Create a list of the first 10 factorial numbers."
   ]
  },
  {
   "cell_type": "code",
   "execution_count": 293,
   "id": "a38cd4c1-f5f9-4075-8852-3a8a785355af",
   "metadata": {},
   "outputs": [],
   "source": [
    "n_fact = []"
   ]
  },
  {
   "cell_type": "code",
   "execution_count": 294,
   "id": "953b348a-a2e8-48b3-b7e4-8a68446046ee",
   "metadata": {},
   "outputs": [],
   "source": [
    "import math"
   ]
  },
  {
   "cell_type": "code",
   "execution_count": 295,
   "id": "66ca8cb5-aa31-424f-9b91-82c50aaf3e80",
   "metadata": {},
   "outputs": [],
   "source": [
    "n_fact = [math.factorial(i) for i in range(10)]"
   ]
  },
  {
   "cell_type": "code",
   "execution_count": 296,
   "id": "ce0a6fc9-d1ba-4b22-b780-e9ff82b8124e",
   "metadata": {},
   "outputs": [
    {
     "name": "stdout",
     "output_type": "stream",
     "text": [
      "The list with first 10 factorial numbers is:  [1, 1, 2, 6, 24, 120, 720, 5040, 40320, 362880]\n"
     ]
    }
   ],
   "source": [
    "print('The list with first 10 factorial numbers is: ', n_fact)"
   ]
  },
  {
   "cell_type": "markdown",
   "id": "1828e53c-430f-4949-8328-a4d3d2e46e6d",
   "metadata": {},
   "source": [
    "40. Check if two lists have at least one element in common."
   ]
  },
  {
   "cell_type": "code",
   "execution_count": 297,
   "id": "9f01ec42-2871-490c-a38e-29211eb946e6",
   "metadata": {},
   "outputs": [
    {
     "data": {
      "text/plain": [
       "[1, 2, 5, 2, 7, 4, 9, 8]"
      ]
     },
     "execution_count": 297,
     "metadata": {},
     "output_type": "execute_result"
    }
   ],
   "source": [
    "l15"
   ]
  },
  {
   "cell_type": "code",
   "execution_count": 298,
   "id": "6a298175-3124-4c2f-8527-e5f168ce665e",
   "metadata": {},
   "outputs": [
    {
     "data": {
      "text/plain": [
       "[1, 4, 9, 16, 25, 36, 49, 64, 81]"
      ]
     },
     "execution_count": 298,
     "metadata": {},
     "output_type": "execute_result"
    }
   ],
   "source": [
    "l16"
   ]
  },
  {
   "cell_type": "code",
   "execution_count": 299,
   "id": "0db4d5ac-1f41-4583-8be1-eecf4e519808",
   "metadata": {},
   "outputs": [
    {
     "name": "stdout",
     "output_type": "stream",
     "text": [
      "The two lists have at least one common element.\n"
     ]
    }
   ],
   "source": [
    "for i in l15:\n",
    "    if i in l16:\n",
    "        print('The two lists have at least one common element.')\n",
    "        break\n",
    "    else:\n",
    "        print('The two lists have no common elements.')"
   ]
  },
  {
   "cell_type": "markdown",
   "id": "cfdc0428-6b49-41e7-a162-7bfddb4acc78",
   "metadata": {},
   "source": [
    "41. Remove all elements from a list."
   ]
  },
  {
   "cell_type": "code",
   "execution_count": 300,
   "id": "cca0c838-bf8c-4c73-92a7-43bc0aaa7f4e",
   "metadata": {},
   "outputs": [
    {
     "data": {
      "text/plain": [
       "[98, 82, 67, 35, 25, 25, 23]"
      ]
     },
     "execution_count": 300,
     "metadata": {},
     "output_type": "execute_result"
    }
   ],
   "source": [
    "l17"
   ]
  },
  {
   "cell_type": "code",
   "execution_count": 301,
   "id": "063a490a-343d-4249-a59e-b029a8d2241d",
   "metadata": {},
   "outputs": [],
   "source": [
    "l17.clear()"
   ]
  },
  {
   "cell_type": "code",
   "execution_count": 302,
   "id": "0b7d1258-bbb0-48e4-ad6d-235717e7ff1b",
   "metadata": {},
   "outputs": [
    {
     "name": "stdout",
     "output_type": "stream",
     "text": [
      "All items have been removed, the new list is:  []\n"
     ]
    }
   ],
   "source": [
    "print('All items have been removed, the new list is: ', l17)"
   ]
  },
  {
   "cell_type": "markdown",
   "id": "f90ec7e9-c022-4e40-a0e8-422f7953841d",
   "metadata": {},
   "source": [
    "42. Replace negative numbers in a list with 0."
   ]
  },
  {
   "cell_type": "code",
   "execution_count": 303,
   "id": "4633ea18-9a77-47a2-b8de-d7f45d0272fd",
   "metadata": {},
   "outputs": [],
   "source": [
    "l20 = [121, -213, 34, 12, -45, 234, -937]"
   ]
  },
  {
   "cell_type": "code",
   "execution_count": 304,
   "id": "f2c6c3a3-20ec-4ecf-b974-8be1effbb60a",
   "metadata": {},
   "outputs": [],
   "source": [
    "for i in range(len(l20)):\n",
    "    if l20[i]<0:\n",
    "        l20[i] = 0"
   ]
  },
  {
   "cell_type": "code",
   "execution_count": 305,
   "id": "67254d94-a6fc-4b3f-ab3e-33c42052600c",
   "metadata": {},
   "outputs": [
    {
     "name": "stdout",
     "output_type": "stream",
     "text": [
      "The new list is:  [121, 0, 34, 12, 0, 234, 0]\n"
     ]
    }
   ],
   "source": [
    "print('The new list is: ', l20)"
   ]
  },
  {
   "cell_type": "markdown",
   "id": "a3b7f786-578f-4096-bc3c-207f0649e3b0",
   "metadata": {},
   "source": [
    "43. Convert a string into a list of words."
   ]
  },
  {
   "cell_type": "code",
   "execution_count": 306,
   "id": "76004b92-753d-4b07-91e6-ed40539f48df",
   "metadata": {},
   "outputs": [
    {
     "data": {
      "text/plain": [
       "'Wow What is that thing It is so beautiful I cant take my eyes off of it'"
      ]
     },
     "execution_count": 306,
     "metadata": {},
     "output_type": "execute_result"
    }
   ],
   "source": [
    "s22"
   ]
  },
  {
   "cell_type": "code",
   "execution_count": 307,
   "id": "cb6a4e04-97e0-46c2-a605-a162ff6d108e",
   "metadata": {},
   "outputs": [],
   "source": [
    "l21 = s22.split()"
   ]
  },
  {
   "cell_type": "code",
   "execution_count": 308,
   "id": "59505e93-cc48-478d-af2b-87fc2a9dfbd8",
   "metadata": {},
   "outputs": [
    {
     "name": "stdout",
     "output_type": "stream",
     "text": [
      "The converted list is:  ['Wow', 'What', 'is', 'that', 'thing', 'It', 'is', 'so', 'beautiful', 'I', 'cant', 'take', 'my', 'eyes', 'off', 'of', 'it']\n"
     ]
    }
   ],
   "source": [
    "print('The converted list is: ', l21)"
   ]
  },
  {
   "cell_type": "markdown",
   "id": "ef46c5e4-ba82-426c-ad8c-f27c58eaf551",
   "metadata": {},
   "source": [
    "44. Convert a list of words into a string."
   ]
  },
  {
   "cell_type": "code",
   "execution_count": 309,
   "id": "3656e838-da6c-4775-b1ed-a1affec3fe55",
   "metadata": {},
   "outputs": [
    {
     "data": {
      "text/plain": [
       "['Wow',\n",
       " 'What',\n",
       " 'is',\n",
       " 'that',\n",
       " 'thing',\n",
       " 'It',\n",
       " 'is',\n",
       " 'so',\n",
       " 'beautiful',\n",
       " 'I',\n",
       " 'cant',\n",
       " 'take',\n",
       " 'my',\n",
       " 'eyes',\n",
       " 'off',\n",
       " 'of',\n",
       " 'it']"
      ]
     },
     "execution_count": 309,
     "metadata": {},
     "output_type": "execute_result"
    }
   ],
   "source": [
    "l21"
   ]
  },
  {
   "cell_type": "code",
   "execution_count": 310,
   "id": "51b54b99-5a26-42cf-857d-c8305a09261c",
   "metadata": {},
   "outputs": [],
   "source": [
    "s28 = ' '.join(l21)"
   ]
  },
  {
   "cell_type": "code",
   "execution_count": 311,
   "id": "10069161-7d1f-45e7-903c-5e7a517ba5cd",
   "metadata": {},
   "outputs": [
    {
     "name": "stdout",
     "output_type": "stream",
     "text": [
      "The string is:  Wow What is that thing It is so beautiful I cant take my eyes off of it\n"
     ]
    }
   ],
   "source": [
    "print('The string is: ', s28)"
   ]
  },
  {
   "cell_type": "markdown",
   "id": "54651550-adc3-4a7a-8593-42773e9d8bdb",
   "metadata": {},
   "source": [
    "45. Create a list of the first `n` powers of 2."
   ]
  },
  {
   "cell_type": "code",
   "execution_count": 312,
   "id": "f161ca99-d5b0-469d-86ff-d555c7ea3d5c",
   "metadata": {},
   "outputs": [],
   "source": [
    "pow_two = []"
   ]
  },
  {
   "cell_type": "code",
   "execution_count": 313,
   "id": "49b18723-80ff-459b-b99c-354d23a6b08d",
   "metadata": {},
   "outputs": [
    {
     "name": "stdin",
     "output_type": "stream",
     "text": [
      "Enter the value till which you want the power of two:  5\n"
     ]
    }
   ],
   "source": [
    "n_pow = int(input('Enter the value till which you want the power of two: '))"
   ]
  },
  {
   "cell_type": "code",
   "execution_count": 314,
   "id": "d905fd15-097d-4e8d-bedc-57353b776714",
   "metadata": {},
   "outputs": [],
   "source": [
    "pow_two = [math.pow(2, i) for i in range(n_pow)]"
   ]
  },
  {
   "cell_type": "code",
   "execution_count": 315,
   "id": "93a0ea1c-1dda-4516-85f2-e429a9371b25",
   "metadata": {},
   "outputs": [
    {
     "name": "stdout",
     "output_type": "stream",
     "text": [
      "The new list is:  [1.0, 2.0, 4.0, 8.0, 16.0]\n"
     ]
    }
   ],
   "source": [
    "print('The new list is: ', pow_two)"
   ]
  },
  {
   "cell_type": "markdown",
   "id": "8942541d-dafc-4c50-8539-399741a98c2b",
   "metadata": {},
   "source": [
    "46. Find the longest string in a list of strings."
   ]
  },
  {
   "cell_type": "code",
   "execution_count": 316,
   "id": "f0e9d4de-b42d-4230-87fc-68c709bd4100",
   "metadata": {},
   "outputs": [
    {
     "data": {
      "text/plain": [
       "['Wow',\n",
       " 'What',\n",
       " 'is',\n",
       " 'that',\n",
       " 'thing',\n",
       " 'It',\n",
       " 'is',\n",
       " 'so',\n",
       " 'beautiful',\n",
       " 'I',\n",
       " 'cant',\n",
       " 'take',\n",
       " 'my',\n",
       " 'eyes',\n",
       " 'off',\n",
       " 'of',\n",
       " 'it']"
      ]
     },
     "execution_count": 316,
     "metadata": {},
     "output_type": "execute_result"
    }
   ],
   "source": [
    "l21"
   ]
  },
  {
   "cell_type": "code",
   "execution_count": 317,
   "id": "90162c01-6ac8-4944-a656-cacfe29df67e",
   "metadata": {},
   "outputs": [],
   "source": [
    "longest_string = ''"
   ]
  },
  {
   "cell_type": "code",
   "execution_count": 318,
   "id": "1316f8fe-0048-4e7b-934d-702cfca6b3f4",
   "metadata": {},
   "outputs": [],
   "source": [
    "for i in range(len(l21)):\n",
    "    if len(longest_string) >= len(l21[i])  :\n",
    "        longest_string = longest_string\n",
    "    else:\n",
    "        longest_string = l21[i]"
   ]
  },
  {
   "cell_type": "code",
   "execution_count": 319,
   "id": "d5aa5141-a533-4009-9036-30fcb9b7f6f7",
   "metadata": {},
   "outputs": [
    {
     "name": "stdout",
     "output_type": "stream",
     "text": [
      "The longest string in a list of strings is:  beautiful\n"
     ]
    }
   ],
   "source": [
    "print('The longest string in a list of strings is: ', longest_string)"
   ]
  },
  {
   "cell_type": "markdown",
   "id": "0b85ed60-64b7-491d-a6c1-f3c0d2210a83",
   "metadata": {},
   "source": [
    "47. Find the shortest string in a list of strings."
   ]
  },
  {
   "cell_type": "code",
   "execution_count": 320,
   "id": "462ab9e6-20cc-462c-9f4d-6fed7be67b2d",
   "metadata": {},
   "outputs": [
    {
     "data": {
      "text/plain": [
       "['Wow',\n",
       " 'What',\n",
       " 'is',\n",
       " 'that',\n",
       " 'thing',\n",
       " 'It',\n",
       " 'is',\n",
       " 'so',\n",
       " 'beautiful',\n",
       " 'I',\n",
       " 'cant',\n",
       " 'take',\n",
       " 'my',\n",
       " 'eyes',\n",
       " 'off',\n",
       " 'of',\n",
       " 'it']"
      ]
     },
     "execution_count": 320,
     "metadata": {},
     "output_type": "execute_result"
    }
   ],
   "source": [
    "l21"
   ]
  },
  {
   "cell_type": "code",
   "execution_count": 321,
   "id": "534e7d06-9a46-414a-a33d-e14fbbeb3cf1",
   "metadata": {},
   "outputs": [],
   "source": [
    "shortest_string = 'abcdefghijklmnopqrstuvwxyzABCDEFGHIJKLMNOPQRSTUVWXYZabcdefghijklmnopqrstuvwxyzABCDEFGHIJKLMNOPQRSTUVWXYZ'"
   ]
  },
  {
   "cell_type": "code",
   "execution_count": 322,
   "id": "0951c9a3-ed3e-4a7a-a3d7-d6a20b09efdb",
   "metadata": {},
   "outputs": [],
   "source": [
    "for i in range(len(l21)):\n",
    "    if len(shortest_string) <= len(l21[i]):\n",
    "        shortest_string = shortest_string\n",
    "    else:\n",
    "        shortest_string = l21[i]"
   ]
  },
  {
   "cell_type": "code",
   "execution_count": 323,
   "id": "049a7545-3a07-41e1-9e8a-7234c09fa7f7",
   "metadata": {},
   "outputs": [
    {
     "name": "stdout",
     "output_type": "stream",
     "text": [
      "The shortest string in a list of strings is:  I\n"
     ]
    }
   ],
   "source": [
    "print('The shortest string in a list of strings is: ', shortest_string)"
   ]
  },
  {
   "cell_type": "markdown",
   "id": "d8b4b6ed-8842-4bd7-98b7-76b20d1ca6fd",
   "metadata": {},
   "source": [
    "48. Create a list of the first `n` triangular numbers."
   ]
  },
  {
   "cell_type": "code",
   "execution_count": 324,
   "id": "e3172d17-bd5d-4192-b412-ff727a3ac918",
   "metadata": {},
   "outputs": [],
   "source": [
    "tri_list = []"
   ]
  },
  {
   "cell_type": "code",
   "execution_count": 325,
   "id": "d444e6aa-d1cf-4690-b751-23dd15b70bdd",
   "metadata": {},
   "outputs": [
    {
     "name": "stdin",
     "output_type": "stream",
     "text": [
      "Enter the number till which you want the triangular numbers:  10\n"
     ]
    }
   ],
   "source": [
    "n_tri = int(input('Enter the number till which you want the triangular numbers: '))"
   ]
  },
  {
   "cell_type": "code",
   "execution_count": 326,
   "id": "d103938d-ce3e-4832-9630-d1ee7d80ee2a",
   "metadata": {},
   "outputs": [],
   "source": [
    "for i in range(1, n_tri+1):\n",
    "    result = 1\n",
    "    result = (i*(i+1))/2\n",
    "    tri_list.append(result)"
   ]
  },
  {
   "cell_type": "code",
   "execution_count": 327,
   "id": "cd0d101c-8f6c-463c-9572-4998309737fe",
   "metadata": {},
   "outputs": [
    {
     "name": "stdout",
     "output_type": "stream",
     "text": [
      "The list with first 10 triangular numbers is:  [1.0, 3.0, 6.0, 10.0, 15.0, 21.0, 28.0, 36.0, 45.0, 55.0]\n"
     ]
    }
   ],
   "source": [
    "print('The list with first {} triangular numbers is: '.format(n_tri), tri_list)"
   ]
  },
  {
   "cell_type": "markdown",
   "id": "cc0c0c93-327e-498d-a018-fbb3a2a4ac15",
   "metadata": {},
   "source": [
    "49. Check if a list contains another list as a subsequence."
   ]
  },
  {
   "cell_type": "code",
   "execution_count": 328,
   "id": "d8bf7321-4e61-4e8b-bf69-f738ded5b665",
   "metadata": {},
   "outputs": [],
   "source": [
    "main_list = [1,2,3,4,5]\n",
    "sub_list = [2,4]"
   ]
  },
  {
   "cell_type": "code",
   "execution_count": 329,
   "id": "ae8e4d5b-ae2c-4ebd-ba7e-f677121ba9af",
   "metadata": {},
   "outputs": [],
   "source": [
    "m, n = len(main_list), len(sub_list)\n",
    "i, j = 0, 0"
   ]
  },
  {
   "cell_type": "code",
   "execution_count": 330,
   "id": "4e9bf4de-735d-4696-aafd-6faf4c32cf2a",
   "metadata": {},
   "outputs": [],
   "source": [
    "while i<m and j<n:\n",
    "    if main_list[i] == sub_list[j]:\n",
    "        j += 1\n",
    "    i +=1"
   ]
  },
  {
   "cell_type": "code",
   "execution_count": 331,
   "id": "4e12f168-1146-46e6-8b89-611ca279a9e2",
   "metadata": {},
   "outputs": [
    {
     "name": "stdout",
     "output_type": "stream",
     "text": [
      "The list contains another list as a subsequence.\n"
     ]
    }
   ],
   "source": [
    "if j == n:\n",
    "    print('The list contains another list as a subsequence.')\n",
    "else:\n",
    "    print('The list does not contains another list as a subsequence.')"
   ]
  },
  {
   "cell_type": "markdown",
   "id": "f3175ad8-3399-4091-91c7-4f32546e1c75",
   "metadata": {},
   "source": [
    "50. Swap two elements in a list by their indices."
   ]
  },
  {
   "cell_type": "code",
   "execution_count": 332,
   "id": "1a4557cd-0242-4aca-81be-26a17e7ab86c",
   "metadata": {},
   "outputs": [],
   "source": [
    "l22 = [2, 4, 6, 8, 10]"
   ]
  },
  {
   "cell_type": "code",
   "execution_count": 333,
   "id": "7567c036-712d-40e3-836a-f3642cb95b79",
   "metadata": {},
   "outputs": [
    {
     "name": "stdin",
     "output_type": "stream",
     "text": [
      "Enter the first index where you want the element swap to take place:  4\n"
     ]
    }
   ],
   "source": [
    "index1 = int(input('Enter the first index where you want the element swap to take place: '))"
   ]
  },
  {
   "cell_type": "code",
   "execution_count": 334,
   "id": "73609c95-48e5-466a-83c9-2fb52d2dee0c",
   "metadata": {},
   "outputs": [
    {
     "name": "stdin",
     "output_type": "stream",
     "text": [
      "Enter the second index where you want the element swap to take place:  2\n"
     ]
    }
   ],
   "source": [
    "index2 = int(input('Enter the second index where you want the element swap to take place: '))"
   ]
  },
  {
   "cell_type": "code",
   "execution_count": 335,
   "id": "ee023a02-54e6-4138-86d2-29259e85c74c",
   "metadata": {},
   "outputs": [],
   "source": [
    "if index1>=len(l22) or index2>=len(l22) or index1<0 or index2<0:\n",
    "    print('Indices out of range. Please choose indices between 0 and {}.'.format(len(l22)-1))"
   ]
  },
  {
   "cell_type": "code",
   "execution_count": 336,
   "id": "0ccce013-4243-4734-9f78-c6db6f31bbce",
   "metadata": {},
   "outputs": [],
   "source": [
    "l22[index1], l22[index2] = l22[index2], l22[index1]"
   ]
  },
  {
   "cell_type": "code",
   "execution_count": 337,
   "id": "317e52e9-8e93-462e-b65a-381e7d8f6219",
   "metadata": {},
   "outputs": [
    {
     "name": "stdout",
     "output_type": "stream",
     "text": [
      "The new list with swaped elements is:  [2, 4, 10, 8, 6]\n"
     ]
    }
   ],
   "source": [
    "print('The new list with swaped elements is: ', l22)"
   ]
  },
  {
   "cell_type": "markdown",
   "id": "c1a075c5-5b4e-4d44-bb96-264e5dff7a2e",
   "metadata": {
    "tags": []
   },
   "source": [
    "# Tuple Based Practice Problem :"
   ]
  },
  {
   "cell_type": "markdown",
   "id": "a509bccb-c563-4691-833a-027c7a476943",
   "metadata": {},
   "source": [
    "1. Create a tuple with integers from 1 to 5."
   ]
  },
  {
   "cell_type": "code",
   "execution_count": 338,
   "id": "8c60dd4d-2247-4b3c-bc7e-97fef5af5a62",
   "metadata": {},
   "outputs": [],
   "source": [
    "t1 = tuple(range(1,6))"
   ]
  },
  {
   "cell_type": "code",
   "execution_count": 339,
   "id": "339ac336-41bc-444c-b572-cbe8cf265fc6",
   "metadata": {
    "tags": []
   },
   "outputs": [
    {
     "data": {
      "text/plain": [
       "(1, 2, 3, 4, 5)"
      ]
     },
     "execution_count": 339,
     "metadata": {},
     "output_type": "execute_result"
    }
   ],
   "source": [
    "t1"
   ]
  },
  {
   "cell_type": "markdown",
   "id": "9400fea9-9475-4da1-b53b-472493374408",
   "metadata": {},
   "source": [
    "2. Access the third element of a tuple."
   ]
  },
  {
   "cell_type": "code",
   "execution_count": 340,
   "id": "01ab2ced-ff54-43b5-bc0e-eed42c6f1d15",
   "metadata": {},
   "outputs": [
    {
     "data": {
      "text/plain": [
       "(1, 2, 3, 4, 5)"
      ]
     },
     "execution_count": 340,
     "metadata": {},
     "output_type": "execute_result"
    }
   ],
   "source": [
    "t1"
   ]
  },
  {
   "cell_type": "code",
   "execution_count": 341,
   "id": "b4b235ae-6db6-4313-bd20-576f47ec166b",
   "metadata": {},
   "outputs": [
    {
     "name": "stdout",
     "output_type": "stream",
     "text": [
      "The third element of the tuple is:  3\n"
     ]
    }
   ],
   "source": [
    "print('The third element of the tuple is: ',t1[2])"
   ]
  },
  {
   "cell_type": "markdown",
   "id": "ef65a259-b113-4d85-82f5-9c57159cb1c3",
   "metadata": {},
   "source": [
    "3. Find the length of a tuple without using the `len()` function."
   ]
  },
  {
   "cell_type": "code",
   "execution_count": 342,
   "id": "fa3d6205-bfc4-4767-bafd-f4cd289f63cd",
   "metadata": {},
   "outputs": [
    {
     "data": {
      "text/plain": [
       "(1, 2, 3, 4, 5)"
      ]
     },
     "execution_count": 342,
     "metadata": {},
     "output_type": "execute_result"
    }
   ],
   "source": [
    "t1"
   ]
  },
  {
   "cell_type": "code",
   "execution_count": 343,
   "id": "39d0578f-e38d-4eb2-83c6-d8434f4ec02d",
   "metadata": {},
   "outputs": [],
   "source": [
    "count = 0"
   ]
  },
  {
   "cell_type": "code",
   "execution_count": 344,
   "id": "567e3649-589f-4555-845c-02f09447d382",
   "metadata": {},
   "outputs": [],
   "source": [
    "for i in t1:\n",
    "    count += 1"
   ]
  },
  {
   "cell_type": "code",
   "execution_count": 345,
   "id": "7ef77020-a34f-4689-88fe-9c3b0b4c6020",
   "metadata": {},
   "outputs": [
    {
     "name": "stdout",
     "output_type": "stream",
     "text": [
      "The length of the given tuple is:  5\n"
     ]
    }
   ],
   "source": [
    "print('The length of the given tuple is: ', count)"
   ]
  },
  {
   "cell_type": "markdown",
   "id": "ca3d605c-e699-4431-9977-58ae4b0f03a8",
   "metadata": {},
   "source": [
    "4. Count the occurrences of an element in a tuple."
   ]
  },
  {
   "cell_type": "code",
   "execution_count": 346,
   "id": "32bb7e47-6073-4a59-8602-b61f489d338a",
   "metadata": {},
   "outputs": [],
   "source": [
    "t2 = (1, 3, 2, 6, 3, 7, 4, 3)"
   ]
  },
  {
   "cell_type": "code",
   "execution_count": 347,
   "id": "3ea9c843-3b7f-489e-b145-8eaecbe947cd",
   "metadata": {},
   "outputs": [
    {
     "data": {
      "text/plain": [
       "3"
      ]
     },
     "execution_count": 347,
     "metadata": {},
     "output_type": "execute_result"
    }
   ],
   "source": [
    "t2.count(3)"
   ]
  },
  {
   "cell_type": "markdown",
   "id": "d7494f90-4482-4d52-af0a-732b8ce5ceb0",
   "metadata": {},
   "source": [
    "5. Find the index of the first occurrence of an element in a tuple."
   ]
  },
  {
   "cell_type": "code",
   "execution_count": 348,
   "id": "5c0b9a28-0a92-4624-90d0-d2cc21d371ee",
   "metadata": {},
   "outputs": [
    {
     "data": {
      "text/plain": [
       "(1, 3, 2, 6, 3, 7, 4, 3)"
      ]
     },
     "execution_count": 348,
     "metadata": {},
     "output_type": "execute_result"
    }
   ],
   "source": [
    "t2"
   ]
  },
  {
   "cell_type": "code",
   "execution_count": 349,
   "id": "1fb81658-082e-4f55-8e59-1c6217e0d35c",
   "metadata": {},
   "outputs": [
    {
     "data": {
      "text/plain": [
       "1"
      ]
     },
     "execution_count": 349,
     "metadata": {},
     "output_type": "execute_result"
    }
   ],
   "source": [
    "t2.index(3)"
   ]
  },
  {
   "cell_type": "markdown",
   "id": "e47b3853-69e8-4b93-8705-6f8649a572d6",
   "metadata": {},
   "source": [
    "6. Check if an element exists in a tuple."
   ]
  },
  {
   "cell_type": "code",
   "execution_count": 350,
   "id": "abe170f7-e8ec-4df6-bbb5-c8e53803f20b",
   "metadata": {},
   "outputs": [
    {
     "data": {
      "text/plain": [
       "(1, 2, 3, 4, 5)"
      ]
     },
     "execution_count": 350,
     "metadata": {},
     "output_type": "execute_result"
    }
   ],
   "source": [
    "t1"
   ]
  },
  {
   "cell_type": "code",
   "execution_count": 351,
   "id": "64c2b14b-088c-4cad-8b68-8b9e8ea83025",
   "metadata": {},
   "outputs": [],
   "source": [
    "check_element = 3\n",
    "present = False"
   ]
  },
  {
   "cell_type": "code",
   "execution_count": 352,
   "id": "a1440386-eed1-4851-a69b-147882852fe6",
   "metadata": {},
   "outputs": [],
   "source": [
    "for i in t1:\n",
    "    if i == check_element:\n",
    "        present = True\n",
    "        break"
   ]
  },
  {
   "cell_type": "code",
   "execution_count": 353,
   "id": "41e6cae7-f9c0-42d3-a3d2-7663675e97e4",
   "metadata": {},
   "outputs": [
    {
     "name": "stdout",
     "output_type": "stream",
     "text": [
      "The element is present.\n"
     ]
    }
   ],
   "source": [
    "if present == True:\n",
    "    print('The element is present.')\n",
    "else:\n",
    "    print('The element is not present.')"
   ]
  },
  {
   "cell_type": "markdown",
   "id": "c9f42394-b1d0-4976-b69b-d9b4228c59dc",
   "metadata": {},
   "source": [
    "7. Convert a tuple to a list."
   ]
  },
  {
   "cell_type": "code",
   "execution_count": 354,
   "id": "dfc07d9f-7eba-4862-82d9-cc5165b2fce2",
   "metadata": {},
   "outputs": [
    {
     "data": {
      "text/plain": [
       "(1, 2, 3, 4, 5)"
      ]
     },
     "execution_count": 354,
     "metadata": {},
     "output_type": "execute_result"
    }
   ],
   "source": [
    "t1"
   ]
  },
  {
   "cell_type": "code",
   "execution_count": 355,
   "id": "5c3685d6-e9e0-4bf0-b999-dd7d06245a2a",
   "metadata": {},
   "outputs": [],
   "source": [
    "l23 = list(t1)"
   ]
  },
  {
   "cell_type": "code",
   "execution_count": 356,
   "id": "441ed8fd-9bfc-4403-b730-7067953f8119",
   "metadata": {},
   "outputs": [
    {
     "data": {
      "text/plain": [
       "[1, 2, 3, 4, 5]"
      ]
     },
     "execution_count": 356,
     "metadata": {},
     "output_type": "execute_result"
    }
   ],
   "source": [
    "l23"
   ]
  },
  {
   "cell_type": "markdown",
   "id": "e43a1343-2c46-4be7-abad-04777dd59b33",
   "metadata": {},
   "source": [
    "8. Convert a list to a tuple."
   ]
  },
  {
   "cell_type": "code",
   "execution_count": 357,
   "id": "92a5afac-51a6-4fde-a40d-9d9a775f1d04",
   "metadata": {},
   "outputs": [
    {
     "data": {
      "text/plain": [
       "[2, 4, 10, 8, 6]"
      ]
     },
     "execution_count": 357,
     "metadata": {},
     "output_type": "execute_result"
    }
   ],
   "source": [
    "l22"
   ]
  },
  {
   "cell_type": "code",
   "execution_count": 358,
   "id": "d0d31333-8b05-4f10-9bba-4434a6f8108b",
   "metadata": {},
   "outputs": [],
   "source": [
    "t3 = tuple(l22)"
   ]
  },
  {
   "cell_type": "code",
   "execution_count": 359,
   "id": "6c28073b-1df6-480a-afb8-a757f453ce92",
   "metadata": {},
   "outputs": [
    {
     "data": {
      "text/plain": [
       "(2, 4, 10, 8, 6)"
      ]
     },
     "execution_count": 359,
     "metadata": {},
     "output_type": "execute_result"
    }
   ],
   "source": [
    "t3"
   ]
  },
  {
   "cell_type": "markdown",
   "id": "7c8ee024-ae84-4c16-9b61-c54b40c77fa5",
   "metadata": {},
   "source": [
    "9. Unpack the elements of a tuple into variables."
   ]
  },
  {
   "cell_type": "code",
   "execution_count": 360,
   "id": "f6d70602-a900-4620-b2bf-4fe847835bb9",
   "metadata": {},
   "outputs": [
    {
     "data": {
      "text/plain": [
       "(2, 4, 10, 8, 6)"
      ]
     },
     "execution_count": 360,
     "metadata": {},
     "output_type": "execute_result"
    }
   ],
   "source": [
    "t3"
   ]
  },
  {
   "cell_type": "code",
   "execution_count": 361,
   "id": "b97ff7d7-7689-4682-a3fd-6c111f051703",
   "metadata": {},
   "outputs": [],
   "source": [
    "a, *b, c = t3"
   ]
  },
  {
   "cell_type": "code",
   "execution_count": 362,
   "id": "5544120f-fd33-4f4c-b582-b6a77e997429",
   "metadata": {},
   "outputs": [
    {
     "data": {
      "text/plain": [
       "2"
      ]
     },
     "execution_count": 362,
     "metadata": {},
     "output_type": "execute_result"
    }
   ],
   "source": [
    "a"
   ]
  },
  {
   "cell_type": "code",
   "execution_count": 363,
   "id": "4bc6a47d-e903-496e-aa13-fd4fed581fd6",
   "metadata": {},
   "outputs": [
    {
     "data": {
      "text/plain": [
       "[4, 10, 8]"
      ]
     },
     "execution_count": 363,
     "metadata": {},
     "output_type": "execute_result"
    }
   ],
   "source": [
    "b"
   ]
  },
  {
   "cell_type": "code",
   "execution_count": 364,
   "id": "75a6d12a-89d7-48f8-a5f5-3f0793d64a8a",
   "metadata": {},
   "outputs": [
    {
     "data": {
      "text/plain": [
       "6"
      ]
     },
     "execution_count": 364,
     "metadata": {},
     "output_type": "execute_result"
    }
   ],
   "source": [
    "c"
   ]
  },
  {
   "cell_type": "markdown",
   "id": "e6c5e1b6-4ea0-41ad-9674-5dbe2ac19729",
   "metadata": {},
   "source": [
    "10. Create a tuple of even numbers from 1 to 10."
   ]
  },
  {
   "cell_type": "code",
   "execution_count": 365,
   "id": "b49c81cc-2472-4f6d-b649-e6a456719e8a",
   "metadata": {},
   "outputs": [],
   "source": [
    "l24 = []"
   ]
  },
  {
   "cell_type": "code",
   "execution_count": 366,
   "id": "2a7ebfae-4b4a-4864-90c4-7ebd96935662",
   "metadata": {},
   "outputs": [],
   "source": [
    "for i in range(1,11):\n",
    "    if i%2 == 0:\n",
    "        l24.append(i)"
   ]
  },
  {
   "cell_type": "code",
   "execution_count": 367,
   "id": "0b83e544-c185-4c42-a660-12379ade4aac",
   "metadata": {},
   "outputs": [],
   "source": [
    "t4 = tuple(l24)"
   ]
  },
  {
   "cell_type": "code",
   "execution_count": 368,
   "id": "2bf0bd88-8c7d-41b1-b95c-47d6590cf51b",
   "metadata": {},
   "outputs": [
    {
     "data": {
      "text/plain": [
       "(2, 4, 6, 8, 10)"
      ]
     },
     "execution_count": 368,
     "metadata": {},
     "output_type": "execute_result"
    }
   ],
   "source": [
    "t4"
   ]
  },
  {
   "cell_type": "markdown",
   "id": "b1bf4221-0fa2-4095-9dce-184b9cf69638",
   "metadata": {},
   "source": [
    "11. Create a tuple of odd numbers from 1 to 10."
   ]
  },
  {
   "cell_type": "code",
   "execution_count": 369,
   "id": "aacd1afe-15c1-4b50-b626-1b6f2c6c4f21",
   "metadata": {},
   "outputs": [],
   "source": [
    "l25 = []"
   ]
  },
  {
   "cell_type": "code",
   "execution_count": 370,
   "id": "301d494f-e501-42e1-9bc8-2963e6d5982a",
   "metadata": {},
   "outputs": [],
   "source": [
    "for i in range(1,11):\n",
    "    if i%2!=0:\n",
    "        l25.append(i)"
   ]
  },
  {
   "cell_type": "code",
   "execution_count": 371,
   "id": "0fd3eb8b-55ea-4911-a56a-d3ed274ae403",
   "metadata": {},
   "outputs": [],
   "source": [
    "t5 = tuple(l25)"
   ]
  },
  {
   "cell_type": "code",
   "execution_count": 372,
   "id": "3386fef4-c6c2-4160-82e2-b8212bbaa26c",
   "metadata": {},
   "outputs": [
    {
     "data": {
      "text/plain": [
       "(1, 3, 5, 7, 9)"
      ]
     },
     "execution_count": 372,
     "metadata": {},
     "output_type": "execute_result"
    }
   ],
   "source": [
    "t5"
   ]
  },
  {
   "cell_type": "markdown",
   "id": "e097e3b2-a132-4d53-8c53-51b1defe3597",
   "metadata": {},
   "source": [
    "12. Concatenate two tuples."
   ]
  },
  {
   "cell_type": "code",
   "execution_count": 373,
   "id": "2f82e8ad-1fea-4cbc-9984-ed0a6039f60e",
   "metadata": {},
   "outputs": [
    {
     "data": {
      "text/plain": [
       "(2, 4, 6, 8, 10)"
      ]
     },
     "execution_count": 373,
     "metadata": {},
     "output_type": "execute_result"
    }
   ],
   "source": [
    "t4"
   ]
  },
  {
   "cell_type": "code",
   "execution_count": 374,
   "id": "4eed1f79-2eb9-486a-acb2-081508a1be4f",
   "metadata": {},
   "outputs": [
    {
     "data": {
      "text/plain": [
       "(1, 3, 5, 7, 9)"
      ]
     },
     "execution_count": 374,
     "metadata": {},
     "output_type": "execute_result"
    }
   ],
   "source": [
    "t5"
   ]
  },
  {
   "cell_type": "code",
   "execution_count": 375,
   "id": "557ca603-8f21-444d-8a31-69f62ac52ddb",
   "metadata": {},
   "outputs": [],
   "source": [
    "t6 = t4+t5"
   ]
  },
  {
   "cell_type": "code",
   "execution_count": 376,
   "id": "c3f394ef-ec33-49ed-9bbe-5a076a5f921a",
   "metadata": {},
   "outputs": [
    {
     "data": {
      "text/plain": [
       "(2, 4, 6, 8, 10, 1, 3, 5, 7, 9)"
      ]
     },
     "execution_count": 376,
     "metadata": {},
     "output_type": "execute_result"
    }
   ],
   "source": [
    "t6"
   ]
  },
  {
   "cell_type": "markdown",
   "id": "56d4c6d5-ce02-448c-a67b-a8aea5d8626a",
   "metadata": {},
   "source": [
    "13. Repeat a tuple three times."
   ]
  },
  {
   "cell_type": "code",
   "execution_count": 377,
   "id": "750624e9-cdc5-448b-b76c-fe82237b01d1",
   "metadata": {},
   "outputs": [
    {
     "data": {
      "text/plain": [
       "(1, 2, 3, 4, 5)"
      ]
     },
     "execution_count": 377,
     "metadata": {},
     "output_type": "execute_result"
    }
   ],
   "source": [
    "t1"
   ]
  },
  {
   "cell_type": "code",
   "execution_count": 378,
   "id": "bd3bcecc-5158-41b5-9ca8-f248babad5a8",
   "metadata": {},
   "outputs": [
    {
     "data": {
      "text/plain": [
       "(1, 2, 3, 4, 5, 1, 2, 3, 4, 5, 1, 2, 3, 4, 5)"
      ]
     },
     "execution_count": 378,
     "metadata": {},
     "output_type": "execute_result"
    }
   ],
   "source": [
    "t1*3"
   ]
  },
  {
   "cell_type": "markdown",
   "id": "54948953-a84d-4ec7-8836-8849b25b690f",
   "metadata": {},
   "source": [
    "14. Check if a tuple is empty."
   ]
  },
  {
   "cell_type": "code",
   "execution_count": 379,
   "id": "eb806d7c-2414-4346-a712-5c0bd3069ea4",
   "metadata": {},
   "outputs": [],
   "source": [
    "t7 = ()"
   ]
  },
  {
   "cell_type": "code",
   "execution_count": 380,
   "id": "98743456-6c0a-4be8-a6fd-7213c31a1557",
   "metadata": {},
   "outputs": [],
   "source": [
    "count = 0\n",
    "\n",
    "for i in t7:\n",
    "    count += 1"
   ]
  },
  {
   "cell_type": "code",
   "execution_count": 381,
   "id": "6ca6a0f5-f68f-4501-97fb-f0dea828580b",
   "metadata": {},
   "outputs": [
    {
     "name": "stdout",
     "output_type": "stream",
     "text": [
      "Tuple is empty\n"
     ]
    }
   ],
   "source": [
    "if count!=0:\n",
    "    print('Tuple is not empty.')\n",
    "else:\n",
    "    print('Tuple is empty')"
   ]
  },
  {
   "cell_type": "markdown",
   "id": "f57ab805-7219-4906-b62f-86327dcd5ec0",
   "metadata": {},
   "source": [
    "15. Create a nested tuple.\n",
    "16. Access the first element of a nested tuple."
   ]
  },
  {
   "cell_type": "code",
   "execution_count": 382,
   "id": "916a1ade-d72e-4ee2-a890-adb9d4efc2b4",
   "metadata": {},
   "outputs": [
    {
     "data": {
      "text/plain": [
       "(1, 2, 3, 4, 5)"
      ]
     },
     "execution_count": 382,
     "metadata": {},
     "output_type": "execute_result"
    }
   ],
   "source": [
    "t1"
   ]
  },
  {
   "cell_type": "code",
   "execution_count": 383,
   "id": "b312610c-e83f-4593-8b27-2f34332d4283",
   "metadata": {},
   "outputs": [],
   "source": [
    "t7 = (1, 2, t1, 8)"
   ]
  },
  {
   "cell_type": "code",
   "execution_count": 384,
   "id": "b718c4e5-d7f4-4e85-bc33-e0907bed9615",
   "metadata": {},
   "outputs": [
    {
     "data": {
      "text/plain": [
       "(1, 2, (1, 2, 3, 4, 5), 8)"
      ]
     },
     "execution_count": 384,
     "metadata": {},
     "output_type": "execute_result"
    }
   ],
   "source": [
    "t7 #15."
   ]
  },
  {
   "cell_type": "code",
   "execution_count": 385,
   "id": "3ddfbd84-05c9-4975-aa8d-b44e7292a971",
   "metadata": {},
   "outputs": [
    {
     "data": {
      "text/plain": [
       "1"
      ]
     },
     "execution_count": 385,
     "metadata": {},
     "output_type": "execute_result"
    }
   ],
   "source": [
    "t7[0] #16."
   ]
  },
  {
   "cell_type": "markdown",
   "id": "cf2df3fb-3a3b-468e-a0ae-8668667b45be",
   "metadata": {},
   "source": [
    "17. Create a tuple with a single element."
   ]
  },
  {
   "cell_type": "code",
   "execution_count": 386,
   "id": "71751608-4d15-4923-aa39-9efafd0b9892",
   "metadata": {},
   "outputs": [],
   "source": [
    "t8 = (1,)"
   ]
  },
  {
   "cell_type": "code",
   "execution_count": 387,
   "id": "63aafaf2-af5b-480f-9a95-ca8e851c8ff5",
   "metadata": {},
   "outputs": [
    {
     "data": {
      "text/plain": [
       "(tuple, (1,))"
      ]
     },
     "execution_count": 387,
     "metadata": {},
     "output_type": "execute_result"
    }
   ],
   "source": [
    "type(t8), t8"
   ]
  },
  {
   "cell_type": "markdown",
   "id": "0b9ca1df-3a5b-4e36-96ed-7f88e3c29685",
   "metadata": {},
   "source": [
    "18. Compare two tuples."
   ]
  },
  {
   "cell_type": "code",
   "execution_count": 388,
   "id": "f46b5f9b-80f3-4e8e-b021-24af08450532",
   "metadata": {},
   "outputs": [],
   "source": [
    "tup1 = (1, 2, 3)\n",
    "tup2 = (1, 2, 3)\n",
    "tup3 = (1, 2, 4)\n",
    "tup4 = (0, 1, 2)"
   ]
  },
  {
   "cell_type": "code",
   "execution_count": 389,
   "id": "57ff9a8a-c88a-4ca1-a05a-6c9225afd8c5",
   "metadata": {},
   "outputs": [
    {
     "name": "stdout",
     "output_type": "stream",
     "text": [
      "True\n"
     ]
    }
   ],
   "source": [
    "are_equal = tup1 == tup2\n",
    "print(are_equal)"
   ]
  },
  {
   "cell_type": "code",
   "execution_count": 390,
   "id": "74ee8ebd-bd2c-4cc5-85ef-18e79899f443",
   "metadata": {},
   "outputs": [
    {
     "name": "stdout",
     "output_type": "stream",
     "text": [
      "True\n"
     ]
    }
   ],
   "source": [
    "are_not_equal = tup1 != tup3\n",
    "print(are_not_equal)"
   ]
  },
  {
   "cell_type": "code",
   "execution_count": 391,
   "id": "7013273e-77ee-4ad9-adf7-1fe6385d1c30",
   "metadata": {},
   "outputs": [
    {
     "name": "stdout",
     "output_type": "stream",
     "text": [
      "False\n"
     ]
    }
   ],
   "source": [
    "is_greater = tup1 > tup3\n",
    "print(is_greater)"
   ]
  },
  {
   "cell_type": "code",
   "execution_count": 392,
   "id": "bb50531b-c5a0-435a-85c3-e12dcf12e1a0",
   "metadata": {},
   "outputs": [
    {
     "name": "stdout",
     "output_type": "stream",
     "text": [
      "True\n"
     ]
    }
   ],
   "source": [
    "is_lesser = tup4 < tup3\n",
    "print(is_lesser)"
   ]
  },
  {
   "cell_type": "code",
   "execution_count": 393,
   "id": "2ddf43b6-caf5-4714-bb1e-902fcd68e50b",
   "metadata": {},
   "outputs": [
    {
     "name": "stdout",
     "output_type": "stream",
     "text": [
      "True\n"
     ]
    }
   ],
   "source": [
    "is_greater_or_equal = tup1 >= tup2\n",
    "print(is_greater_or_equal)"
   ]
  },
  {
   "cell_type": "code",
   "execution_count": 394,
   "id": "ca5630df-224f-46f0-bc4e-f8e06ccc7aa9",
   "metadata": {},
   "outputs": [
    {
     "name": "stdout",
     "output_type": "stream",
     "text": [
      "True\n"
     ]
    }
   ],
   "source": [
    "is_lesser_or_equal = tup4 <= tup1\n",
    "print(is_lesser_or_equal)"
   ]
  },
  {
   "cell_type": "markdown",
   "id": "46d6b59e-7488-49d7-9067-54bf7479ffc3",
   "metadata": {},
   "source": [
    "19. Delete a tuple."
   ]
  },
  {
   "cell_type": "code",
   "execution_count": 395,
   "id": "540bcfb6-c03c-46a3-a5c9-645f7c999b9a",
   "metadata": {},
   "outputs": [
    {
     "data": {
      "text/plain": [
       "(1,)"
      ]
     },
     "execution_count": 395,
     "metadata": {},
     "output_type": "execute_result"
    }
   ],
   "source": [
    "t8"
   ]
  },
  {
   "cell_type": "code",
   "execution_count": 396,
   "id": "ca4a7ae2-54ef-4465-9b2a-8805ac83f067",
   "metadata": {},
   "outputs": [],
   "source": [
    "del t8"
   ]
  },
  {
   "cell_type": "code",
   "execution_count": 397,
   "id": "fe9e7a49-6cd1-42e1-9236-d5513b4fe7c0",
   "metadata": {},
   "outputs": [
    {
     "name": "stdout",
     "output_type": "stream",
     "text": [
      "Error:  name 't8' is not defined\n"
     ]
    }
   ],
   "source": [
    "try:\n",
    "    print(t8)\n",
    "except NameError as e:\n",
    "    print('Error: ',e)"
   ]
  },
  {
   "cell_type": "markdown",
   "id": "d4f279ba-1773-443f-b28b-4d47245c7533",
   "metadata": {},
   "source": [
    "20. Slice a tuple."
   ]
  },
  {
   "cell_type": "code",
   "execution_count": 398,
   "id": "33ad4f16-846f-4a3f-9228-aac54a371712",
   "metadata": {},
   "outputs": [
    {
     "data": {
      "text/plain": [
       "(1, 2, (1, 2, 3, 4, 5), 8)"
      ]
     },
     "execution_count": 398,
     "metadata": {},
     "output_type": "execute_result"
    }
   ],
   "source": [
    "t7"
   ]
  },
  {
   "cell_type": "code",
   "execution_count": 399,
   "id": "dd91f337-b991-44e3-a516-7e481415d74f",
   "metadata": {},
   "outputs": [
    {
     "data": {
      "text/plain": [
       "((1, 2, 3, 4, 5), 8)"
      ]
     },
     "execution_count": 399,
     "metadata": {},
     "output_type": "execute_result"
    }
   ],
   "source": [
    "t7[2:]"
   ]
  },
  {
   "cell_type": "markdown",
   "id": "cb5b4a6a-994f-465a-9eb7-a3b2c7ba29ff",
   "metadata": {},
   "source": [
    "21. Find the maximum value in a tuple."
   ]
  },
  {
   "cell_type": "code",
   "execution_count": 400,
   "id": "d8e42619-4d72-4922-8bbc-cef86d32ba67",
   "metadata": {},
   "outputs": [
    {
     "data": {
      "text/plain": [
       "(2, 4, 6, 8, 10, 1, 3, 5, 7, 9)"
      ]
     },
     "execution_count": 400,
     "metadata": {},
     "output_type": "execute_result"
    }
   ],
   "source": [
    "t6"
   ]
  },
  {
   "cell_type": "code",
   "execution_count": 401,
   "id": "43fd5d3b-317f-4735-80d0-16a9666f57dc",
   "metadata": {},
   "outputs": [],
   "source": [
    "max_val = 0"
   ]
  },
  {
   "cell_type": "code",
   "execution_count": 402,
   "id": "83180f47-baf6-4bff-86dd-a020bf1ed9f1",
   "metadata": {},
   "outputs": [],
   "source": [
    "for i in t6:\n",
    "    if max_val < i:\n",
    "        max_val = i\n",
    "    else:\n",
    "        max_val"
   ]
  },
  {
   "cell_type": "code",
   "execution_count": 403,
   "id": "120d22d2-3dc5-4918-af87-d6a34ef113a2",
   "metadata": {},
   "outputs": [
    {
     "name": "stdout",
     "output_type": "stream",
     "text": [
      "The maximum value in the tuple is:  10\n"
     ]
    }
   ],
   "source": [
    "print('The maximum value in the tuple is: ', max_val)"
   ]
  },
  {
   "cell_type": "markdown",
   "id": "835557a0-5c7f-473f-bee9-8b645ccf7cae",
   "metadata": {},
   "source": [
    "22. Find the minimum value in a tuple."
   ]
  },
  {
   "cell_type": "code",
   "execution_count": 404,
   "id": "d1558a31-51cf-4f58-881f-e9ca1b96893e",
   "metadata": {},
   "outputs": [
    {
     "data": {
      "text/plain": [
       "(2, 4, 6, 8, 10, 1, 3, 5, 7, 9)"
      ]
     },
     "execution_count": 404,
     "metadata": {},
     "output_type": "execute_result"
    }
   ],
   "source": [
    "t6"
   ]
  },
  {
   "cell_type": "code",
   "execution_count": 405,
   "id": "f8c13aff-7a81-4c79-af1b-b3ee8df5da77",
   "metadata": {},
   "outputs": [],
   "source": [
    "min_val = 999999999999"
   ]
  },
  {
   "cell_type": "code",
   "execution_count": 406,
   "id": "e878fdac-57fb-4cd6-b720-7a1a3483489c",
   "metadata": {},
   "outputs": [],
   "source": [
    "for i in t6:\n",
    "    if min_val > i:\n",
    "        min_val = i\n",
    "    else:\n",
    "        min_val"
   ]
  },
  {
   "cell_type": "code",
   "execution_count": 407,
   "id": "87372047-e3ad-4b50-87c0-724ce717fff5",
   "metadata": {},
   "outputs": [
    {
     "name": "stdout",
     "output_type": "stream",
     "text": [
      "The minimum value in the tuple is:  1\n"
     ]
    }
   ],
   "source": [
    "print('The minimum value in the tuple is: ', min_val)"
   ]
  },
  {
   "cell_type": "markdown",
   "id": "ea901444-3184-4889-b62b-7925e9a310e6",
   "metadata": {},
   "source": [
    "23. Convert a string to a tuple of characters."
   ]
  },
  {
   "cell_type": "code",
   "execution_count": 408,
   "id": "0035b1b3-7052-4263-a12d-f5809ae04c4b",
   "metadata": {},
   "outputs": [],
   "source": [
    "s29 = 'madam'"
   ]
  },
  {
   "cell_type": "code",
   "execution_count": 409,
   "id": "f3e88768-6078-4207-b7c4-332bf3af54a7",
   "metadata": {},
   "outputs": [],
   "source": [
    "l26 = []"
   ]
  },
  {
   "cell_type": "code",
   "execution_count": 410,
   "id": "bb26e831-cddb-4a3c-830b-f1aa49dd77ac",
   "metadata": {},
   "outputs": [],
   "source": [
    "for i in s29:\n",
    "    l26.append(i)"
   ]
  },
  {
   "cell_type": "code",
   "execution_count": 411,
   "id": "a0352dff-6fb0-4a89-b7df-60919755a490",
   "metadata": {},
   "outputs": [
    {
     "data": {
      "text/plain": [
       "['m', 'a', 'd', 'a', 'm']"
      ]
     },
     "execution_count": 411,
     "metadata": {},
     "output_type": "execute_result"
    }
   ],
   "source": [
    "l26"
   ]
  },
  {
   "cell_type": "code",
   "execution_count": 412,
   "id": "d32cba09-e2fa-4c05-83b6-4167aaf4a95a",
   "metadata": {},
   "outputs": [],
   "source": [
    "t8 = tuple(l26)"
   ]
  },
  {
   "cell_type": "code",
   "execution_count": 413,
   "id": "6b90c239-2314-48f3-b53d-d83ec90c7a36",
   "metadata": {},
   "outputs": [
    {
     "data": {
      "text/plain": [
       "('m', 'a', 'd', 'a', 'm')"
      ]
     },
     "execution_count": 413,
     "metadata": {},
     "output_type": "execute_result"
    }
   ],
   "source": [
    "t8"
   ]
  },
  {
   "cell_type": "markdown",
   "id": "632778a7-aad3-4c0a-87e2-bde766b88109",
   "metadata": {},
   "source": [
    "24. Convert a tuple of characters to a string."
   ]
  },
  {
   "cell_type": "code",
   "execution_count": 414,
   "id": "8da95988-6cd2-495d-a16e-f4603584147d",
   "metadata": {},
   "outputs": [],
   "source": [
    "t9 = ('k', 'i', 't', 'e')"
   ]
  },
  {
   "cell_type": "code",
   "execution_count": 415,
   "id": "5ae9c4c1-d4ca-44c2-a866-5a3af3afb651",
   "metadata": {},
   "outputs": [],
   "source": [
    "s30 = ''.join(t9)"
   ]
  },
  {
   "cell_type": "code",
   "execution_count": 416,
   "id": "2d46ac45-5406-401f-8512-a11e6d4f9613",
   "metadata": {},
   "outputs": [
    {
     "data": {
      "text/plain": [
       "'kite'"
      ]
     },
     "execution_count": 416,
     "metadata": {},
     "output_type": "execute_result"
    }
   ],
   "source": [
    "s30"
   ]
  },
  {
   "cell_type": "markdown",
   "id": "f18c91e6-9898-4f6c-92dc-cd94f5cc8003",
   "metadata": {},
   "source": [
    "25. Create a tuple from multiple data types."
   ]
  },
  {
   "cell_type": "code",
   "execution_count": 417,
   "id": "e59cb0f9-dac2-4273-b8b2-2d973aa363ed",
   "metadata": {},
   "outputs": [],
   "source": [
    "mix_tuple = (1, 2, 3.14, 'akash', 6+7j, [7, 8, 9], {'a':1, 'b':10}, (12, 13, 14))"
   ]
  },
  {
   "cell_type": "code",
   "execution_count": 418,
   "id": "55d65a5e-7fc1-41ba-8d72-bec21ca11e44",
   "metadata": {},
   "outputs": [
    {
     "data": {
      "text/plain": [
       "(1, 2, 3.14, 'akash', (6+7j), [7, 8, 9], {'a': 1, 'b': 10}, (12, 13, 14))"
      ]
     },
     "execution_count": 418,
     "metadata": {},
     "output_type": "execute_result"
    }
   ],
   "source": [
    "mix_tuple"
   ]
  },
  {
   "cell_type": "markdown",
   "id": "4f997413-cbd4-4676-b1d0-9f0c6d94cf17",
   "metadata": {},
   "source": [
    "26. Check if two tuples are identical."
   ]
  },
  {
   "cell_type": "code",
   "execution_count": 419,
   "id": "4e16feb0-3e40-4350-87db-9de2d696866c",
   "metadata": {},
   "outputs": [
    {
     "data": {
      "text/plain": [
       "(1, 2, 3)"
      ]
     },
     "execution_count": 419,
     "metadata": {},
     "output_type": "execute_result"
    }
   ],
   "source": [
    "tup1"
   ]
  },
  {
   "cell_type": "code",
   "execution_count": 420,
   "id": "e30cad73-f8fe-4a85-a5be-ef95f298a504",
   "metadata": {},
   "outputs": [
    {
     "data": {
      "text/plain": [
       "(1, 2, 3)"
      ]
     },
     "execution_count": 420,
     "metadata": {},
     "output_type": "execute_result"
    }
   ],
   "source": [
    "tup2"
   ]
  },
  {
   "cell_type": "code",
   "execution_count": 421,
   "id": "547688c9-32f5-4546-9a67-c4bb7ba2f666",
   "metadata": {},
   "outputs": [],
   "source": [
    "are_identical = tup1 == tup2"
   ]
  },
  {
   "cell_type": "code",
   "execution_count": 422,
   "id": "ac89ea19-b459-4b4b-b9c2-e8530be84b4d",
   "metadata": {},
   "outputs": [
    {
     "name": "stdout",
     "output_type": "stream",
     "text": [
      "True\n"
     ]
    }
   ],
   "source": [
    "print(are_identical)"
   ]
  },
  {
   "cell_type": "markdown",
   "id": "eb03370d-a1b3-41eb-bb9d-04d15ee15952",
   "metadata": {},
   "source": [
    "27. Sort the elements of a tuple."
   ]
  },
  {
   "cell_type": "code",
   "execution_count": 423,
   "id": "18d766d4-9898-4fee-97e6-62ec53cf901a",
   "metadata": {},
   "outputs": [
    {
     "data": {
      "text/plain": [
       "(1, 3, 2, 6, 3, 7, 4, 3)"
      ]
     },
     "execution_count": 423,
     "metadata": {},
     "output_type": "execute_result"
    }
   ],
   "source": [
    "t2"
   ]
  },
  {
   "cell_type": "code",
   "execution_count": 424,
   "id": "48100d24-d6ea-4e6d-a7a1-152a4e924ecb",
   "metadata": {},
   "outputs": [],
   "source": [
    "t2 = tuple(sorted(t2))"
   ]
  },
  {
   "cell_type": "code",
   "execution_count": 425,
   "id": "83cd2dbc-07c2-4916-93b0-8a9e08b8acff",
   "metadata": {},
   "outputs": [
    {
     "data": {
      "text/plain": [
       "(1, 2, 3, 3, 3, 4, 6, 7)"
      ]
     },
     "execution_count": 425,
     "metadata": {},
     "output_type": "execute_result"
    }
   ],
   "source": [
    "t2"
   ]
  },
  {
   "cell_type": "markdown",
   "id": "5ce741c7-7a65-4be6-aa70-e5cac8f9914c",
   "metadata": {},
   "source": [
    "28. Convert a tuple of integers to a tuple of strings."
   ]
  },
  {
   "cell_type": "code",
   "execution_count": 426,
   "id": "a7d5b5ba-0073-498e-8a44-3e072e9cc3ed",
   "metadata": {},
   "outputs": [
    {
     "data": {
      "text/plain": [
       "(1, 2, 3, 4, 5)"
      ]
     },
     "execution_count": 426,
     "metadata": {},
     "output_type": "execute_result"
    }
   ],
   "source": [
    "t1"
   ]
  },
  {
   "cell_type": "code",
   "execution_count": 427,
   "id": "5bd25abc-65b3-442b-ba50-182094146eb3",
   "metadata": {},
   "outputs": [],
   "source": [
    "l31 = list(t1)"
   ]
  },
  {
   "cell_type": "code",
   "execution_count": 428,
   "id": "282284f9-6072-49b9-8073-a90d211f9bfb",
   "metadata": {},
   "outputs": [],
   "source": [
    "for i in range(len(l31)):\n",
    "    l31[i] = str(l31[i])"
   ]
  },
  {
   "cell_type": "code",
   "execution_count": 429,
   "id": "bcc7871a-198d-48a2-9474-2f0e4e00f65d",
   "metadata": {},
   "outputs": [],
   "source": [
    "tup5 = tuple(l31)"
   ]
  },
  {
   "cell_type": "code",
   "execution_count": 430,
   "id": "9622e8d6-f261-4cba-b0fc-62197c7baec0",
   "metadata": {},
   "outputs": [
    {
     "data": {
      "text/plain": [
       "('1', '2', '3', '4', '5')"
      ]
     },
     "execution_count": 430,
     "metadata": {},
     "output_type": "execute_result"
    }
   ],
   "source": [
    "tup5"
   ]
  },
  {
   "cell_type": "markdown",
   "id": "0260be88-ae60-46ca-9580-d6fb857a34bf",
   "metadata": {},
   "source": [
    "29. Convert a tuple of strings to a tuple of integers."
   ]
  },
  {
   "cell_type": "code",
   "execution_count": 431,
   "id": "c77af3a4-5c71-437e-8dad-3cb7cc9d5a28",
   "metadata": {},
   "outputs": [
    {
     "data": {
      "text/plain": [
       "('1', '2', '3', '4', '5')"
      ]
     },
     "execution_count": 431,
     "metadata": {},
     "output_type": "execute_result"
    }
   ],
   "source": [
    "tup5"
   ]
  },
  {
   "cell_type": "code",
   "execution_count": 432,
   "id": "87f9f80e-f113-4962-b6fb-251c64799f28",
   "metadata": {},
   "outputs": [],
   "source": [
    "l31 = list(tup5)"
   ]
  },
  {
   "cell_type": "code",
   "execution_count": 433,
   "id": "5c46cbb0-4b55-4258-abbb-bf00780bea1f",
   "metadata": {},
   "outputs": [],
   "source": [
    "for i in range(len(l31)):\n",
    "    l31[i] = int(l31[i])"
   ]
  },
  {
   "cell_type": "code",
   "execution_count": 434,
   "id": "7c6bc30f-194b-4fbc-9512-d458684a7716",
   "metadata": {},
   "outputs": [],
   "source": [
    "tup6 = tuple(l31)"
   ]
  },
  {
   "cell_type": "code",
   "execution_count": 435,
   "id": "d6acb31d-d328-4fce-97f6-30cee6152b8b",
   "metadata": {},
   "outputs": [
    {
     "data": {
      "text/plain": [
       "(1, 2, 3, 4, 5)"
      ]
     },
     "execution_count": 435,
     "metadata": {},
     "output_type": "execute_result"
    }
   ],
   "source": [
    "tup6"
   ]
  },
  {
   "cell_type": "markdown",
   "id": "8dc36362-cdd2-46bc-8926-ef19b6de69a5",
   "metadata": {},
   "source": [
    "30. Merge two tuples."
   ]
  },
  {
   "cell_type": "code",
   "execution_count": 436,
   "id": "a784b843-3df2-41ef-b4e6-2f89b252e9ad",
   "metadata": {},
   "outputs": [
    {
     "data": {
      "text/plain": [
       "(1, 2, 3)"
      ]
     },
     "execution_count": 436,
     "metadata": {},
     "output_type": "execute_result"
    }
   ],
   "source": [
    "tup1"
   ]
  },
  {
   "cell_type": "code",
   "execution_count": 437,
   "id": "7dd589e7-0c03-4ad8-80e1-2dce891d3260",
   "metadata": {},
   "outputs": [
    {
     "data": {
      "text/plain": [
       "(1, 2, 4)"
      ]
     },
     "execution_count": 437,
     "metadata": {},
     "output_type": "execute_result"
    }
   ],
   "source": [
    "tup3"
   ]
  },
  {
   "cell_type": "code",
   "execution_count": 438,
   "id": "fdb97514-ef34-4756-a81e-d0c0241b01c4",
   "metadata": {},
   "outputs": [],
   "source": [
    "tup7 = tup1+tup3"
   ]
  },
  {
   "cell_type": "code",
   "execution_count": 439,
   "id": "5c4930b1-a8bd-4a91-a196-fc600667069f",
   "metadata": {},
   "outputs": [
    {
     "data": {
      "text/plain": [
       "(1, 2, 3, 1, 2, 4)"
      ]
     },
     "execution_count": 439,
     "metadata": {},
     "output_type": "execute_result"
    }
   ],
   "source": [
    "tup7"
   ]
  },
  {
   "cell_type": "markdown",
   "id": "950bbf72-9c2e-4ceb-8ad6-49d5080b1465",
   "metadata": {},
   "source": [
    "31. Flatten a nested tuple."
   ]
  },
  {
   "cell_type": "code",
   "execution_count": 440,
   "id": "629eaf38-da5e-43b7-bd14-03b35f5cbd8f",
   "metadata": {},
   "outputs": [],
   "source": [
    "nested_tuple = (1, 2, 3, (4, 5, 6, 7), (8, 9), 10)"
   ]
  },
  {
   "cell_type": "code",
   "execution_count": 441,
   "id": "a1baa52e-91e3-4cf4-8bea-b1aef3b9b983",
   "metadata": {},
   "outputs": [],
   "source": [
    "stack = [nested_tuple]\n",
    "flat_tuple = []"
   ]
  },
  {
   "cell_type": "code",
   "execution_count": 442,
   "id": "d4ce6042-fd90-4040-a07b-ec365e5ac232",
   "metadata": {},
   "outputs": [],
   "source": [
    "while stack:\n",
    "    current = stack.pop()\n",
    "    \n",
    "    if isinstance(current, tuple):\n",
    "        stack.extend(current[::-1])\n",
    "    else:\n",
    "        flat_tuple.append(current)"
   ]
  },
  {
   "cell_type": "code",
   "execution_count": 443,
   "id": "0fa3d1a3-2554-4a25-b6fe-d3d60e2dea0c",
   "metadata": {},
   "outputs": [
    {
     "name": "stdout",
     "output_type": "stream",
     "text": [
      "The flattened tuple is:  (1, 2, 3, 4, 5, 6, 7, 8, 9, 10)\n"
     ]
    }
   ],
   "source": [
    "print('The flattened tuple is: ', tuple(flat_tuple))"
   ]
  },
  {
   "cell_type": "markdown",
   "id": "10f98fa4-e254-4278-8f5f-7bdf2da4c1f1",
   "metadata": {},
   "source": [
    "32. Create a tuple of the first 5 prime numbers."
   ]
  },
  {
   "cell_type": "code",
   "execution_count": 444,
   "id": "5df40a97-55be-43b7-9441-c13791cf2496",
   "metadata": {},
   "outputs": [],
   "source": [
    "n = 5\n",
    "primes = []\n",
    "num = 2"
   ]
  },
  {
   "cell_type": "code",
   "execution_count": 445,
   "id": "b5aa7b6a-92e1-442f-9d62-0fe7836b9d29",
   "metadata": {},
   "outputs": [],
   "source": [
    "while len(primes) < n:\n",
    "    is_prime = True\n",
    "    for i in range(2, int(num**0.5) + 1):\n",
    "        if num % i == 0:\n",
    "            is_prime = False\n",
    "            break\n",
    "    if is_prime:\n",
    "        primes.append(num)\n",
    "    num += 1"
   ]
  },
  {
   "cell_type": "code",
   "execution_count": 446,
   "id": "482be211-5c6d-4e6c-a9b0-42af94bee989",
   "metadata": {},
   "outputs": [],
   "source": [
    "prime_tuples = tuple(primes)"
   ]
  },
  {
   "cell_type": "code",
   "execution_count": 447,
   "id": "1fc7fd2a-ecd4-4816-9cdc-a5601f89ec7a",
   "metadata": {},
   "outputs": [
    {
     "name": "stdout",
     "output_type": "stream",
     "text": [
      "Tuple of first 5 prime numbers is:  (2, 3, 5, 7, 11)\n"
     ]
    }
   ],
   "source": [
    "print('Tuple of first 5 prime numbers is: ', prime_tuples)"
   ]
  },
  {
   "cell_type": "markdown",
   "id": "1d92f806-d564-436e-b9b4-5cc89b0e3404",
   "metadata": {},
   "source": [
    "33. Check if a tuple is a palindrome."
   ]
  },
  {
   "cell_type": "code",
   "execution_count": 448,
   "id": "dd42f8e6-d1bd-436d-b1cb-2231a8fb2920",
   "metadata": {},
   "outputs": [],
   "source": [
    "t10 = (1,2,4,2,1)"
   ]
  },
  {
   "cell_type": "code",
   "execution_count": 449,
   "id": "76632bc7-6bbe-4c0d-8a46-13f52251c67a",
   "metadata": {},
   "outputs": [
    {
     "name": "stdout",
     "output_type": "stream",
     "text": [
      "The given tuple is a palindrome.\n"
     ]
    }
   ],
   "source": [
    "if t10 == t10[::-1]:\n",
    "    print('The given tuple is a palindrome.')\n",
    "else:\n",
    "    print('The given tuple is not a palindrome.')"
   ]
  },
  {
   "cell_type": "markdown",
   "id": "66cedd04-90e1-4220-9505-4fb5fb5a28fd",
   "metadata": {},
   "source": [
    "34. Create a tuple of squares of numbers from 1 to 5."
   ]
  },
  {
   "cell_type": "code",
   "execution_count": 450,
   "id": "5fc778b4-3453-40c7-90af-b3b9a07b9e81",
   "metadata": {},
   "outputs": [],
   "source": [
    "square_tup = []"
   ]
  },
  {
   "cell_type": "code",
   "execution_count": 451,
   "id": "526c4c05-0bf9-4f24-ae5f-59940fe41618",
   "metadata": {},
   "outputs": [],
   "source": [
    "for i in range(1,6):\n",
    "    square_tup.append(i**2)    "
   ]
  },
  {
   "cell_type": "code",
   "execution_count": 452,
   "id": "2f19b1e6-db07-4eab-9b72-2c9a17b32bc2",
   "metadata": {},
   "outputs": [
    {
     "name": "stdout",
     "output_type": "stream",
     "text": [
      "The required tuple is (1, 4, 9, 16, 25)\n"
     ]
    }
   ],
   "source": [
    "print('The required tuple is', tuple(square_tup))"
   ]
  },
  {
   "cell_type": "markdown",
   "id": "1beed0ec-59f8-4447-aafc-232b82aad880",
   "metadata": {},
   "source": [
    "35. Filter out all even numbers from a tuple."
   ]
  },
  {
   "cell_type": "code",
   "execution_count": 453,
   "id": "49a1ac9c-5725-4b21-baa7-31077d9be667",
   "metadata": {},
   "outputs": [
    {
     "data": {
      "text/plain": [
       "(1, 2, 3, 3, 3, 4, 6, 7)"
      ]
     },
     "execution_count": 453,
     "metadata": {},
     "output_type": "execute_result"
    }
   ],
   "source": [
    "t2"
   ]
  },
  {
   "cell_type": "code",
   "execution_count": 454,
   "id": "ebf673e6-c372-49ae-b8b7-03fc3ceb2080",
   "metadata": {},
   "outputs": [],
   "source": [
    "temp = []"
   ]
  },
  {
   "cell_type": "code",
   "execution_count": 455,
   "id": "a86e91f7-c968-4218-b974-ef190ae960e6",
   "metadata": {},
   "outputs": [],
   "source": [
    "for i in t2:\n",
    "    if i%2!=0:\n",
    "        temp.append(i)\n",
    "    else:\n",
    "        temp"
   ]
  },
  {
   "cell_type": "code",
   "execution_count": 456,
   "id": "8e50c91e-ca37-4e84-81d7-c267d6477447",
   "metadata": {},
   "outputs": [
    {
     "name": "stdout",
     "output_type": "stream",
     "text": [
      "The required tuple is (1, 3, 3, 3, 7)\n"
     ]
    }
   ],
   "source": [
    "print('The required tuple is', tuple(temp))"
   ]
  },
  {
   "cell_type": "markdown",
   "id": "68c945c4-3637-4ee0-bf33-5db6b1143ac9",
   "metadata": {},
   "source": [
    "36. Multiply all elements in a tuple by 2."
   ]
  },
  {
   "cell_type": "code",
   "execution_count": 457,
   "id": "f29927ee-1dc4-456d-a858-ede8b9aa909d",
   "metadata": {},
   "outputs": [
    {
     "data": {
      "text/plain": [
       "(1, 2, 3, 4, 5)"
      ]
     },
     "execution_count": 457,
     "metadata": {},
     "output_type": "execute_result"
    }
   ],
   "source": [
    "t1"
   ]
  },
  {
   "cell_type": "code",
   "execution_count": 458,
   "id": "541474a6-76ab-4858-9148-225721bbaa28",
   "metadata": {},
   "outputs": [],
   "source": [
    "temp = []"
   ]
  },
  {
   "cell_type": "code",
   "execution_count": 459,
   "id": "afc0f375-fb5a-42dd-8598-04db204e0344",
   "metadata": {},
   "outputs": [],
   "source": [
    "for i in t1:\n",
    "    temp.append(i*2)"
   ]
  },
  {
   "cell_type": "code",
   "execution_count": 460,
   "id": "108287d1-3ff8-4d20-b9f0-8e223ed5e82d",
   "metadata": {},
   "outputs": [
    {
     "name": "stdout",
     "output_type": "stream",
     "text": [
      "The required tuple is (2, 4, 6, 8, 10)\n"
     ]
    }
   ],
   "source": [
    "print('The required tuple is', tuple(temp))"
   ]
  },
  {
   "cell_type": "markdown",
   "id": "d6f170f3-81fe-4a44-b4f7-81ccf13a3a0c",
   "metadata": {},
   "source": [
    "37. Create a tuple of random numbers."
   ]
  },
  {
   "cell_type": "code",
   "execution_count": 461,
   "id": "d4476bfb-f9a1-414b-ac6a-41135a52f544",
   "metadata": {},
   "outputs": [],
   "source": [
    "temp = []"
   ]
  },
  {
   "cell_type": "code",
   "execution_count": 462,
   "id": "51313a1d-752e-46a8-957a-210a9e2aef7d",
   "metadata": {},
   "outputs": [],
   "source": [
    "for i in range(7):\n",
    "    temp.append(random.randrange(1,15))"
   ]
  },
  {
   "cell_type": "code",
   "execution_count": 463,
   "id": "0a03d780-4e12-471e-a1d8-cd7f0f6e0fdd",
   "metadata": {},
   "outputs": [
    {
     "name": "stdout",
     "output_type": "stream",
     "text": [
      "The required tuple is (12, 9, 13, 11, 8, 13, 10)\n"
     ]
    }
   ],
   "source": [
    "print('The required tuple is', tuple(temp))"
   ]
  },
  {
   "cell_type": "markdown",
   "id": "701d27ff-18e5-4bfa-8e02-f7c06240ea25",
   "metadata": {},
   "source": [
    "38. Check if a tuple is sorted."
   ]
  },
  {
   "cell_type": "code",
   "execution_count": 464,
   "id": "c8619517-ab03-46e2-a0c7-7e922a8a479b",
   "metadata": {},
   "outputs": [],
   "source": [
    "t11 = (1,2,3,4,5)"
   ]
  },
  {
   "cell_type": "code",
   "execution_count": 465,
   "id": "a7ed68fc-4ce9-4382-b526-0205bd511d40",
   "metadata": {},
   "outputs": [],
   "source": [
    "res = False"
   ]
  },
  {
   "cell_type": "code",
   "execution_count": 466,
   "id": "eb66f5f1-c31e-46d2-91c3-e1f0a7d662f5",
   "metadata": {},
   "outputs": [],
   "source": [
    "for i in range(len(t11)-1):\n",
    "    if t11[i+1] < t11[i]:\n",
    "        res = True\n",
    "        break\n",
    "    else:\n",
    "        res = False"
   ]
  },
  {
   "cell_type": "code",
   "execution_count": 467,
   "id": "736b551e-a2f3-4ea4-b94d-5d2f23677758",
   "metadata": {},
   "outputs": [
    {
     "name": "stdout",
     "output_type": "stream",
     "text": [
      "The given tuple is sorted.\n"
     ]
    }
   ],
   "source": [
    "if res == True:\n",
    "    print('The given tuple is not sorted.')\n",
    "else:\n",
    "    print('The given tuple is sorted.')"
   ]
  },
  {
   "cell_type": "markdown",
   "id": "a214230b-1e0f-4544-aaa3-02d5dfe5f129",
   "metadata": {},
   "source": [
    "39. Rotate a tuple to the left by `n` positions."
   ]
  },
  {
   "cell_type": "code",
   "execution_count": 468,
   "id": "f4b7da73-3bd4-4b3c-b397-3d512ae3514f",
   "metadata": {},
   "outputs": [],
   "source": [
    "t12 = (1, 5, 3, 7, 4, 6, 9, 2)"
   ]
  },
  {
   "cell_type": "code",
   "execution_count": 469,
   "id": "745869c8-9b54-4525-9c82-861cca730b47",
   "metadata": {},
   "outputs": [
    {
     "name": "stdin",
     "output_type": "stream",
     "text": [
      "Enter the position by which you want to rotate the tuple leftwards: 3\n"
     ]
    }
   ],
   "source": [
    "n = int(input('Enter the position by which you want to rotate the tuple leftwards:'))"
   ]
  },
  {
   "cell_type": "code",
   "execution_count": 470,
   "id": "793626bd-634d-447d-8521-1b521ea82994",
   "metadata": {},
   "outputs": [],
   "source": [
    "len_tup = len(t12)"
   ]
  },
  {
   "cell_type": "code",
   "execution_count": 471,
   "id": "349a69f7-8d93-4697-9887-724d6c9fe64d",
   "metadata": {},
   "outputs": [],
   "source": [
    "rotated_tup = t12[n:len_tup]+t12[0:n]"
   ]
  },
  {
   "cell_type": "code",
   "execution_count": 472,
   "id": "1eaa608a-1626-482c-a17b-d1d70662aa40",
   "metadata": {},
   "outputs": [
    {
     "name": "stdout",
     "output_type": "stream",
     "text": [
      "The rotated tuple is  (7, 4, 6, 9, 2, 1, 5, 3)\n"
     ]
    }
   ],
   "source": [
    "print('The rotated tuple is ', rotated_tup)"
   ]
  },
  {
   "cell_type": "markdown",
   "id": "f62928ff-bc94-4838-abd2-8c126d1d3b3c",
   "metadata": {},
   "source": [
    "40. Rotate a tuple to the right by `n` positions."
   ]
  },
  {
   "cell_type": "code",
   "execution_count": 473,
   "id": "3eab9d0d-ccab-4163-bad1-e17d3027421f",
   "metadata": {},
   "outputs": [
    {
     "data": {
      "text/plain": [
       "(1, 5, 3, 7, 4, 6, 9, 2)"
      ]
     },
     "execution_count": 473,
     "metadata": {},
     "output_type": "execute_result"
    }
   ],
   "source": [
    "t12"
   ]
  },
  {
   "cell_type": "code",
   "execution_count": 474,
   "id": "be1b97b1-c5ca-4a61-b1c7-f4be0e8d4276",
   "metadata": {},
   "outputs": [
    {
     "name": "stdin",
     "output_type": "stream",
     "text": [
      "Enter the position by which you want to rotate the tuple rightwards: 3\n"
     ]
    }
   ],
   "source": [
    "n = int(input('Enter the position by which you want to rotate the tuple rightwards:'))"
   ]
  },
  {
   "cell_type": "code",
   "execution_count": 475,
   "id": "ff3b1e91-9726-4bec-922d-26abebd9f47b",
   "metadata": {},
   "outputs": [
    {
     "data": {
      "text/plain": [
       "8"
      ]
     },
     "execution_count": 475,
     "metadata": {},
     "output_type": "execute_result"
    }
   ],
   "source": [
    "len_tup "
   ]
  },
  {
   "cell_type": "code",
   "execution_count": 476,
   "id": "6dd019ac-c7c1-4548-b891-f7ef9c9f8139",
   "metadata": {},
   "outputs": [],
   "source": [
    "n = n % len_tup"
   ]
  },
  {
   "cell_type": "code",
   "execution_count": 477,
   "id": "4793614c-aec0-43e5-88a5-a575e66acf33",
   "metadata": {},
   "outputs": [],
   "source": [
    "rotated_tup = t12[-n:]+t12[:-n]"
   ]
  },
  {
   "cell_type": "code",
   "execution_count": 478,
   "id": "7b6bb242-1bd2-402f-8a6e-7e617e8aff25",
   "metadata": {},
   "outputs": [
    {
     "name": "stdout",
     "output_type": "stream",
     "text": [
      "The rotated tuple is  (6, 9, 2, 1, 5, 3, 7, 4)\n"
     ]
    }
   ],
   "source": [
    "print('The rotated tuple is ', rotated_tup)"
   ]
  },
  {
   "cell_type": "markdown",
   "id": "154d9608-c964-4586-81ce-dbbe99c30087",
   "metadata": {},
   "source": [
    "41. Create a tuple of the first 5 Fibonacci numbers."
   ]
  },
  {
   "cell_type": "code",
   "execution_count": 479,
   "id": "cd65a717-a58b-4af8-b651-b8391645a0a9",
   "metadata": {},
   "outputs": [],
   "source": [
    "fibo_tup = []"
   ]
  },
  {
   "cell_type": "code",
   "execution_count": 480,
   "id": "1b4acb85-2a46-4213-8b30-e787ee0a48db",
   "metadata": {},
   "outputs": [],
   "source": [
    "a, b = 0, 1"
   ]
  },
  {
   "cell_type": "code",
   "execution_count": 481,
   "id": "dc55ab21-0d15-4aa2-8289-bca70703d2b9",
   "metadata": {},
   "outputs": [],
   "source": [
    "n = 5"
   ]
  },
  {
   "cell_type": "code",
   "execution_count": 482,
   "id": "50351792-c4ba-4a16-b83b-93a602824af1",
   "metadata": {
    "tags": []
   },
   "outputs": [],
   "source": [
    "for i in range(n):\n",
    "    fibo_tup.append(a)\n",
    "    a, b = b, a+b"
   ]
  },
  {
   "cell_type": "code",
   "execution_count": 483,
   "id": "7b476c61-b005-49c3-be45-e87d3461311f",
   "metadata": {},
   "outputs": [
    {
     "name": "stdout",
     "output_type": "stream",
     "text": [
      "The required tuple is (0, 1, 1, 2, 3)\n"
     ]
    }
   ],
   "source": [
    "print('The required tuple is', tuple(fibo_tup))"
   ]
  },
  {
   "cell_type": "markdown",
   "id": "2ad8191c-3dad-47d4-8ee9-50b9514ffa83",
   "metadata": {},
   "source": [
    "42. Create a tuple from user input."
   ]
  },
  {
   "cell_type": "code",
   "execution_count": 484,
   "id": "8fa6ab0d-e9b6-413a-a0a5-da6e9d7d6062",
   "metadata": {},
   "outputs": [],
   "source": [
    "user_tup = []"
   ]
  },
  {
   "cell_type": "code",
   "execution_count": 485,
   "id": "b8a54f16-7d91-46bf-9464-a0f4ad73c06f",
   "metadata": {},
   "outputs": [
    {
     "name": "stdin",
     "output_type": "stream",
     "text": [
      "Enter the length of tuple: 5\n"
     ]
    }
   ],
   "source": [
    "n = int(input('Enter the length of tuple:'))"
   ]
  },
  {
   "cell_type": "code",
   "execution_count": 486,
   "id": "9fef59fc-7c79-4312-bd51-8a8dc50adc23",
   "metadata": {},
   "outputs": [
    {
     "name": "stdin",
     "output_type": "stream",
     "text": [
      "Enter an element: 23\n",
      "Enter an element: 64\n",
      "Enter an element: 12\n",
      "Enter an element: 65\n",
      "Enter an element: 87\n"
     ]
    }
   ],
   "source": [
    "for i in range(n):\n",
    "    user_inp = input('Enter an element:')\n",
    "    user_tup.append(user_inp)"
   ]
  },
  {
   "cell_type": "code",
   "execution_count": 487,
   "id": "a777203e-fff3-4a57-ab5e-b1a032f5f1c2",
   "metadata": {},
   "outputs": [
    {
     "name": "stdout",
     "output_type": "stream",
     "text": [
      "The tuple created from user input is  ('23', '64', '12', '65', '87')\n"
     ]
    }
   ],
   "source": [
    "print('The tuple created from user input is ', tuple(user_tup))"
   ]
  },
  {
   "cell_type": "markdown",
   "id": "00aa489e-0938-4b63-becb-ab831d422b48",
   "metadata": {},
   "source": [
    "43. Swap two elements in a tuple."
   ]
  },
  {
   "cell_type": "code",
   "execution_count": 488,
   "id": "5874b88b-9235-4c5b-b8da-0de098bee0db",
   "metadata": {},
   "outputs": [
    {
     "data": {
      "text/plain": [
       "(1, 2, 3, 4, 5)"
      ]
     },
     "execution_count": 488,
     "metadata": {},
     "output_type": "execute_result"
    }
   ],
   "source": [
    "t11"
   ]
  },
  {
   "cell_type": "code",
   "execution_count": 489,
   "id": "56037d03-86bf-49df-8bee-974eff52d69f",
   "metadata": {},
   "outputs": [
    {
     "name": "stdin",
     "output_type": "stream",
     "text": [
      "Enter the index of the first element you want to swap: 4\n"
     ]
    }
   ],
   "source": [
    "a =int(input('Enter the index of the first element you want to swap:'))"
   ]
  },
  {
   "cell_type": "code",
   "execution_count": 490,
   "id": "c360d256-cdbc-432b-9239-6ad6b858480a",
   "metadata": {},
   "outputs": [
    {
     "name": "stdin",
     "output_type": "stream",
     "text": [
      "Enter the index of the second element you want to swap: 2\n"
     ]
    }
   ],
   "source": [
    "b =int(input('Enter the index of the second element you want to swap:'))"
   ]
  },
  {
   "cell_type": "code",
   "execution_count": 491,
   "id": "6ededc56-9511-4c36-b01d-79a00ab8f60a",
   "metadata": {},
   "outputs": [],
   "source": [
    "temp = list(t11)"
   ]
  },
  {
   "cell_type": "code",
   "execution_count": 492,
   "id": "bdf5811a-0d31-4675-97a5-bcc0d0334381",
   "metadata": {},
   "outputs": [],
   "source": [
    "temp[a], temp[b] = temp[b], temp[a]"
   ]
  },
  {
   "cell_type": "code",
   "execution_count": 493,
   "id": "06da6467-4699-4e3d-a0a7-bdc8a356fe35",
   "metadata": {},
   "outputs": [
    {
     "name": "stdout",
     "output_type": "stream",
     "text": [
      "The tuple after swap is:  (1, 2, 5, 4, 3)\n"
     ]
    }
   ],
   "source": [
    "print('The tuple after swap is: ', tuple(temp))"
   ]
  },
  {
   "cell_type": "markdown",
   "id": "fed36e6b-887a-4932-844b-7d086326b06d",
   "metadata": {},
   "source": [
    "44. Reverse the elements of a tuple."
   ]
  },
  {
   "cell_type": "code",
   "execution_count": 494,
   "id": "168200e5-fa9b-4957-b476-e35756852c3b",
   "metadata": {},
   "outputs": [
    {
     "data": {
      "text/plain": [
       "(1, 2, 3, 4, 5)"
      ]
     },
     "execution_count": 494,
     "metadata": {},
     "output_type": "execute_result"
    }
   ],
   "source": [
    "t11"
   ]
  },
  {
   "cell_type": "code",
   "execution_count": 495,
   "id": "1c6c19b4-a337-49ff-8acb-2d73bb82167b",
   "metadata": {},
   "outputs": [],
   "source": [
    "new_tup = t11[::-1]"
   ]
  },
  {
   "cell_type": "code",
   "execution_count": 496,
   "id": "ceba8c73-9cc8-4736-9b87-1ce50e2d36ac",
   "metadata": {},
   "outputs": [
    {
     "name": "stdout",
     "output_type": "stream",
     "text": [
      "The tuple reversed is:  (5, 4, 3, 2, 1)\n"
     ]
    }
   ],
   "source": [
    "print('The tuple reversed is: ', new_tup)"
   ]
  },
  {
   "cell_type": "markdown",
   "id": "32ff1573-71fa-4bcb-af9e-4f98e8776247",
   "metadata": {},
   "source": [
    "45. Create a tuple of the first `n` powers of 2."
   ]
  },
  {
   "cell_type": "code",
   "execution_count": 497,
   "id": "b64d0933-94ac-423e-af45-84d9d543d026",
   "metadata": {},
   "outputs": [],
   "source": [
    "pow_tup = []"
   ]
  },
  {
   "cell_type": "code",
   "execution_count": 498,
   "id": "6bd53b7b-e652-476e-ab42-ac71a82b0da2",
   "metadata": {},
   "outputs": [
    {
     "name": "stdin",
     "output_type": "stream",
     "text": [
      "Enter the number till which you want power of 2: 4\n"
     ]
    }
   ],
   "source": [
    "n = int(input('Enter the number till which you want power of 2:'))"
   ]
  },
  {
   "cell_type": "code",
   "execution_count": 499,
   "id": "6fc6ad4f-53fc-4a13-aa8e-dc06a04e74ab",
   "metadata": {},
   "outputs": [],
   "source": [
    "for i in range(1, n+1):\n",
    "    pow_tup.append(2**i)"
   ]
  },
  {
   "cell_type": "code",
   "execution_count": 500,
   "id": "667faddd-c33b-429a-878c-8833aafcd6f3",
   "metadata": {},
   "outputs": [],
   "source": [
    "pow_tup = tuple(pow_tup)"
   ]
  },
  {
   "cell_type": "code",
   "execution_count": 501,
   "id": "bead0155-46f2-4f1a-9b3b-288926f7d98b",
   "metadata": {},
   "outputs": [
    {
     "name": "stdout",
     "output_type": "stream",
     "text": [
      "The required tuple is (2, 4, 8, 16)\n"
     ]
    }
   ],
   "source": [
    "print('The required tuple is', pow_tup)"
   ]
  },
  {
   "cell_type": "markdown",
   "id": "abfe59f5-2a5a-4760-bab7-f13651d2e9ef",
   "metadata": {},
   "source": [
    "46. Find the longest string in a tuple of strings."
   ]
  },
  {
   "cell_type": "code",
   "execution_count": 502,
   "id": "ceaee94b-ecc3-4285-a211-0ec2c3702f17",
   "metadata": {},
   "outputs": [],
   "source": [
    "t13 = ('what', 'are', 'Akash', 'choices', 22)"
   ]
  },
  {
   "cell_type": "code",
   "execution_count": 503,
   "id": "672eee5e-e580-4429-85da-9ed4047b3c6b",
   "metadata": {},
   "outputs": [],
   "source": [
    "longest_str = ''"
   ]
  },
  {
   "cell_type": "code",
   "execution_count": 504,
   "id": "9112307a-76d4-46c9-bd40-2b8e0bc32b3f",
   "metadata": {},
   "outputs": [],
   "source": [
    "for i in range(len(t13)):\n",
    "    if type(t13[i])==str:\n",
    "        if len(longest_str)>len(t13[i]):\n",
    "            longest_str = longest_str\n",
    "        else:\n",
    "            longest_str = t13[i]"
   ]
  },
  {
   "cell_type": "code",
   "execution_count": 505,
   "id": "b453815a-5187-4613-8a12-58fc863b94bf",
   "metadata": {},
   "outputs": [
    {
     "name": "stdout",
     "output_type": "stream",
     "text": [
      "The longest string in the tuple is: choices\n"
     ]
    }
   ],
   "source": [
    "print('The longest string in the tuple is:', longest_str)"
   ]
  },
  {
   "cell_type": "markdown",
   "id": "fd8a81ef-cb0a-43df-9a76-1ede17c83fc5",
   "metadata": {},
   "source": [
    "47. Find the shortest string in a tuple of strings."
   ]
  },
  {
   "cell_type": "code",
   "execution_count": 506,
   "id": "9bf3a5f5-21c4-49e1-a448-6886a7b5e65e",
   "metadata": {},
   "outputs": [
    {
     "data": {
      "text/plain": [
       "('what', 'are', 'Akash', 'choices', 22)"
      ]
     },
     "execution_count": 506,
     "metadata": {},
     "output_type": "execute_result"
    }
   ],
   "source": [
    "t13"
   ]
  },
  {
   "cell_type": "code",
   "execution_count": 507,
   "id": "a6bda6e1-4e2a-4ab4-999f-860b1af6be23",
   "metadata": {},
   "outputs": [],
   "source": [
    "shortest_str = \"\"\"`1234567890-=~!@#$%^&*()_+qwertyuiop[]\\QWERTYUIOP{}|asdfghjkl;'ASDFGHJKL:\"zxcvbnm,./ZXCVBNM<>?\"'\"\"\""
   ]
  },
  {
   "cell_type": "code",
   "execution_count": 508,
   "id": "dbd9725e-768d-4694-a7af-0d66f102555d",
   "metadata": {},
   "outputs": [],
   "source": [
    "for i in range(len(t13)):\n",
    "    if type(t13[i])==str:\n",
    "        if len(shortest_str)<len(t13[i]):\n",
    "            shortest_str = shortest_str\n",
    "        else:\n",
    "            shortest_str = t13[i]"
   ]
  },
  {
   "cell_type": "code",
   "execution_count": 509,
   "id": "c5bcb145-18fa-49f2-ac06-bf5d9d2a0ad2",
   "metadata": {},
   "outputs": [
    {
     "name": "stdout",
     "output_type": "stream",
     "text": [
      "The shortest string in the tuple is: are\n"
     ]
    }
   ],
   "source": [
    "print('The shortest string in the tuple is:', shortest_str)"
   ]
  },
  {
   "cell_type": "markdown",
   "id": "5976726b-6879-4cb3-b858-f6b8f5b9fc8f",
   "metadata": {},
   "source": [
    "48. Create a tuple of the first `n` triangular numbers."
   ]
  },
  {
   "cell_type": "code",
   "execution_count": 510,
   "id": "0d09900c-aaba-4d99-ab9c-7be4d87833ca",
   "metadata": {},
   "outputs": [
    {
     "name": "stdin",
     "output_type": "stream",
     "text": [
      "Enter the value till which you want triangular numbers: 104\n"
     ]
    }
   ],
   "source": [
    "n = int(input('Enter the value till which you want triangular numbers:'))"
   ]
  },
  {
   "cell_type": "code",
   "execution_count": 511,
   "id": "18e58633-e34e-4580-b1d3-cd9987e8b796",
   "metadata": {},
   "outputs": [],
   "source": [
    "tri_num = []"
   ]
  },
  {
   "cell_type": "code",
   "execution_count": 512,
   "id": "7c5f0a29-bb61-4e65-89da-5ea47def8cdc",
   "metadata": {},
   "outputs": [],
   "source": [
    "for i in range(1, n+1):\n",
    "    val = (i * (i + 1))/2\n",
    "    tri_num.append(int(val))"
   ]
  },
  {
   "cell_type": "code",
   "execution_count": 513,
   "id": "7f3e68ef-4eb3-4f17-a602-e6bd0816130c",
   "metadata": {},
   "outputs": [],
   "source": [
    "tri_tup = tuple(tri_num)"
   ]
  },
  {
   "cell_type": "code",
   "execution_count": 514,
   "id": "ba8ebf95-48e7-4b68-9b9b-5b6847821bca",
   "metadata": {},
   "outputs": [
    {
     "name": "stdout",
     "output_type": "stream",
     "text": [
      "The required tuple is  (1, 3, 6, 10, 15, 21, 28, 36, 45, 55, 66, 78, 91, 105, 120, 136, 153, 171, 190, 210, 231, 253, 276, 300, 325, 351, 378, 406, 435, 465, 496, 528, 561, 595, 630, 666, 703, 741, 780, 820, 861, 903, 946, 990, 1035, 1081, 1128, 1176, 1225, 1275, 1326, 1378, 1431, 1485, 1540, 1596, 1653, 1711, 1770, 1830, 1891, 1953, 2016, 2080, 2145, 2211, 2278, 2346, 2415, 2485, 2556, 2628, 2701, 2775, 2850, 2926, 3003, 3081, 3160, 3240, 3321, 3403, 3486, 3570, 3655, 3741, 3828, 3916, 4005, 4095, 4186, 4278, 4371, 4465, 4560, 4656, 4753, 4851, 4950, 5050, 5151, 5253, 5356, 5460)\n"
     ]
    }
   ],
   "source": [
    "print('The required tuple is ', tri_tup)"
   ]
  },
  {
   "cell_type": "markdown",
   "id": "5d33275e-e108-4ba2-8d18-4e5012f4c683",
   "metadata": {},
   "source": [
    "49. Check if a tuple contains another tuple as a subsequence."
   ]
  },
  {
   "cell_type": "code",
   "execution_count": 515,
   "id": "686b04de-e007-41cd-a8bb-3792b2241e58",
   "metadata": {},
   "outputs": [],
   "source": [
    "main_tup = (1, 2, 3, 4, 5, 6, 7, 8, 9)\n",
    "sub_tup = (4, 5, 6)"
   ]
  },
  {
   "cell_type": "code",
   "execution_count": 516,
   "id": "d035bb8a-6fb3-4c19-ac08-cf5b21c3b5ae",
   "metadata": {},
   "outputs": [],
   "source": [
    "main_len = len(main_tup)\n",
    "sub_len = len(sub_tup)"
   ]
  },
  {
   "cell_type": "code",
   "execution_count": 517,
   "id": "331ccc0a-bd28-42e4-bffa-fc706a1ec956",
   "metadata": {},
   "outputs": [],
   "source": [
    "found = False"
   ]
  },
  {
   "cell_type": "code",
   "execution_count": 518,
   "id": "741850e5-8037-4dc6-9491-826a5ae5375e",
   "metadata": {},
   "outputs": [],
   "source": [
    "for i in range(main_len-sub_len+1):\n",
    "    match = True\n",
    "    for j in range(sub_len):\n",
    "        if main_tup[i+j] != sub_tup[j]:\n",
    "            match = False\n",
    "            break\n",
    "    if match:\n",
    "        found = True\n",
    "        break"
   ]
  },
  {
   "cell_type": "code",
   "execution_count": 519,
   "id": "3657e1ee-18f9-4fe7-bb40-0955acd5da75",
   "metadata": {},
   "outputs": [
    {
     "name": "stdout",
     "output_type": "stream",
     "text": [
      "The main tuple conatins the sub tuple.\n"
     ]
    }
   ],
   "source": [
    "if found == True:\n",
    "    print('The main tuple conatins the sub tuple.')\n",
    "else:\n",
    "    print('The main tuple does not conatin the sub tuple.')"
   ]
  },
  {
   "cell_type": "markdown",
   "id": "08e1201f-0ac9-4db7-afcf-7d390ed1f900",
   "metadata": {},
   "source": [
    "50. Create a tuple of alternating 1s and 0s of length `n`."
   ]
  },
  {
   "cell_type": "code",
   "execution_count": 520,
   "id": "486d1c8a-66a2-4df8-97bd-cc587dc4034d",
   "metadata": {},
   "outputs": [
    {
     "name": "stdin",
     "output_type": "stream",
     "text": [
      "Enter the length of the tuple: 4\n"
     ]
    }
   ],
   "source": [
    "n = int(input('Enter the length of the tuple:'))"
   ]
  },
  {
   "cell_type": "code",
   "execution_count": 521,
   "id": "9d92b339-324c-4ce9-b6ff-8af7b1e7fbf6",
   "metadata": {},
   "outputs": [],
   "source": [
    "binary_tup = []"
   ]
  },
  {
   "cell_type": "code",
   "execution_count": 522,
   "id": "67e36565-d034-4d1c-949b-fb6e21642bdf",
   "metadata": {},
   "outputs": [],
   "source": [
    "for i in range(n):\n",
    "    if i%2==0:\n",
    "        binary_tup.append(1)\n",
    "    else:\n",
    "        binary_tup.append(0)"
   ]
  },
  {
   "cell_type": "code",
   "execution_count": 523,
   "id": "4c1f87c7-572d-4543-b9be-16bd32ce2434",
   "metadata": {},
   "outputs": [],
   "source": [
    "binary_tup = tuple(binary_tup)"
   ]
  },
  {
   "cell_type": "code",
   "execution_count": 524,
   "id": "450d6072-2194-460b-959f-371b9d567042",
   "metadata": {},
   "outputs": [
    {
     "name": "stdout",
     "output_type": "stream",
     "text": [
      "The required tuple is  (1, 0, 1, 0)\n"
     ]
    }
   ],
   "source": [
    "print('The required tuple is ', binary_tup)"
   ]
  },
  {
   "cell_type": "markdown",
   "id": "d6357b82-d01b-4b21-88a5-a88894fafb2f",
   "metadata": {},
   "source": [
    "## Set Based Practice Problem :"
   ]
  },
  {
   "cell_type": "markdown",
   "id": "0a004836-2e66-4027-8127-9780b01d8f59",
   "metadata": {},
   "source": [
    "1. Create a set with integers from 1 to 5."
   ]
  },
  {
   "cell_type": "code",
   "execution_count": 525,
   "id": "8115378d-f89b-4cd9-b71e-73571c39664c",
   "metadata": {},
   "outputs": [],
   "source": [
    "set1 = {1, 2, 3, 4, 5}"
   ]
  },
  {
   "cell_type": "markdown",
   "id": "2395966e-dc78-4701-b51d-1c086976f8f2",
   "metadata": {},
   "source": [
    "2. Add an element to a set."
   ]
  },
  {
   "cell_type": "code",
   "execution_count": 526,
   "id": "cc22027c-79eb-413a-be7b-15f4cf41c6dc",
   "metadata": {},
   "outputs": [
    {
     "data": {
      "text/plain": [
       "{1, 2, 3, 4, 5}"
      ]
     },
     "execution_count": 526,
     "metadata": {},
     "output_type": "execute_result"
    }
   ],
   "source": [
    "set1"
   ]
  },
  {
   "cell_type": "code",
   "execution_count": 527,
   "id": "0081eb7e-394b-438a-a528-84dd2ff6a52b",
   "metadata": {},
   "outputs": [],
   "source": [
    "set1.update({6})"
   ]
  },
  {
   "cell_type": "code",
   "execution_count": 528,
   "id": "c7552e63-66a9-45e9-a88b-b6d0cd56f5a0",
   "metadata": {},
   "outputs": [
    {
     "data": {
      "text/plain": [
       "{1, 2, 3, 4, 5, 6}"
      ]
     },
     "execution_count": 528,
     "metadata": {},
     "output_type": "execute_result"
    }
   ],
   "source": [
    "set1"
   ]
  },
  {
   "cell_type": "markdown",
   "id": "863d1a07-fda7-4916-bae1-f99809b86feb",
   "metadata": {},
   "source": [
    "3. Remove an element from a set."
   ]
  },
  {
   "cell_type": "code",
   "execution_count": 529,
   "id": "714febcc-d322-4714-b5c8-3bbce5db389d",
   "metadata": {},
   "outputs": [
    {
     "data": {
      "text/plain": [
       "{1, 2, 3, 4, 5, 6}"
      ]
     },
     "execution_count": 529,
     "metadata": {},
     "output_type": "execute_result"
    }
   ],
   "source": [
    "set1"
   ]
  },
  {
   "cell_type": "code",
   "execution_count": 530,
   "id": "c0a96286-776c-4ca7-9448-ebb203c02653",
   "metadata": {},
   "outputs": [
    {
     "data": {
      "text/plain": [
       "1"
      ]
     },
     "execution_count": 530,
     "metadata": {},
     "output_type": "execute_result"
    }
   ],
   "source": [
    "set1.pop()"
   ]
  },
  {
   "cell_type": "code",
   "execution_count": 531,
   "id": "9f20ed58-a108-4c47-85ba-3754026f653c",
   "metadata": {},
   "outputs": [
    {
     "data": {
      "text/plain": [
       "{2, 3, 4, 5, 6}"
      ]
     },
     "execution_count": 531,
     "metadata": {},
     "output_type": "execute_result"
    }
   ],
   "source": [
    "set1"
   ]
  },
  {
   "cell_type": "markdown",
   "id": "dee66e09-41e8-4857-88b2-a1c0efc51bfb",
   "metadata": {},
   "source": [
    "4. Check if an element exists in a set."
   ]
  },
  {
   "cell_type": "code",
   "execution_count": 532,
   "id": "a2b3f1d7-f61f-44cf-8207-3e47cab83a91",
   "metadata": {},
   "outputs": [
    {
     "data": {
      "text/plain": [
       "{2, 3, 4, 5, 6}"
      ]
     },
     "execution_count": 532,
     "metadata": {},
     "output_type": "execute_result"
    }
   ],
   "source": [
    "set1"
   ]
  },
  {
   "cell_type": "code",
   "execution_count": 533,
   "id": "ed9b0c2b-e836-421d-be38-45e120b700d7",
   "metadata": {},
   "outputs": [],
   "source": [
    "check_ele = 4"
   ]
  },
  {
   "cell_type": "code",
   "execution_count": 534,
   "id": "06ade8de-b902-4bfc-850e-8eb9ee20d9dc",
   "metadata": {},
   "outputs": [],
   "source": [
    "for i in set1:\n",
    "    if i==check_ele:\n",
    "        exists = True\n",
    "        break\n",
    "    else:\n",
    "        exists = False"
   ]
  },
  {
   "cell_type": "code",
   "execution_count": 535,
   "id": "77b31945-3851-404f-965a-41403f157b02",
   "metadata": {},
   "outputs": [
    {
     "name": "stdout",
     "output_type": "stream",
     "text": [
      "The element exists in the given set.\n"
     ]
    }
   ],
   "source": [
    "if exists==True:\n",
    "    print('The element exists in the given set.')\n",
    "else:\n",
    "    print('The element does not exists in the given set.')"
   ]
  },
  {
   "cell_type": "markdown",
   "id": "d4ae36a7-1a32-471f-9c23-230625557c03",
   "metadata": {},
   "source": [
    "5. Find the length of a set without using the `len()` function."
   ]
  },
  {
   "cell_type": "code",
   "execution_count": 536,
   "id": "a078e20f-d634-41d8-bef8-821c8a744c34",
   "metadata": {},
   "outputs": [
    {
     "data": {
      "text/plain": [
       "{2, 3, 4, 5, 6}"
      ]
     },
     "execution_count": 536,
     "metadata": {},
     "output_type": "execute_result"
    }
   ],
   "source": [
    "set1"
   ]
  },
  {
   "cell_type": "code",
   "execution_count": 537,
   "id": "3f91a9b2-a040-490a-93ed-6c0856f37a20",
   "metadata": {},
   "outputs": [],
   "source": [
    "set_len = 0"
   ]
  },
  {
   "cell_type": "code",
   "execution_count": 538,
   "id": "f5498ff9-4d97-4500-9ab0-171e4a792fc8",
   "metadata": {},
   "outputs": [],
   "source": [
    "for i in set1:\n",
    "    set_len += 1"
   ]
  },
  {
   "cell_type": "code",
   "execution_count": 539,
   "id": "fd729b0a-51ef-4371-93e7-d74adec49102",
   "metadata": {},
   "outputs": [
    {
     "name": "stdout",
     "output_type": "stream",
     "text": [
      "The length of the given set is  5\n"
     ]
    }
   ],
   "source": [
    "print('The length of the given set is ', set_len)"
   ]
  },
  {
   "cell_type": "markdown",
   "id": "75f7502a-9408-4be3-b5f5-4d631c91cbc5",
   "metadata": {},
   "source": [
    "6. Clear all elements from a set."
   ]
  },
  {
   "cell_type": "code",
   "execution_count": 540,
   "id": "44a421a7-1a14-4989-b460-9013d08c2142",
   "metadata": {},
   "outputs": [
    {
     "data": {
      "text/plain": [
       "{2, 3, 4, 5, 6}"
      ]
     },
     "execution_count": 540,
     "metadata": {},
     "output_type": "execute_result"
    }
   ],
   "source": [
    "set1"
   ]
  },
  {
   "cell_type": "code",
   "execution_count": 541,
   "id": "1b286d54-e855-4319-bfe6-db448af7ab84",
   "metadata": {},
   "outputs": [],
   "source": [
    "set1.clear()"
   ]
  },
  {
   "cell_type": "code",
   "execution_count": 542,
   "id": "ae61b388-7734-4b65-be66-8486ff734b03",
   "metadata": {},
   "outputs": [
    {
     "data": {
      "text/plain": [
       "set()"
      ]
     },
     "execution_count": 542,
     "metadata": {},
     "output_type": "execute_result"
    }
   ],
   "source": [
    "set1"
   ]
  },
  {
   "cell_type": "markdown",
   "id": "367cf1e2-f487-41a6-9c27-1fc19694dd61",
   "metadata": {},
   "source": [
    "7. Create a set of even numbers from 1 to 10."
   ]
  },
  {
   "cell_type": "code",
   "execution_count": 543,
   "id": "bd209e2c-4f33-4ac9-8917-d2efdb636e55",
   "metadata": {},
   "outputs": [
    {
     "data": {
      "text/plain": [
       "set()"
      ]
     },
     "execution_count": 543,
     "metadata": {},
     "output_type": "execute_result"
    }
   ],
   "source": [
    "set1"
   ]
  },
  {
   "cell_type": "code",
   "execution_count": 544,
   "id": "7a4708db-6a27-4a72-9611-e051f09bd5ca",
   "metadata": {},
   "outputs": [],
   "source": [
    "for i in range(1,11):\n",
    "    if i%2==0:\n",
    "        set1.add(i)"
   ]
  },
  {
   "cell_type": "code",
   "execution_count": 545,
   "id": "40496148-3933-4388-a03f-64138594d9bc",
   "metadata": {},
   "outputs": [
    {
     "name": "stdout",
     "output_type": "stream",
     "text": [
      "The required set is  {2, 4, 6, 8, 10}\n"
     ]
    }
   ],
   "source": [
    "print('The required set is ', set1)"
   ]
  },
  {
   "cell_type": "markdown",
   "id": "221fe79d-9f72-4194-ba08-76554f991d6f",
   "metadata": {},
   "source": [
    "8. Create a set of odd numbers from 1 to 10."
   ]
  },
  {
   "cell_type": "code",
   "execution_count": 546,
   "id": "5b63c5da-9bad-414f-99ca-0b27a07e6467",
   "metadata": {},
   "outputs": [],
   "source": [
    "set2 = set()"
   ]
  },
  {
   "cell_type": "code",
   "execution_count": 547,
   "id": "7c932b91-e136-45ca-8653-7c0619aff2ee",
   "metadata": {},
   "outputs": [],
   "source": [
    "for i in range(1,11):\n",
    "    if i%2!=0:\n",
    "        set2.add(i)"
   ]
  },
  {
   "cell_type": "code",
   "execution_count": 548,
   "id": "3bbfd32c-8c5d-449b-b0dd-605a5051cd17",
   "metadata": {},
   "outputs": [
    {
     "name": "stdout",
     "output_type": "stream",
     "text": [
      "The required set is  {1, 3, 5, 7, 9}\n"
     ]
    }
   ],
   "source": [
    "print('The required set is ', set2)"
   ]
  },
  {
   "cell_type": "markdown",
   "id": "16b2ff44-5891-4df0-8825-e5658762c5d8",
   "metadata": {},
   "source": [
    "9. Find the union of two sets."
   ]
  },
  {
   "cell_type": "code",
   "execution_count": 549,
   "id": "4c75883f-abef-454e-9dea-46ce8dae1056",
   "metadata": {},
   "outputs": [
    {
     "data": {
      "text/plain": [
       "{2, 4, 6, 8, 10}"
      ]
     },
     "execution_count": 549,
     "metadata": {},
     "output_type": "execute_result"
    }
   ],
   "source": [
    "set1"
   ]
  },
  {
   "cell_type": "code",
   "execution_count": 550,
   "id": "3065bbfd-332c-4d68-b9f6-5d5c4e35ca1f",
   "metadata": {},
   "outputs": [
    {
     "data": {
      "text/plain": [
       "{1, 3, 5, 7, 9}"
      ]
     },
     "execution_count": 550,
     "metadata": {},
     "output_type": "execute_result"
    }
   ],
   "source": [
    "set2"
   ]
  },
  {
   "cell_type": "code",
   "execution_count": 551,
   "id": "c4449a73-499f-43a0-83b8-532de1865298",
   "metadata": {},
   "outputs": [
    {
     "data": {
      "text/plain": [
       "{1, 2, 3, 4, 5, 6, 7, 8, 9, 10}"
      ]
     },
     "execution_count": 551,
     "metadata": {},
     "output_type": "execute_result"
    }
   ],
   "source": [
    "set1.union(set2)"
   ]
  },
  {
   "cell_type": "markdown",
   "id": "b8a3b90e-9aac-4fe6-ac3a-33d24ce3efe9",
   "metadata": {},
   "source": [
    "10. Find the intersection of two sets."
   ]
  },
  {
   "cell_type": "code",
   "execution_count": 552,
   "id": "6b26f141-c360-443a-83be-5565178e8a88",
   "metadata": {},
   "outputs": [
    {
     "data": {
      "text/plain": [
       "{2, 4, 6, 8, 10}"
      ]
     },
     "execution_count": 552,
     "metadata": {},
     "output_type": "execute_result"
    }
   ],
   "source": [
    "set1"
   ]
  },
  {
   "cell_type": "code",
   "execution_count": 553,
   "id": "e3eeb0a0-6161-4783-8f26-d003e3fde0b4",
   "metadata": {},
   "outputs": [
    {
     "data": {
      "text/plain": [
       "{1, 3, 5, 7, 9}"
      ]
     },
     "execution_count": 553,
     "metadata": {},
     "output_type": "execute_result"
    }
   ],
   "source": [
    "set2"
   ]
  },
  {
   "cell_type": "code",
   "execution_count": 554,
   "id": "373e1afe-9316-471c-acec-4530850f2229",
   "metadata": {},
   "outputs": [
    {
     "data": {
      "text/plain": [
       "set()"
      ]
     },
     "execution_count": 554,
     "metadata": {},
     "output_type": "execute_result"
    }
   ],
   "source": [
    "set1.intersection(set2)"
   ]
  },
  {
   "cell_type": "markdown",
   "id": "3f1ee30d-3e13-49ee-b5d7-7e7bc995e4d8",
   "metadata": {},
   "source": [
    "11. Find the difference between two sets."
   ]
  },
  {
   "cell_type": "code",
   "execution_count": 555,
   "id": "110e95be-b005-4de4-aafd-e585f758efbb",
   "metadata": {},
   "outputs": [],
   "source": [
    "set3 = {1, 2, 3, 4, 5, 6, 7, 8, 9, 10}"
   ]
  },
  {
   "cell_type": "code",
   "execution_count": 556,
   "id": "3613e025-3b93-4bbd-ac30-f873f451ae64",
   "metadata": {},
   "outputs": [
    {
     "data": {
      "text/plain": [
       "{2, 4, 6, 8, 10}"
      ]
     },
     "execution_count": 556,
     "metadata": {},
     "output_type": "execute_result"
    }
   ],
   "source": [
    "set1"
   ]
  },
  {
   "cell_type": "code",
   "execution_count": 557,
   "id": "7da03c5b-a57d-4458-aeca-2ad54e1f032e",
   "metadata": {},
   "outputs": [
    {
     "data": {
      "text/plain": [
       "{1, 3, 5, 7, 9}"
      ]
     },
     "execution_count": 557,
     "metadata": {},
     "output_type": "execute_result"
    }
   ],
   "source": [
    "set3.difference(set1)"
   ]
  },
  {
   "cell_type": "markdown",
   "id": "17d5ff6c-664c-44cd-8f14-0a29ec2e9062",
   "metadata": {},
   "source": [
    "12. Check if a set is a subset of another set."
   ]
  },
  {
   "cell_type": "code",
   "execution_count": 558,
   "id": "59407e03-441f-4a81-bd51-7cc55d883404",
   "metadata": {},
   "outputs": [
    {
     "data": {
      "text/plain": [
       "{1, 2, 3, 4, 5, 6, 7, 8, 9, 10}"
      ]
     },
     "execution_count": 558,
     "metadata": {},
     "output_type": "execute_result"
    }
   ],
   "source": [
    "set3"
   ]
  },
  {
   "cell_type": "code",
   "execution_count": 559,
   "id": "2c455022-5156-4611-81bd-1fd9ba12b503",
   "metadata": {},
   "outputs": [
    {
     "data": {
      "text/plain": [
       "{1, 3, 5, 7, 9}"
      ]
     },
     "execution_count": 559,
     "metadata": {},
     "output_type": "execute_result"
    }
   ],
   "source": [
    "set2"
   ]
  },
  {
   "cell_type": "code",
   "execution_count": 560,
   "id": "34a402b6-73c9-47aa-bfa8-7b861e4cbf7e",
   "metadata": {},
   "outputs": [
    {
     "data": {
      "text/plain": [
       "True"
      ]
     },
     "execution_count": 560,
     "metadata": {},
     "output_type": "execute_result"
    }
   ],
   "source": [
    "set2.issubset(set3)"
   ]
  },
  {
   "cell_type": "markdown",
   "id": "34dc43ad-56b2-406e-9e9c-725a311cd62d",
   "metadata": {},
   "source": [
    "13. Check if a set is a superset of another set."
   ]
  },
  {
   "cell_type": "code",
   "execution_count": 561,
   "id": "4ed591bb-b5ff-438e-9b48-d4156486a04a",
   "metadata": {},
   "outputs": [
    {
     "data": {
      "text/plain": [
       "{1, 2, 3, 4, 5, 6, 7, 8, 9, 10}"
      ]
     },
     "execution_count": 561,
     "metadata": {},
     "output_type": "execute_result"
    }
   ],
   "source": [
    "set3"
   ]
  },
  {
   "cell_type": "code",
   "execution_count": 562,
   "id": "2a26801f-581a-48ed-aacd-2bed8db9bfea",
   "metadata": {},
   "outputs": [
    {
     "data": {
      "text/plain": [
       "{2, 4, 6, 8, 10}"
      ]
     },
     "execution_count": 562,
     "metadata": {},
     "output_type": "execute_result"
    }
   ],
   "source": [
    "set1"
   ]
  },
  {
   "cell_type": "code",
   "execution_count": 563,
   "id": "91957133-fcd8-4ff5-ab13-554d0d435a42",
   "metadata": {},
   "outputs": [
    {
     "data": {
      "text/plain": [
       "True"
      ]
     },
     "execution_count": 563,
     "metadata": {},
     "output_type": "execute_result"
    }
   ],
   "source": [
    "set3.issuperset(set1)"
   ]
  },
  {
   "cell_type": "markdown",
   "id": "bf89208e-49c1-4276-8158-8b9962677a00",
   "metadata": {},
   "source": [
    "14. Create a set from a list."
   ]
  },
  {
   "cell_type": "code",
   "execution_count": 564,
   "id": "58db2f41-2aee-4e51-aba2-38e7c5489778",
   "metadata": {},
   "outputs": [
    {
     "data": {
      "text/plain": [
       "[9, 7, 5, 3, 1]"
      ]
     },
     "execution_count": 564,
     "metadata": {},
     "output_type": "execute_result"
    }
   ],
   "source": [
    "l1"
   ]
  },
  {
   "cell_type": "code",
   "execution_count": 565,
   "id": "722f75b0-2b37-4bdf-814c-b2dcc01e5ac7",
   "metadata": {},
   "outputs": [],
   "source": [
    "set4 = set(l1)"
   ]
  },
  {
   "cell_type": "code",
   "execution_count": 566,
   "id": "9d5d6f91-1e44-4b84-b244-0e446689539a",
   "metadata": {},
   "outputs": [
    {
     "data": {
      "text/plain": [
       "{1, 3, 5, 7, 9}"
      ]
     },
     "execution_count": 566,
     "metadata": {},
     "output_type": "execute_result"
    }
   ],
   "source": [
    "set4"
   ]
  },
  {
   "cell_type": "markdown",
   "id": "76ff7d6e-f666-4455-bf11-32391aaa8e9e",
   "metadata": {},
   "source": [
    "15. Convert a set to a list."
   ]
  },
  {
   "cell_type": "code",
   "execution_count": 567,
   "id": "e795079a-ead5-4f57-8d7f-395f31c46585",
   "metadata": {},
   "outputs": [
    {
     "data": {
      "text/plain": [
       "{1, 2, 3, 4, 5, 6, 7, 8, 9, 10}"
      ]
     },
     "execution_count": 567,
     "metadata": {},
     "output_type": "execute_result"
    }
   ],
   "source": [
    "set3"
   ]
  },
  {
   "cell_type": "code",
   "execution_count": 568,
   "id": "404d3733-383f-48f1-961d-625f7bf9b128",
   "metadata": {},
   "outputs": [],
   "source": [
    "l27 = list(set3)"
   ]
  },
  {
   "cell_type": "code",
   "execution_count": 569,
   "id": "713a5c07-4fa5-4284-86b7-c429a0195475",
   "metadata": {},
   "outputs": [
    {
     "data": {
      "text/plain": [
       "[1, 2, 3, 4, 5, 6, 7, 8, 9, 10]"
      ]
     },
     "execution_count": 569,
     "metadata": {},
     "output_type": "execute_result"
    }
   ],
   "source": [
    "l27"
   ]
  },
  {
   "cell_type": "markdown",
   "id": "3a1a88a4-45f4-418a-b19f-8f9dd35cc20a",
   "metadata": {},
   "source": [
    "16. Remove a random element from a set."
   ]
  },
  {
   "cell_type": "code",
   "execution_count": 570,
   "id": "c3ac1e18-54b7-40e2-ac5e-1a16b3ee2ec9",
   "metadata": {},
   "outputs": [
    {
     "data": {
      "text/plain": [
       "{1, 2, 3, 4, 5, 6, 7, 8, 9, 10}"
      ]
     },
     "execution_count": 570,
     "metadata": {},
     "output_type": "execute_result"
    }
   ],
   "source": [
    "set3"
   ]
  },
  {
   "cell_type": "code",
   "execution_count": 571,
   "id": "717a10b5-300f-4ff4-9a72-fa6ecec7e89d",
   "metadata": {},
   "outputs": [],
   "source": [
    "random_element = random.choice(list(set3))"
   ]
  },
  {
   "cell_type": "code",
   "execution_count": 572,
   "id": "c8d292ce-6545-433a-bf2d-45f0bed1766c",
   "metadata": {},
   "outputs": [],
   "source": [
    "set3.remove(random_element)"
   ]
  },
  {
   "cell_type": "code",
   "execution_count": 573,
   "id": "ca7b94d5-dc89-4dbc-b341-e62246d3b4f7",
   "metadata": {},
   "outputs": [
    {
     "data": {
      "text/plain": [
       "{1, 2, 3, 4, 5, 6, 7, 9, 10}"
      ]
     },
     "execution_count": 573,
     "metadata": {},
     "output_type": "execute_result"
    }
   ],
   "source": [
    "set3"
   ]
  },
  {
   "cell_type": "markdown",
   "id": "605fcb0b-8894-4e19-a307-4a916d32f1af",
   "metadata": {},
   "source": [
    "18. Check if two sets have no elements in common."
   ]
  },
  {
   "cell_type": "code",
   "execution_count": 574,
   "id": "eb8bf15a-da9e-4ab1-962a-fcfbb73ce576",
   "metadata": {},
   "outputs": [
    {
     "data": {
      "text/plain": [
       "{2, 4, 6, 8, 10}"
      ]
     },
     "execution_count": 574,
     "metadata": {},
     "output_type": "execute_result"
    }
   ],
   "source": [
    "set1"
   ]
  },
  {
   "cell_type": "code",
   "execution_count": 575,
   "id": "8231595e-9e5f-46fa-9a12-f06c271eff04",
   "metadata": {},
   "outputs": [
    {
     "data": {
      "text/plain": [
       "{1, 3, 5, 7, 9}"
      ]
     },
     "execution_count": 575,
     "metadata": {},
     "output_type": "execute_result"
    }
   ],
   "source": [
    "set2"
   ]
  },
  {
   "cell_type": "code",
   "execution_count": 576,
   "id": "e376445b-00e0-41ef-a0c0-cc3f26d70d48",
   "metadata": {},
   "outputs": [
    {
     "data": {
      "text/plain": [
       "set()"
      ]
     },
     "execution_count": 576,
     "metadata": {},
     "output_type": "execute_result"
    }
   ],
   "source": [
    "set1.intersection(set2)"
   ]
  },
  {
   "cell_type": "code",
   "execution_count": 577,
   "id": "06429d25-64ad-48bf-8fc1-257e36f76ed7",
   "metadata": {},
   "outputs": [
    {
     "name": "stdout",
     "output_type": "stream",
     "text": [
      "The two sets have nothing in common.\n"
     ]
    }
   ],
   "source": [
    "if set1.isdisjoint(set2):\n",
    "    print('The two sets have nothing in common.')\n",
    "else:\n",
    "    print('The two sets have some element in common.')"
   ]
  },
  {
   "cell_type": "markdown",
   "id": "9e35a1ce-fd48-4e37-b176-55a139416f12",
   "metadata": {},
   "source": [
    "19. Find the symmetric difference between two sets."
   ]
  },
  {
   "cell_type": "code",
   "execution_count": 578,
   "id": "7ba17120-e974-416b-8baf-2a89a96bf591",
   "metadata": {},
   "outputs": [
    {
     "data": {
      "text/plain": [
       "{2, 4, 6, 8, 10}"
      ]
     },
     "execution_count": 578,
     "metadata": {},
     "output_type": "execute_result"
    }
   ],
   "source": [
    "set1"
   ]
  },
  {
   "cell_type": "code",
   "execution_count": 579,
   "id": "cd40c589-14dc-4e9b-bf4c-a2e3b07ccd6b",
   "metadata": {},
   "outputs": [
    {
     "data": {
      "text/plain": [
       "{1, 2, 3, 4, 5, 6, 7, 9, 10}"
      ]
     },
     "execution_count": 579,
     "metadata": {},
     "output_type": "execute_result"
    }
   ],
   "source": [
    "set3"
   ]
  },
  {
   "cell_type": "code",
   "execution_count": 580,
   "id": "862b0627-416f-4612-abce-875e36772d68",
   "metadata": {},
   "outputs": [],
   "source": [
    "sym_diff = set1^set3"
   ]
  },
  {
   "cell_type": "code",
   "execution_count": 581,
   "id": "9092635a-a45e-4efa-8719-7ba5cd89398e",
   "metadata": {},
   "outputs": [
    {
     "name": "stdout",
     "output_type": "stream",
     "text": [
      "The symmetric difference between the two sets is {1, 3, 5, 7, 8, 9}\n"
     ]
    }
   ],
   "source": [
    "print('The symmetric difference between the two sets is', sym_diff)"
   ]
  },
  {
   "cell_type": "markdown",
   "id": "ce34b0ab-10f2-415d-9bec-cd85f90ad640",
   "metadata": {},
   "source": [
    "20. Update a set with elements from another set."
   ]
  },
  {
   "cell_type": "code",
   "execution_count": 582,
   "id": "b1ee81de-7a71-4e28-81e6-e163629aedb4",
   "metadata": {},
   "outputs": [
    {
     "data": {
      "text/plain": [
       "{2, 4, 6, 8, 10}"
      ]
     },
     "execution_count": 582,
     "metadata": {},
     "output_type": "execute_result"
    }
   ],
   "source": [
    "set1"
   ]
  },
  {
   "cell_type": "code",
   "execution_count": 583,
   "id": "aac67fbc-74cf-47b4-bcf7-ba2160104fc1",
   "metadata": {},
   "outputs": [
    {
     "data": {
      "text/plain": [
       "{1, 3, 5, 7, 9}"
      ]
     },
     "execution_count": 583,
     "metadata": {},
     "output_type": "execute_result"
    }
   ],
   "source": [
    "set2"
   ]
  },
  {
   "cell_type": "code",
   "execution_count": 584,
   "id": "856ee2d1-2bc0-4b70-9922-083655a77912",
   "metadata": {},
   "outputs": [],
   "source": [
    "set1.update(set2)"
   ]
  },
  {
   "cell_type": "code",
   "execution_count": 585,
   "id": "4171f624-b41d-41a8-b0ae-97fc10807649",
   "metadata": {},
   "outputs": [
    {
     "name": "stdout",
     "output_type": "stream",
     "text": [
      "The updated set is {1, 2, 3, 4, 5, 6, 7, 8, 9, 10}\n"
     ]
    }
   ],
   "source": [
    "print('The updated set is', set1)"
   ]
  },
  {
   "cell_type": "markdown",
   "id": "8f0a7356-0abc-4531-be69-770b49e4e736",
   "metadata": {},
   "source": [
    "21. Create a set of the first 5 prime numbers."
   ]
  },
  {
   "cell_type": "code",
   "execution_count": 586,
   "id": "41a556ab-905e-42bc-a53c-f1fecf825ae4",
   "metadata": {},
   "outputs": [],
   "source": [
    "n = 5\n",
    "primes = set()\n",
    "num = 2"
   ]
  },
  {
   "cell_type": "code",
   "execution_count": 587,
   "id": "f6d6fb65-78c1-4f3d-952e-fdda820faf1b",
   "metadata": {},
   "outputs": [],
   "source": [
    "while len(primes) < n:\n",
    "    is_prime = True\n",
    "    \n",
    "    for i in range(2, int(num**0.5)+1):\n",
    "        if num%i==0:\n",
    "            is_prime = False\n",
    "            break\n",
    "    if is_prime:\n",
    "        primes.add(num)\n",
    "    num += 1"
   ]
  },
  {
   "cell_type": "code",
   "execution_count": 588,
   "id": "957dc9b5-07b6-4b7f-8d6f-98300e8b8310",
   "metadata": {},
   "outputs": [
    {
     "name": "stdout",
     "output_type": "stream",
     "text": [
      "The set of first 5 prime numbers is {2, 3, 5, 7, 11}\n"
     ]
    }
   ],
   "source": [
    "print('The set of first 5 prime numbers is', primes)"
   ]
  },
  {
   "cell_type": "markdown",
   "id": "777e6057-a1e2-479a-aa31-d39667604488",
   "metadata": {},
   "source": [
    "22. Check if two sets are identical."
   ]
  },
  {
   "cell_type": "code",
   "execution_count": 589,
   "id": "96d71edc-f35e-446c-ae62-6228ab20d1a1",
   "metadata": {},
   "outputs": [
    {
     "data": {
      "text/plain": [
       "{1, 2, 3, 4, 5, 6, 7, 8, 9, 10}"
      ]
     },
     "execution_count": 589,
     "metadata": {},
     "output_type": "execute_result"
    }
   ],
   "source": [
    "set1"
   ]
  },
  {
   "cell_type": "code",
   "execution_count": 590,
   "id": "faed6478-fefa-48d1-acf0-21f99e8d62a0",
   "metadata": {},
   "outputs": [
    {
     "data": {
      "text/plain": [
       "{1, 2, 3, 4, 5, 6, 7, 9, 10}"
      ]
     },
     "execution_count": 590,
     "metadata": {},
     "output_type": "execute_result"
    }
   ],
   "source": [
    "set3"
   ]
  },
  {
   "cell_type": "code",
   "execution_count": 591,
   "id": "e697902f-f59b-4e25-80fd-52f51af45615",
   "metadata": {},
   "outputs": [],
   "source": [
    "are_identical = set1==set3"
   ]
  },
  {
   "cell_type": "code",
   "execution_count": 592,
   "id": "bf3b2d67-ee26-4a44-b847-0a187130ce65",
   "metadata": {},
   "outputs": [
    {
     "name": "stdout",
     "output_type": "stream",
     "text": [
      "The sets are not identical.\n"
     ]
    }
   ],
   "source": [
    "if are_identical:\n",
    "    print('The sets are identical.')\n",
    "else:\n",
    "    print('The sets are not identical.')"
   ]
  },
  {
   "cell_type": "markdown",
   "id": "8548417e-6c96-4add-8981-141c3b06ac34",
   "metadata": {},
   "source": [
    "23. Create a frozen set."
   ]
  },
  {
   "cell_type": "code",
   "execution_count": 593,
   "id": "5dc0792e-1e3e-42d5-9212-e37e41b57316",
   "metadata": {},
   "outputs": [],
   "source": [
    "frz_set = frozenset([1, 2, 3, 4, 5])"
   ]
  },
  {
   "cell_type": "code",
   "execution_count": 594,
   "id": "7f5cf652-9d14-465d-b261-f2c06a734d7b",
   "metadata": {},
   "outputs": [
    {
     "name": "stdout",
     "output_type": "stream",
     "text": [
      "frozenset({1, 2, 3, 4, 5})\n"
     ]
    }
   ],
   "source": [
    "print(frz_set)"
   ]
  },
  {
   "cell_type": "markdown",
   "id": "e54bee78-2c9e-4353-b879-66d5a9df9a9c",
   "metadata": {},
   "source": [
    "24. Check if a set is disjoint with another set."
   ]
  },
  {
   "cell_type": "code",
   "execution_count": 595,
   "id": "bbf8ae36-a8b5-411e-8c3e-412520caeff3",
   "metadata": {},
   "outputs": [
    {
     "data": {
      "text/plain": [
       "{1, 2, 3, 4, 5, 6, 7, 8, 9, 10}"
      ]
     },
     "execution_count": 595,
     "metadata": {},
     "output_type": "execute_result"
    }
   ],
   "source": [
    "set1"
   ]
  },
  {
   "cell_type": "code",
   "execution_count": 596,
   "id": "e3370dcf-6cb6-4172-9ee9-50e6b686eabe",
   "metadata": {},
   "outputs": [],
   "source": [
    "set5 = {11, 12, 13, 14, 15}"
   ]
  },
  {
   "cell_type": "code",
   "execution_count": 597,
   "id": "d1a43be3-e262-4dd2-987b-73567acd9843",
   "metadata": {},
   "outputs": [],
   "source": [
    "dj_set = set5.isdisjoint(set1)"
   ]
  },
  {
   "cell_type": "code",
   "execution_count": 598,
   "id": "7c726c7d-df21-4c3b-a6d2-46b47d83ac3a",
   "metadata": {},
   "outputs": [
    {
     "name": "stdout",
     "output_type": "stream",
     "text": [
      "The set is disjoint.\n"
     ]
    }
   ],
   "source": [
    "if dj_set:\n",
    "    print('The set is disjoint.')\n",
    "else:\n",
    "    print('The set is not disjoint.')"
   ]
  },
  {
   "cell_type": "markdown",
   "id": "4e58da4c-a0f4-4461-b6fc-340271868545",
   "metadata": {},
   "source": [
    "25. Create a set of squares of numbers from 1 to 5."
   ]
  },
  {
   "cell_type": "code",
   "execution_count": 599,
   "id": "f7304ea2-1839-463b-bf4f-6356da6a83da",
   "metadata": {},
   "outputs": [],
   "source": [
    "sq_set = set()"
   ]
  },
  {
   "cell_type": "code",
   "execution_count": 600,
   "id": "c1dcdd77-56ea-4dfa-a254-03d00b23af19",
   "metadata": {},
   "outputs": [],
   "source": [
    "for i in range(1,6):\n",
    "    sq_set.add(i**2)"
   ]
  },
  {
   "cell_type": "code",
   "execution_count": 601,
   "id": "c05efc18-f6ad-4b6d-8b39-21943db01356",
   "metadata": {},
   "outputs": [
    {
     "name": "stdout",
     "output_type": "stream",
     "text": [
      "The required set is  {1, 4, 9, 16, 25}\n"
     ]
    }
   ],
   "source": [
    "print('The required set is ', sq_set)"
   ]
  },
  {
   "cell_type": "markdown",
   "id": "d164a66e-2282-4b8f-95c3-de31ce004702",
   "metadata": {},
   "source": [
    "26. Filter out all even numbers from a set."
   ]
  },
  {
   "cell_type": "code",
   "execution_count": 602,
   "id": "5aae1179-3f4f-4d87-b026-50e4f77e54cd",
   "metadata": {},
   "outputs": [
    {
     "data": {
      "text/plain": [
       "{1, 2, 3, 4, 5, 6, 7, 8, 9, 10}"
      ]
     },
     "execution_count": 602,
     "metadata": {},
     "output_type": "execute_result"
    }
   ],
   "source": [
    "set1"
   ]
  },
  {
   "cell_type": "code",
   "execution_count": 603,
   "id": "fe4eec07-6eca-4e18-9b56-c6d302adde37",
   "metadata": {},
   "outputs": [],
   "source": [
    "for i in set1.copy():\n",
    "    if i%2==0:\n",
    "        set1.discard(i)"
   ]
  },
  {
   "cell_type": "code",
   "execution_count": 604,
   "id": "d29d11e2-b3e7-4b07-8596-e93949521fae",
   "metadata": {},
   "outputs": [
    {
     "name": "stdout",
     "output_type": "stream",
     "text": [
      "The new set is  {1, 3, 5, 7, 9}\n"
     ]
    }
   ],
   "source": [
    "print('The new set is ', set1)"
   ]
  },
  {
   "cell_type": "markdown",
   "id": "c5c4652c-feff-4e44-a10f-e370bc8994b8",
   "metadata": {},
   "source": [
    "27. Multiply all elements in a set by 2."
   ]
  },
  {
   "cell_type": "code",
   "execution_count": 605,
   "id": "1b9a67f5-2d27-4e98-8a53-c2834a1eaf35",
   "metadata": {},
   "outputs": [
    {
     "data": {
      "text/plain": [
       "{1, 3, 5, 7, 9}"
      ]
     },
     "execution_count": 605,
     "metadata": {},
     "output_type": "execute_result"
    }
   ],
   "source": [
    "set1"
   ]
  },
  {
   "cell_type": "code",
   "execution_count": 606,
   "id": "2523056f-5eff-43ea-bb11-e85a481412c2",
   "metadata": {},
   "outputs": [],
   "source": [
    "set1 = {i*2 for i in set1}"
   ]
  },
  {
   "cell_type": "code",
   "execution_count": 607,
   "id": "5d183f27-e6f2-4789-b931-09888ef91965",
   "metadata": {},
   "outputs": [
    {
     "name": "stdout",
     "output_type": "stream",
     "text": [
      "The required set is  {2, 6, 10, 14, 18}\n"
     ]
    }
   ],
   "source": [
    "print('The required set is ', set1)"
   ]
  },
  {
   "cell_type": "markdown",
   "id": "9d56ad5c-ac0f-485d-9641-9d76709f2f91",
   "metadata": {},
   "source": [
    "28. Create a set of random numbers."
   ]
  },
  {
   "cell_type": "code",
   "execution_count": 608,
   "id": "3459109e-8fc2-420a-81d4-0ab906422deb",
   "metadata": {},
   "outputs": [],
   "source": [
    "rndm_set = set()"
   ]
  },
  {
   "cell_type": "code",
   "execution_count": 609,
   "id": "a225d6a8-4a8d-4a5d-820d-10be021ab28d",
   "metadata": {},
   "outputs": [],
   "source": [
    "n = 10"
   ]
  },
  {
   "cell_type": "code",
   "execution_count": 610,
   "id": "46467dca-d127-4341-926b-03fec829f9a5",
   "metadata": {},
   "outputs": [],
   "source": [
    "while len(rndm_set)<n:\n",
    "    rndm_set.add(random.randint(-100,100))"
   ]
  },
  {
   "cell_type": "code",
   "execution_count": 611,
   "id": "c93dc74a-1275-4268-adc0-e3e83584ae73",
   "metadata": {},
   "outputs": [
    {
     "name": "stdout",
     "output_type": "stream",
     "text": [
      "The required set is  {-64, -31, 98, -58, -26, -21, 44, 29, 61, -34}\n"
     ]
    }
   ],
   "source": [
    "print('The required set is ', rndm_set)"
   ]
  },
  {
   "cell_type": "markdown",
   "id": "aff2c933-b221-4abf-bd87-ca634f05d0be",
   "metadata": {},
   "source": [
    "29. Check if a set is empty."
   ]
  },
  {
   "cell_type": "code",
   "execution_count": 612,
   "id": "779f3b09-fc95-4156-bc5e-46793aa5ed90",
   "metadata": {},
   "outputs": [
    {
     "data": {
      "text/plain": [
       "{11, 12, 13, 14, 15}"
      ]
     },
     "execution_count": 612,
     "metadata": {},
     "output_type": "execute_result"
    }
   ],
   "source": [
    "set5"
   ]
  },
  {
   "cell_type": "code",
   "execution_count": 613,
   "id": "680186e1-4cd8-42be-90fe-20978de312b8",
   "metadata": {},
   "outputs": [
    {
     "name": "stdout",
     "output_type": "stream",
     "text": [
      "The set is not empty.\n"
     ]
    }
   ],
   "source": [
    "if len(set5) == 0:\n",
    "    print('The set is empty.')\n",
    "else:\n",
    "    print('The set is not empty.')"
   ]
  },
  {
   "cell_type": "markdown",
   "id": "a44ad440-8644-4a12-8696-3b3f067588ca",
   "metadata": {},
   "source": [
    "30. Create a nested set (hint: use frozenset)."
   ]
  },
  {
   "cell_type": "code",
   "execution_count": 614,
   "id": "9262ce0f-6cda-48f7-a419-777857f93be7",
   "metadata": {},
   "outputs": [],
   "source": [
    "inner_set1 = frozenset([1, 2, 3, 4, 5])\n",
    "inner_set2 = frozenset([6, 7, 8, 9, 10])\n",
    "inner_set3 = frozenset([11, 12, 13, 14, 15])"
   ]
  },
  {
   "cell_type": "code",
   "execution_count": 615,
   "id": "2a31f3c9-4c59-4b62-ab53-9acbf15b57f7",
   "metadata": {},
   "outputs": [],
   "source": [
    "nest_set = {inner_set1, inner_set2, inner_set3}"
   ]
  },
  {
   "cell_type": "code",
   "execution_count": 616,
   "id": "516cf5c6-019c-400f-ad41-d0dcffd68679",
   "metadata": {},
   "outputs": [
    {
     "data": {
      "text/plain": [
       "{frozenset({1, 2, 3, 4, 5}),\n",
       " frozenset({11, 12, 13, 14, 15}),\n",
       " frozenset({6, 7, 8, 9, 10})}"
      ]
     },
     "execution_count": 616,
     "metadata": {},
     "output_type": "execute_result"
    }
   ],
   "source": [
    "nest_set"
   ]
  },
  {
   "cell_type": "markdown",
   "id": "6105a5ec-6e4c-46f3-ae86-bc51312b8868",
   "metadata": {},
   "source": [
    "31. Remove an element from a set using the discard method."
   ]
  },
  {
   "cell_type": "code",
   "execution_count": 617,
   "id": "baea5ef4-3f12-43e4-af73-a674e9e09c18",
   "metadata": {},
   "outputs": [
    {
     "data": {
      "text/plain": [
       "{2, 6, 10, 14, 18}"
      ]
     },
     "execution_count": 617,
     "metadata": {},
     "output_type": "execute_result"
    }
   ],
   "source": [
    "set1"
   ]
  },
  {
   "cell_type": "code",
   "execution_count": 618,
   "id": "c654fc91-cb04-4ac7-9aec-1453a0446f63",
   "metadata": {},
   "outputs": [],
   "source": [
    "set1.discard(6)"
   ]
  },
  {
   "cell_type": "code",
   "execution_count": 619,
   "id": "335afc32-737f-422d-a7f8-bf1d34556d45",
   "metadata": {},
   "outputs": [
    {
     "data": {
      "text/plain": [
       "{2, 10, 14, 18}"
      ]
     },
     "execution_count": 619,
     "metadata": {},
     "output_type": "execute_result"
    }
   ],
   "source": [
    "set1"
   ]
  },
  {
   "cell_type": "markdown",
   "id": "0469b8fa-7663-424b-9146-d43374ce8c75",
   "metadata": {},
   "source": [
    "32. Compare two sets."
   ]
  },
  {
   "cell_type": "code",
   "execution_count": 620,
   "id": "276f8cd5-ba7b-4ce6-9a5b-90df3b7890a5",
   "metadata": {},
   "outputs": [
    {
     "data": {
      "text/plain": [
       "{2, 10, 14, 18}"
      ]
     },
     "execution_count": 620,
     "metadata": {},
     "output_type": "execute_result"
    }
   ],
   "source": [
    "set1"
   ]
  },
  {
   "cell_type": "code",
   "execution_count": 622,
   "id": "576ecc39-eb49-4f85-8a20-9d2566a3b83a",
   "metadata": {},
   "outputs": [
    {
     "data": {
      "text/plain": [
       "{1, 2, 3, 4, 5, 6, 7, 9, 10}"
      ]
     },
     "execution_count": 622,
     "metadata": {},
     "output_type": "execute_result"
    }
   ],
   "source": [
    "set3"
   ]
  },
  {
   "cell_type": "code",
   "execution_count": 623,
   "id": "056e75da-a1ce-47f0-bd58-e926e28213c9",
   "metadata": {},
   "outputs": [
    {
     "name": "stdout",
     "output_type": "stream",
     "text": [
      "Equality:  False\n"
     ]
    }
   ],
   "source": [
    "print('Equality: ', set1==set3)"
   ]
  },
  {
   "cell_type": "code",
   "execution_count": 624,
   "id": "d58105ee-7f4c-4f45-9ed8-cdd6d6ad6bf4",
   "metadata": {},
   "outputs": [
    {
     "name": "stdout",
     "output_type": "stream",
     "text": [
      "Subset:  False\n"
     ]
    }
   ],
   "source": [
    "print('Subset: ', set1.issubset(set3))"
   ]
  },
  {
   "cell_type": "code",
   "execution_count": 625,
   "id": "e2d2ad23-9495-4f48-bf06-982104e83ddf",
   "metadata": {},
   "outputs": [
    {
     "name": "stdout",
     "output_type": "stream",
     "text": [
      "Superset:  False\n"
     ]
    }
   ],
   "source": [
    "print('Superset: ', set3.issuperset(set1))"
   ]
  },
  {
   "cell_type": "code",
   "execution_count": 627,
   "id": "96be8b25-ab9a-4438-ad20-1587f07a3b77",
   "metadata": {},
   "outputs": [
    {
     "name": "stdout",
     "output_type": "stream",
     "text": [
      "Disjoint:  False\n"
     ]
    }
   ],
   "source": [
    "print('Disjoint: ', set3.isdisjoint(set1))"
   ]
  },
  {
   "cell_type": "code",
   "execution_count": 628,
   "id": "e65f8b16-ee3c-4f94-ba23-4f9f18a5cd64",
   "metadata": {},
   "outputs": [
    {
     "name": "stdout",
     "output_type": "stream",
     "text": [
      "Union:  {1, 2, 3, 4, 5, 6, 7, 9, 10, 14, 18}\n"
     ]
    }
   ],
   "source": [
    "print('Union: ', set3.union(set1))"
   ]
  },
  {
   "cell_type": "code",
   "execution_count": 629,
   "id": "7bb36a98-e6bd-4f0c-9bf1-5aea7cb685b3",
   "metadata": {},
   "outputs": [
    {
     "name": "stdout",
     "output_type": "stream",
     "text": [
      "Intersection:  {2, 10}\n"
     ]
    }
   ],
   "source": [
    "print('Intersection: ', set3.intersection(set1))"
   ]
  },
  {
   "cell_type": "code",
   "execution_count": 630,
   "id": "000f915a-4a12-427f-8848-dfcd094c24ab",
   "metadata": {},
   "outputs": [
    {
     "name": "stdout",
     "output_type": "stream",
     "text": [
      "Difference:  {1, 3, 4, 5, 6, 7, 9}\n"
     ]
    }
   ],
   "source": [
    "print('Difference: ', set3.difference(set1))"
   ]
  },
  {
   "cell_type": "code",
   "execution_count": 631,
   "id": "7c9d685d-3be2-410f-86f9-62a5600064bb",
   "metadata": {},
   "outputs": [
    {
     "name": "stdout",
     "output_type": "stream",
     "text": [
      "Symmetric Difference:  {1, 3, 4, 5, 6, 7, 9, 14, 18}\n"
     ]
    }
   ],
   "source": [
    "print('Symmetric Difference: ', set3.symmetric_difference(set1))"
   ]
  },
  {
   "cell_type": "markdown",
   "id": "0380da6d-21d8-4867-9fe0-8080563c5e97",
   "metadata": {},
   "source": [
    "33. Create a set from a string."
   ]
  },
  {
   "cell_type": "code",
   "execution_count": 632,
   "id": "c04f77be-583f-468a-93f3-8a628fcf421c",
   "metadata": {},
   "outputs": [],
   "source": [
    "s30 = 'Hello World!'"
   ]
  },
  {
   "cell_type": "code",
   "execution_count": 633,
   "id": "12c619c2-d06e-4f06-b8a5-19a9ed7e85fa",
   "metadata": {},
   "outputs": [],
   "source": [
    "str_set = set(s30)"
   ]
  },
  {
   "cell_type": "code",
   "execution_count": 634,
   "id": "89f3aa3f-09fd-41a5-a43c-690761093602",
   "metadata": {},
   "outputs": [
    {
     "name": "stdout",
     "output_type": "stream",
     "text": [
      "The required set is  {'e', ' ', 'r', 'W', 'l', 'o', 'H', 'd', '!'}\n"
     ]
    }
   ],
   "source": [
    "print('The required set is ', str_set)"
   ]
  },
  {
   "cell_type": "markdown",
   "id": "9a190a4c-039c-4dc3-aa40-c8762498f641",
   "metadata": {},
   "source": [
    "34. Convert a set of strings to a set of integers."
   ]
  },
  {
   "cell_type": "code",
   "execution_count": 643,
   "id": "05ec7abc-f4ec-4dd1-abc4-de4c437c83e6",
   "metadata": {},
   "outputs": [],
   "source": [
    "s31 = '1234567890'"
   ]
  },
  {
   "cell_type": "code",
   "execution_count": 644,
   "id": "42fa9f65-68c3-4be4-8889-681ed78b4565",
   "metadata": {},
   "outputs": [],
   "source": [
    "str_set = set(s31)"
   ]
  },
  {
   "cell_type": "code",
   "execution_count": 645,
   "id": "740ab653-cd00-4fe4-b45f-d0e35366885a",
   "metadata": {},
   "outputs": [
    {
     "data": {
      "text/plain": [
       "{'0', '1', '2', '3', '4', '5', '6', '7', '8', '9'}"
      ]
     },
     "execution_count": 645,
     "metadata": {},
     "output_type": "execute_result"
    }
   ],
   "source": [
    "str_set"
   ]
  },
  {
   "cell_type": "code",
   "execution_count": 647,
   "id": "3acf7b94-527d-42d2-b036-b79a445316cf",
   "metadata": {},
   "outputs": [],
   "source": [
    "int_set = {int(char) for char in str_set}"
   ]
  },
  {
   "cell_type": "code",
   "execution_count": 648,
   "id": "f7ae6fcd-698b-4514-9760-6bcee68e7e2f",
   "metadata": {},
   "outputs": [
    {
     "data": {
      "text/plain": [
       "{0, 1, 2, 3, 4, 5, 6, 7, 8, 9}"
      ]
     },
     "execution_count": 648,
     "metadata": {},
     "output_type": "execute_result"
    }
   ],
   "source": [
    "int_set"
   ]
  },
  {
   "cell_type": "markdown",
   "id": "18d5c44d-cd26-4183-af95-f2bf9e142f94",
   "metadata": {},
   "source": [
    "35. Convert a set of integers to a set of strings."
   ]
  },
  {
   "cell_type": "code",
   "execution_count": 650,
   "id": "7f68dd59-b111-4e86-9754-74372224a47d",
   "metadata": {},
   "outputs": [
    {
     "data": {
      "text/plain": [
       "{0, 1, 2, 3, 4, 5, 6, 7, 8, 9}"
      ]
     },
     "execution_count": 650,
     "metadata": {},
     "output_type": "execute_result"
    }
   ],
   "source": [
    "int_set"
   ]
  },
  {
   "cell_type": "code",
   "execution_count": 651,
   "id": "50dca7b2-4949-4c0e-a1b0-428899afb16b",
   "metadata": {},
   "outputs": [],
   "source": [
    "str_set1 = {str(char) for char in int_set}"
   ]
  },
  {
   "cell_type": "code",
   "execution_count": 652,
   "id": "1eeadfad-de7c-42a1-b465-b5faae45c987",
   "metadata": {},
   "outputs": [
    {
     "data": {
      "text/plain": [
       "{'0', '1', '2', '3', '4', '5', '6', '7', '8', '9'}"
      ]
     },
     "execution_count": 652,
     "metadata": {},
     "output_type": "execute_result"
    }
   ],
   "source": [
    "str_set"
   ]
  },
  {
   "cell_type": "markdown",
   "id": "6e4835ff-83f8-4666-bdb0-61bf2772b14b",
   "metadata": {},
   "source": [
    "36. Create a set from a tuple."
   ]
  },
  {
   "cell_type": "code",
   "execution_count": 653,
   "id": "e6a34ca4-83da-49ef-ab08-509eb4dbaddc",
   "metadata": {},
   "outputs": [
    {
     "data": {
      "text/plain": [
       "(1, 2, 3, 4, 5)"
      ]
     },
     "execution_count": 653,
     "metadata": {},
     "output_type": "execute_result"
    }
   ],
   "source": [
    "t1"
   ]
  },
  {
   "cell_type": "code",
   "execution_count": 654,
   "id": "80a6e1b3-8ccb-48be-9b64-0ae34cc4c79f",
   "metadata": {},
   "outputs": [],
   "source": [
    "tup_set = set(t1)"
   ]
  },
  {
   "cell_type": "code",
   "execution_count": 655,
   "id": "da769446-a6ff-4b95-a0b9-57c03e193831",
   "metadata": {},
   "outputs": [
    {
     "data": {
      "text/plain": [
       "{1, 2, 3, 4, 5}"
      ]
     },
     "execution_count": 655,
     "metadata": {},
     "output_type": "execute_result"
    }
   ],
   "source": [
    "tup_set"
   ]
  },
  {
   "cell_type": "markdown",
   "id": "13a61446-37bc-4b1c-bc91-5345368c91e5",
   "metadata": {},
   "source": [
    "37. Convert a set to a tuple."
   ]
  },
  {
   "cell_type": "code",
   "execution_count": 656,
   "id": "2c7450ba-87fe-4e81-9924-3e25758e2df9",
   "metadata": {},
   "outputs": [
    {
     "data": {
      "text/plain": [
       "{1, 2, 3, 4, 5}"
      ]
     },
     "execution_count": 656,
     "metadata": {},
     "output_type": "execute_result"
    }
   ],
   "source": [
    "tup_set"
   ]
  },
  {
   "cell_type": "code",
   "execution_count": 657,
   "id": "0c784d3e-fb85-4e9d-a539-ac40c5d4d7a7",
   "metadata": {},
   "outputs": [],
   "source": [
    "t14 = tuple(tup_set)"
   ]
  },
  {
   "cell_type": "code",
   "execution_count": 658,
   "id": "37b4480b-bfaa-45aa-baad-afdda881df8a",
   "metadata": {},
   "outputs": [
    {
     "data": {
      "text/plain": [
       "(1, 2, 3, 4, 5)"
      ]
     },
     "execution_count": 658,
     "metadata": {},
     "output_type": "execute_result"
    }
   ],
   "source": [
    "t14"
   ]
  },
  {
   "cell_type": "markdown",
   "id": "7462e8e0-b132-42df-8607-ee6d9f3798ed",
   "metadata": {},
   "source": [
    "38. Find the maximum value in a set."
   ]
  },
  {
   "cell_type": "code",
   "execution_count": 659,
   "id": "6cf272b7-ec4d-415a-84c8-807c8bd0fa17",
   "metadata": {},
   "outputs": [
    {
     "data": {
      "text/plain": [
       "{1, 2, 3, 4, 5, 6, 7, 9, 10}"
      ]
     },
     "execution_count": 659,
     "metadata": {},
     "output_type": "execute_result"
    }
   ],
   "source": [
    "set3"
   ]
  },
  {
   "cell_type": "code",
   "execution_count": 660,
   "id": "a122c35a-8dde-413a-8d7a-5a1bcdba12ae",
   "metadata": {},
   "outputs": [],
   "source": [
    "max_val = -999999999999"
   ]
  },
  {
   "cell_type": "code",
   "execution_count": 661,
   "id": "a314b83b-5bb3-46c8-b90e-a52f0327cba2",
   "metadata": {},
   "outputs": [],
   "source": [
    "for i in set3:\n",
    "    if i>max_val:\n",
    "        max_val = i"
   ]
  },
  {
   "cell_type": "code",
   "execution_count": 662,
   "id": "f2fa8e84-1d9a-438e-ad16-f24e47c9cb71",
   "metadata": {},
   "outputs": [
    {
     "name": "stdout",
     "output_type": "stream",
     "text": [
      "The maximum value in the set: 10\n"
     ]
    }
   ],
   "source": [
    "print('The maximum value in the set:', max_val)"
   ]
  },
  {
   "cell_type": "markdown",
   "id": "bcb05412-ed6c-416f-a642-5cfe547e9672",
   "metadata": {},
   "source": [
    "39. Find the minimum value in a set."
   ]
  },
  {
   "cell_type": "code",
   "execution_count": 663,
   "id": "ad5f833c-73a6-467b-b219-1c315d0afdf0",
   "metadata": {},
   "outputs": [
    {
     "data": {
      "text/plain": [
       "{1, 2, 3, 4, 5, 6, 7, 9, 10}"
      ]
     },
     "execution_count": 663,
     "metadata": {},
     "output_type": "execute_result"
    }
   ],
   "source": [
    "set3"
   ]
  },
  {
   "cell_type": "code",
   "execution_count": 664,
   "id": "7de0faec-a071-4aa6-af47-40f95a805eef",
   "metadata": {},
   "outputs": [],
   "source": [
    "min_val = 9999999999999999"
   ]
  },
  {
   "cell_type": "code",
   "execution_count": 665,
   "id": "b675584c-d504-4126-9129-3ffb1e8caaab",
   "metadata": {},
   "outputs": [],
   "source": [
    "for i in set3:\n",
    "    if i < min_val:\n",
    "        min_val = i"
   ]
  },
  {
   "cell_type": "code",
   "execution_count": 666,
   "id": "3e65873d-2bf3-4a1d-adc5-99e4a99eacb1",
   "metadata": {},
   "outputs": [
    {
     "name": "stdout",
     "output_type": "stream",
     "text": [
      "The minimum value in the set: 1\n"
     ]
    }
   ],
   "source": [
    "print('The minimum value in the set:', min_val)"
   ]
  },
  {
   "cell_type": "markdown",
   "id": "2b4520de-92b0-4c91-bde0-3d46e3eb6934",
   "metadata": {},
   "source": [
    "40. Create a set from user input."
   ]
  },
  {
   "cell_type": "code",
   "execution_count": 667,
   "id": "e012fbf3-713b-4e4a-ad7b-74aa721c166a",
   "metadata": {},
   "outputs": [],
   "source": [
    "set6 = set()"
   ]
  },
  {
   "cell_type": "code",
   "execution_count": 668,
   "id": "27108c33-1f85-4eff-9878-1ec0acffbf81",
   "metadata": {},
   "outputs": [
    {
     "name": "stdin",
     "output_type": "stream",
     "text": [
      "Enter the length of the set:  5\n"
     ]
    }
   ],
   "source": [
    "length = int(input('Enter the length of the set: '))"
   ]
  },
  {
   "cell_type": "code",
   "execution_count": 670,
   "id": "453af68f-bdc4-42ec-9425-a7da7b12af64",
   "metadata": {},
   "outputs": [
    {
     "name": "stdin",
     "output_type": "stream",
     "text": [
      "Enter the value: 54\n",
      "Enter the value: hy\n",
      "Enter the value: dsagfsadg\n",
      "Enter the value: th\n",
      "Enter the value: 46\n"
     ]
    }
   ],
   "source": [
    "for i in range(length):\n",
    "    set6.add(input('Enter the value:'))"
   ]
  },
  {
   "cell_type": "code",
   "execution_count": 671,
   "id": "e95250da-eb0f-4328-b44a-03aba7b8c42e",
   "metadata": {},
   "outputs": [
    {
     "name": "stdout",
     "output_type": "stream",
     "text": [
      "The required set is  {'dsagfsadg', 'hy', 'th', '54', '46'}\n"
     ]
    }
   ],
   "source": [
    "print('The required set is ', set6)"
   ]
  },
  {
   "cell_type": "markdown",
   "id": "38d0755f-4f13-4e96-94fe-68616f0a2f2c",
   "metadata": {},
   "source": [
    "41. Check if the intersection of two sets is empty."
   ]
  },
  {
   "cell_type": "code",
   "execution_count": 672,
   "id": "c1842a66-0b89-4c37-bf01-706650b1ff02",
   "metadata": {},
   "outputs": [
    {
     "data": {
      "text/plain": [
       "{2, 10, 14, 18}"
      ]
     },
     "execution_count": 672,
     "metadata": {},
     "output_type": "execute_result"
    }
   ],
   "source": [
    "set1"
   ]
  },
  {
   "cell_type": "code",
   "execution_count": 673,
   "id": "ce756ca3-459e-4521-86b3-6c96af39d7ae",
   "metadata": {},
   "outputs": [
    {
     "data": {
      "text/plain": [
       "{1, 3, 5, 7, 9}"
      ]
     },
     "execution_count": 673,
     "metadata": {},
     "output_type": "execute_result"
    }
   ],
   "source": [
    "set2"
   ]
  },
  {
   "cell_type": "code",
   "execution_count": 674,
   "id": "b47cd9cc-996a-45eb-bc6c-f6edecc3c481",
   "metadata": {},
   "outputs": [],
   "source": [
    "empty_inter = set1.intersection(set2)"
   ]
  },
  {
   "cell_type": "code",
   "execution_count": 676,
   "id": "5574c934-979a-4cbb-af0f-7280c82a084a",
   "metadata": {},
   "outputs": [
    {
     "name": "stdout",
     "output_type": "stream",
     "text": [
      "The intersection between the two sets is empty.\n"
     ]
    }
   ],
   "source": [
    "if len(empty_inter)==0:\n",
    "    print('The intersection between the two sets is empty.')\n",
    "else:\n",
    "    print('The intersection between the two sets is not empty.')"
   ]
  },
  {
   "cell_type": "markdown",
   "id": "8ffba179-5761-4d2c-913e-e7a519e81add",
   "metadata": {},
   "source": [
    "42. Create a set of the first 5 Fibonacci numbers."
   ]
  },
  {
   "cell_type": "code",
   "execution_count": 680,
   "id": "9766286c-132b-4315-9923-52eb9fbcd129",
   "metadata": {},
   "outputs": [],
   "source": [
    "fib_set = set()"
   ]
  },
  {
   "cell_type": "code",
   "execution_count": 681,
   "id": "a31977b9-02e2-46bf-a7a1-1adcadbf0d80",
   "metadata": {},
   "outputs": [],
   "source": [
    "n = 5"
   ]
  },
  {
   "cell_type": "code",
   "execution_count": 682,
   "id": "b3adc216-aad9-4bde-b5bc-9578f18aace2",
   "metadata": {},
   "outputs": [],
   "source": [
    "a, b = 0, 1"
   ]
  },
  {
   "cell_type": "code",
   "execution_count": 683,
   "id": "81bad95b-638b-4baf-8a20-56d580eef24e",
   "metadata": {},
   "outputs": [],
   "source": [
    "fib_set.add(a)\n",
    "fib_set.add(b)"
   ]
  },
  {
   "cell_type": "code",
   "execution_count": 684,
   "id": "9bbf0eca-51df-4f14-9f02-862804295bfd",
   "metadata": {},
   "outputs": [
    {
     "data": {
      "text/plain": [
       "{0, 1}"
      ]
     },
     "execution_count": 684,
     "metadata": {},
     "output_type": "execute_result"
    }
   ],
   "source": [
    "fib_set"
   ]
  },
  {
   "cell_type": "code",
   "execution_count": 685,
   "id": "7166000d-722b-4f09-a15c-2ed9771c04f6",
   "metadata": {},
   "outputs": [],
   "source": [
    "while len(fib_set)<n:\n",
    "    next_fib = a+b\n",
    "    fib_set.add(next_fib)\n",
    "    a, b = b, next_fib"
   ]
  },
  {
   "cell_type": "code",
   "execution_count": 686,
   "id": "9a8341a6-0c8f-4cd4-809d-359d10d7c8fe",
   "metadata": {},
   "outputs": [
    {
     "name": "stdout",
     "output_type": "stream",
     "text": [
      "The required set is  {0, 1, 2, 3, 5}\n"
     ]
    }
   ],
   "source": [
    "print('The required set is ', fib_set)"
   ]
  },
  {
   "cell_type": "markdown",
   "id": "14394536-ffce-4795-9ed8-3b3e3cdd7886",
   "metadata": {},
   "source": [
    "43. Remove duplicates from a list using sets."
   ]
  },
  {
   "cell_type": "code",
   "execution_count": 688,
   "id": "d0424045-29a9-4cc8-9752-b1bd8cfbf08e",
   "metadata": {},
   "outputs": [],
   "source": [
    "l28 = [1, 2, 4, 1, 5, 7, 3, 2, 4, 8, 0, 5, 7, 0]"
   ]
  },
  {
   "cell_type": "code",
   "execution_count": 689,
   "id": "ee21a6af-39d5-4fb0-8996-88c7afc3c121",
   "metadata": {},
   "outputs": [],
   "source": [
    "rmv_dup = set(l28)"
   ]
  },
  {
   "cell_type": "code",
   "execution_count": 690,
   "id": "9be4f91b-ecd8-4b86-83df-27d092afc698",
   "metadata": {},
   "outputs": [],
   "source": [
    "l28 = list(rmv_dup)"
   ]
  },
  {
   "cell_type": "code",
   "execution_count": 691,
   "id": "94b081b1-1b81-49cb-908f-0fce862dbc69",
   "metadata": {},
   "outputs": [
    {
     "name": "stdout",
     "output_type": "stream",
     "text": [
      "The list after removing duplicates using set is [0, 1, 2, 3, 4, 5, 7, 8]\n"
     ]
    }
   ],
   "source": [
    "print('The list after removing duplicates using set is', l28)"
   ]
  },
  {
   "cell_type": "markdown",
   "id": "e195c3b0-8f0f-43ee-96a6-bb5d4be80f2d",
   "metadata": {},
   "source": [
    "44. Check if two sets have the same elements, regardless of their count."
   ]
  },
  {
   "cell_type": "code",
   "execution_count": 699,
   "id": "27e67b24-be4f-402a-9723-e489729b2f60",
   "metadata": {},
   "outputs": [],
   "source": [
    "set7 = {1, 2, 3, 4, 5, 4, 3, 2, 1}"
   ]
  },
  {
   "cell_type": "code",
   "execution_count": 700,
   "id": "b7ee95f7-ccb2-4ea2-aedf-4f4eee6b32a9",
   "metadata": {},
   "outputs": [],
   "source": [
    "set8 = {5, 3, 1, 2, 4}"
   ]
  },
  {
   "cell_type": "code",
   "execution_count": 702,
   "id": "c1450166-d8e2-4b33-9992-8f67cb04bd2a",
   "metadata": {},
   "outputs": [
    {
     "name": "stdout",
     "output_type": "stream",
     "text": [
      "The two sets have the same elements.\n"
     ]
    }
   ],
   "source": [
    "if set7==set8:\n",
    "    print('The two sets have the same elements.')\n",
    "else:\n",
    "    print('The two sets have different elements.')"
   ]
  },
  {
   "cell_type": "markdown",
   "id": "6b9f6155-39b9-4a15-b2ad-6b1abc03cc97",
   "metadata": {},
   "source": [
    "45. Create a set of the first `n` powers of 2."
   ]
  },
  {
   "cell_type": "code",
   "execution_count": 720,
   "id": "5b6c1fb4-92d8-4307-8a97-6e590a9abffc",
   "metadata": {},
   "outputs": [],
   "source": [
    "pow_of_two = set()"
   ]
  },
  {
   "cell_type": "code",
   "execution_count": 721,
   "id": "fd4ee385-05bd-4a9f-a1d4-9a744443d660",
   "metadata": {},
   "outputs": [
    {
     "name": "stdin",
     "output_type": "stream",
     "text": [
      "Enter the length of the set: 5\n"
     ]
    }
   ],
   "source": [
    "n = int(input('Enter the length of the set:'))"
   ]
  },
  {
   "cell_type": "code",
   "execution_count": 722,
   "id": "674e0cfe-e2db-41b6-9031-6d71a8da4cfe",
   "metadata": {},
   "outputs": [],
   "source": [
    "for i in range(1, n+1):\n",
    "    pow_of_two.add(2**i)"
   ]
  },
  {
   "cell_type": "code",
   "execution_count": 724,
   "id": "af5b8401-8817-4b89-90f4-22e719688589",
   "metadata": {},
   "outputs": [
    {
     "data": {
      "text/plain": [
       "{2, 4, 8, 16, 32}"
      ]
     },
     "execution_count": 724,
     "metadata": {},
     "output_type": "execute_result"
    }
   ],
   "source": [
    "pow_of_two"
   ]
  },
  {
   "cell_type": "markdown",
   "id": "b5146ffd-6f59-430f-88d0-0f9422c1570f",
   "metadata": {},
   "source": [
    "46. Find the common elements between a set and a list."
   ]
  },
  {
   "cell_type": "code",
   "execution_count": 725,
   "id": "997eaefa-815a-4fd9-a40b-20e24d83427e",
   "metadata": {},
   "outputs": [
    {
     "data": {
      "text/plain": [
       "{2, 10, 14, 18}"
      ]
     },
     "execution_count": 725,
     "metadata": {},
     "output_type": "execute_result"
    }
   ],
   "source": [
    "set1"
   ]
  },
  {
   "cell_type": "code",
   "execution_count": 730,
   "id": "8706efaf-bdae-4b40-a36a-671add9effa6",
   "metadata": {},
   "outputs": [],
   "source": [
    "temp_list = list(set1)"
   ]
  },
  {
   "cell_type": "code",
   "execution_count": 731,
   "id": "2b7c8ab7-ecab-49bc-91e3-8d731acd9023",
   "metadata": {},
   "outputs": [
    {
     "data": {
      "text/plain": [
       "[2, 4, 6, 8, 10, 12, 14, 16, 18, 20]"
      ]
     },
     "execution_count": 731,
     "metadata": {},
     "output_type": "execute_result"
    }
   ],
   "source": [
    "l3"
   ]
  },
  {
   "cell_type": "code",
   "execution_count": 732,
   "id": "72aad532-f14f-4ba3-b786-07eea041962a",
   "metadata": {},
   "outputs": [],
   "source": [
    "cmn_elements = []"
   ]
  },
  {
   "cell_type": "code",
   "execution_count": 734,
   "id": "5be4b904-2204-4a58-889c-f0d190654e30",
   "metadata": {},
   "outputs": [],
   "source": [
    "for i in temp_list:\n",
    "    for j in l3:\n",
    "        if i == j:\n",
    "            cmn_elements.append(i)"
   ]
  },
  {
   "cell_type": "code",
   "execution_count": 736,
   "id": "1706c446-aec9-4bd2-87d9-cdcbc627768d",
   "metadata": {},
   "outputs": [],
   "source": [
    "cmn_elements = set(cmn_elements)"
   ]
  },
  {
   "cell_type": "code",
   "execution_count": 737,
   "id": "fc079720-30a4-4c68-a385-84d6c756f775",
   "metadata": {
    "tags": []
   },
   "outputs": [
    {
     "name": "stdout",
     "output_type": "stream",
     "text": [
      "The common elements between the set and the list are {18, 2, 10, 14}\n"
     ]
    }
   ],
   "source": [
    "print('The common elements between the set and the list are', cmn_elements)"
   ]
  },
  {
   "cell_type": "markdown",
   "id": "3da0e3b0-5b3e-4e98-b663-fb60f3eb2324",
   "metadata": {},
   "source": [
    "47. Create a set of the first `n` triangular numbers."
   ]
  },
  {
   "cell_type": "code",
   "execution_count": 749,
   "id": "0beed567-c818-425f-8f1c-d060f41698c6",
   "metadata": {},
   "outputs": [],
   "source": [
    "tri_set = set()"
   ]
  },
  {
   "cell_type": "code",
   "execution_count": 750,
   "id": "017a28ca-4fa2-443e-b39b-a6c594e4c10f",
   "metadata": {},
   "outputs": [
    {
     "name": "stdin",
     "output_type": "stream",
     "text": [
      "Enter the length till which the triangular numbers are required: 10\n"
     ]
    }
   ],
   "source": [
    "n = int(input('Enter the length till which the triangular numbers are required:'))"
   ]
  },
  {
   "cell_type": "code",
   "execution_count": 751,
   "id": "2215c9cd-2673-464c-b43d-77f66658652a",
   "metadata": {},
   "outputs": [],
   "source": [
    "for i in range(1, n+1):\n",
    "    next_num = (i*(i+1))/2\n",
    "    tri_set.add(int(next_num))"
   ]
  },
  {
   "cell_type": "code",
   "execution_count": 752,
   "id": "360e3a3e-5b34-409b-bc52-30f8b4c62c5c",
   "metadata": {},
   "outputs": [
    {
     "data": {
      "text/plain": [
       "{1, 3, 6, 10, 15, 21, 28, 36, 45, 55}"
      ]
     },
     "execution_count": 752,
     "metadata": {},
     "output_type": "execute_result"
    }
   ],
   "source": [
    "tri_set"
   ]
  },
  {
   "cell_type": "markdown",
   "id": "dbfca9cc-0cb3-4fe9-acf6-a7a9c99427ca",
   "metadata": {},
   "source": [
    "48. Check if a set contains another set as a subset."
   ]
  },
  {
   "cell_type": "code",
   "execution_count": 753,
   "id": "e587d1f4-a5e3-40ea-9966-bce0654a692c",
   "metadata": {},
   "outputs": [
    {
     "data": {
      "text/plain": [
       "{2, 10, 14, 18}"
      ]
     },
     "execution_count": 753,
     "metadata": {},
     "output_type": "execute_result"
    }
   ],
   "source": [
    "set1"
   ]
  },
  {
   "cell_type": "code",
   "execution_count": 754,
   "id": "e443ae4f-e6f2-4777-899d-7a64ab76853d",
   "metadata": {},
   "outputs": [],
   "source": [
    "set9 = {2, 4, 6, 8, 10, 12, 14, 16, 18, 20}"
   ]
  },
  {
   "cell_type": "code",
   "execution_count": 755,
   "id": "d32647f6-028f-46de-92ad-ba811bed210b",
   "metadata": {},
   "outputs": [],
   "source": [
    "sub_set = set1.issubset(set9)"
   ]
  },
  {
   "cell_type": "code",
   "execution_count": 756,
   "id": "5cca8df8-69f2-4ac5-ac9b-f5c176605c97",
   "metadata": {},
   "outputs": [
    {
     "name": "stdout",
     "output_type": "stream",
     "text": [
      "set1 is a subset of set9.\n"
     ]
    }
   ],
   "source": [
    "if sub_set:\n",
    "    print('set1 is a subset of set9.')\n",
    "else:\n",
    "    print('set1 is not subset of set9.')"
   ]
  },
  {
   "cell_type": "markdown",
   "id": "d701b458-ae82-40ab-a16b-2843f91ce323",
   "metadata": {},
   "source": [
    "49. Create a set of alternating 1s and 0s of length `n`."
   ]
  },
  {
   "cell_type": "code",
   "execution_count": 757,
   "id": "6750c78e-8c38-470a-b3db-40c53b678381",
   "metadata": {},
   "outputs": [],
   "source": [
    "alter_set = set()"
   ]
  },
  {
   "cell_type": "code",
   "execution_count": 758,
   "id": "cb7418eb-8668-488b-87e8-cc1a9b741c69",
   "metadata": {},
   "outputs": [
    {
     "name": "stdin",
     "output_type": "stream",
     "text": [
      "Enter the length of the set: 7\n"
     ]
    }
   ],
   "source": [
    "n = int(input('Enter the length of the set:'))"
   ]
  },
  {
   "cell_type": "code",
   "execution_count": 759,
   "id": "e747d2a8-a696-4fd4-bec0-4d8be63ef96a",
   "metadata": {},
   "outputs": [],
   "source": [
    "for i in range(n):\n",
    "    if i%2!=0:\n",
    "        alter_set.add(0)\n",
    "    else:\n",
    "        alter_set.add(1)"
   ]
  },
  {
   "cell_type": "code",
   "execution_count": 760,
   "id": "6d61ac9d-f7bf-48bc-af12-78cce1393029",
   "metadata": {},
   "outputs": [
    {
     "data": {
      "text/plain": [
       "{0, 1}"
      ]
     },
     "execution_count": 760,
     "metadata": {},
     "output_type": "execute_result"
    }
   ],
   "source": [
    "alter_set"
   ]
  },
  {
   "cell_type": "markdown",
   "id": "9e8e1e9e-4f03-400b-971f-b19e7f2ce5d4",
   "metadata": {},
   "source": [
    "50. Merge multiple sets into one."
   ]
  },
  {
   "cell_type": "code",
   "execution_count": 761,
   "id": "c9044889-46eb-457f-94f8-ad3c5be43bdf",
   "metadata": {},
   "outputs": [
    {
     "data": {
      "text/plain": [
       "{2, 10, 14, 18}"
      ]
     },
     "execution_count": 761,
     "metadata": {},
     "output_type": "execute_result"
    }
   ],
   "source": [
    "set1"
   ]
  },
  {
   "cell_type": "code",
   "execution_count": 762,
   "id": "b65ca452-a5e4-4623-acee-0d3e2279b75f",
   "metadata": {},
   "outputs": [
    {
     "data": {
      "text/plain": [
       "{1, 3, 5, 7, 9}"
      ]
     },
     "execution_count": 762,
     "metadata": {},
     "output_type": "execute_result"
    }
   ],
   "source": [
    "set2"
   ]
  },
  {
   "cell_type": "code",
   "execution_count": 763,
   "id": "bbf55c88-f628-4ef9-b1ce-39acfc4f05d8",
   "metadata": {},
   "outputs": [],
   "source": [
    "merge_set = set1.union(set2)"
   ]
  },
  {
   "cell_type": "code",
   "execution_count": 764,
   "id": "b6a15fdd-63cc-4193-9547-62effd0bd0fc",
   "metadata": {},
   "outputs": [
    {
     "data": {
      "text/plain": [
       "{1, 2, 3, 5, 7, 9, 10, 14, 18}"
      ]
     },
     "execution_count": 764,
     "metadata": {},
     "output_type": "execute_result"
    }
   ],
   "source": [
    "merge_set"
   ]
  },
  {
   "cell_type": "code",
   "execution_count": null,
   "id": "0f8f074d-ca5e-464c-a6b2-b10a8be27165",
   "metadata": {},
   "outputs": [],
   "source": []
  }
 ],
 "metadata": {
  "kernelspec": {
   "display_name": "Python 3 (ipykernel)",
   "language": "python",
   "name": "python3"
  },
  "language_info": {
   "codemirror_mode": {
    "name": "ipython",
    "version": 3
   },
   "file_extension": ".py",
   "mimetype": "text/x-python",
   "name": "python",
   "nbconvert_exporter": "python",
   "pygments_lexer": "ipython3",
   "version": "3.10.8"
  }
 },
 "nbformat": 4,
 "nbformat_minor": 5
}
