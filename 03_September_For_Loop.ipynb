{
  "nbformat": 4,
  "nbformat_minor": 0,
  "metadata": {
    "colab": {
      "provenance": []
    },
    "kernelspec": {
      "name": "python3",
      "display_name": "Python 3"
    },
    "language_info": {
      "name": "python"
    }
  },
  "cells": [
    {
      "cell_type": "markdown",
      "source": [
        "# *For Loop*\n",
        "\n",
        "\n",
        "### Basic Level"
      ],
      "metadata": {
        "id": "6ljgZj_flMGs"
      }
    },
    {
      "cell_type": "markdown",
      "source": [
        "1. Write a Python program to print the numbers from 1 to 10 using a `for` loop."
      ],
      "metadata": {
        "id": "VGXzg2f1luA-"
      }
    },
    {
      "cell_type": "code",
      "source": [
        "for i in range(1,11):\n",
        "  print(i, end = ' ')"
      ],
      "metadata": {
        "colab": {
          "base_uri": "https://localhost:8080/"
        },
        "id": "jzhioNaslmxr",
        "outputId": "9a1f40f2-39c8-4ada-e6f6-54d594b0b133"
      },
      "execution_count": null,
      "outputs": [
        {
          "output_type": "stream",
          "name": "stdout",
          "text": [
            "1 2 3 4 5 6 7 8 9 10 "
          ]
        }
      ]
    },
    {
      "cell_type": "markdown",
      "source": [
        "2. Create a program that calculates the sum of all numbers in a list using a `for` loop."
      ],
      "metadata": {
        "id": "PwRh3NlLmRMJ"
      }
    },
    {
      "cell_type": "code",
      "source": [
        "list1 = [1, 2, 3, 4, 5, 6, 7]"
      ],
      "metadata": {
        "id": "1P38AKAJjU88"
      },
      "execution_count": null,
      "outputs": []
    },
    {
      "cell_type": "code",
      "source": [
        "sum_of_list = 0\n",
        "\n",
        "for i in list1:\n",
        "  sum_of_list += i\n",
        "print(sum_of_list)"
      ],
      "metadata": {
        "colab": {
          "base_uri": "https://localhost:8080/"
        },
        "id": "jaQc_tz1m9UO",
        "outputId": "7aa46a93-31e0-440d-8d69-27c3d014d9f5"
      },
      "execution_count": null,
      "outputs": [
        {
          "output_type": "stream",
          "name": "stdout",
          "text": [
            "28\n"
          ]
        }
      ]
    },
    {
      "cell_type": "markdown",
      "source": [
        "3. Write a program to print the characters of a string in reverse order using a `for` loop."
      ],
      "metadata": {
        "id": "5SCMZNFIn9vC"
      }
    },
    {
      "cell_type": "code",
      "source": [
        "str1 = 'Hello'"
      ],
      "metadata": {
        "id": "ujFWBoiin4uo"
      },
      "execution_count": null,
      "outputs": []
    },
    {
      "cell_type": "code",
      "source": [
        "for i in str1[::-1]:\n",
        "  print(i, end = '')"
      ],
      "metadata": {
        "colab": {
          "base_uri": "https://localhost:8080/"
        },
        "id": "URO1CCJ5odrm",
        "outputId": "14f322ce-78df-4cba-c41a-f4d77d3beb1e"
      },
      "execution_count": null,
      "outputs": [
        {
          "output_type": "stream",
          "name": "stdout",
          "text": [
            "olleH"
          ]
        }
      ]
    },
    {
      "cell_type": "markdown",
      "source": [
        "4. Develop a program that finds the factorial of a given number using a `for` loop."
      ],
      "metadata": {
        "id": "nsHOgK0RoiHI"
      }
    },
    {
      "cell_type": "code",
      "source": [
        "num = int(input('Enter a number: '))"
      ],
      "metadata": {
        "colab": {
          "base_uri": "https://localhost:8080/"
        },
        "id": "u_lydByqogaa",
        "outputId": "0b51fee3-dcaf-40c8-8ba3-da59b35a84f1"
      },
      "execution_count": null,
      "outputs": [
        {
          "name": "stdout",
          "output_type": "stream",
          "text": [
            "Enter a number: 4\n"
          ]
        }
      ]
    },
    {
      "cell_type": "code",
      "source": [
        "for i in range(1, num):\n",
        "  num *= i\n",
        "print(num)"
      ],
      "metadata": {
        "colab": {
          "base_uri": "https://localhost:8080/"
        },
        "id": "NDtexPV-o1p0",
        "outputId": "0266351c-8c51-4271-8be9-29270607b495"
      },
      "execution_count": null,
      "outputs": [
        {
          "output_type": "stream",
          "name": "stdout",
          "text": [
            "24\n"
          ]
        }
      ]
    },
    {
      "cell_type": "markdown",
      "source": [
        "5. Create a program to print the multiplication table of a given number using a `for` loop."
      ],
      "metadata": {
        "id": "H2xz45lipHj0"
      }
    },
    {
      "cell_type": "code",
      "source": [
        "num = int(input('Enter a number: '))"
      ],
      "metadata": {
        "colab": {
          "base_uri": "https://localhost:8080/"
        },
        "id": "FyyoaSPXo4oN",
        "outputId": "ff6ca07b-0134-4d65-badc-6b4322c99f36"
      },
      "execution_count": null,
      "outputs": [
        {
          "name": "stdout",
          "output_type": "stream",
          "text": [
            "Enter a number: 9\n"
          ]
        }
      ]
    },
    {
      "cell_type": "code",
      "source": [
        "for i in range(1, 11):\n",
        "  print(f'{num} x {i} = {num * i}')"
      ],
      "metadata": {
        "colab": {
          "base_uri": "https://localhost:8080/"
        },
        "id": "yBj4yEN8pu3F",
        "outputId": "ef3e44b6-efda-4e35-eee6-fdf71d68a4be"
      },
      "execution_count": null,
      "outputs": [
        {
          "output_type": "stream",
          "name": "stdout",
          "text": [
            "9 x 1 = 9\n",
            "9 x 2 = 18\n",
            "9 x 3 = 27\n",
            "9 x 4 = 36\n",
            "9 x 5 = 45\n",
            "9 x 6 = 54\n",
            "9 x 7 = 63\n",
            "9 x 8 = 72\n",
            "9 x 9 = 81\n",
            "9 x 10 = 90\n"
          ]
        }
      ]
    },
    {
      "cell_type": "markdown",
      "source": [
        "6. Write a program that counts the number of even and odd numbers in a list using a `for` loop."
      ],
      "metadata": {
        "id": "SbWaaSf5pz20"
      }
    },
    {
      "cell_type": "code",
      "source": [
        "list2 = [1, 2, 3, 4, 5, 6, 7, 8, 9, 10]"
      ],
      "metadata": {
        "id": "C73tSHjzpyND"
      },
      "execution_count": null,
      "outputs": []
    },
    {
      "cell_type": "code",
      "source": [
        "even = 0\n",
        "odd = 0\n",
        "\n",
        "for i in list2:\n",
        "  if i % 2 == 0:\n",
        "    even += 1\n",
        "  else:\n",
        "    odd += 1"
      ],
      "metadata": {
        "id": "QauYbtM5qGva"
      },
      "execution_count": null,
      "outputs": []
    },
    {
      "cell_type": "code",
      "source": [
        "print(f'Even numbers: {even}')\n",
        "print(f'Odd numbers: {odd}')"
      ],
      "metadata": {
        "colab": {
          "base_uri": "https://localhost:8080/"
        },
        "id": "vpxymdCCp9WS",
        "outputId": "ef61b326-ad79-4b30-91f1-50e871737208"
      },
      "execution_count": null,
      "outputs": [
        {
          "output_type": "stream",
          "name": "stdout",
          "text": [
            "Even numbers: 5\n",
            "Odd numbers: 5\n"
          ]
        }
      ]
    },
    {
      "cell_type": "markdown",
      "source": [
        "7. Develop a program that prints the squares of numbers from 1 to 5 using a `for` loop."
      ],
      "metadata": {
        "id": "nibeMjd9qRkn"
      }
    },
    {
      "cell_type": "code",
      "source": [
        "for i in range(1, 6):\n",
        "  print(i ** 2, end = ' ')"
      ],
      "metadata": {
        "colab": {
          "base_uri": "https://localhost:8080/"
        },
        "id": "BKVI6QKWp_5U",
        "outputId": "35ea2a93-0466-4d7a-be1b-e458632effe8"
      },
      "execution_count": null,
      "outputs": [
        {
          "output_type": "stream",
          "name": "stdout",
          "text": [
            "1 4 9 16 25 "
          ]
        }
      ]
    },
    {
      "cell_type": "markdown",
      "source": [
        "8. Create a program to find the length of a string without using the `len()` function."
      ],
      "metadata": {
        "id": "8Z6X3RdDqkVb"
      }
    },
    {
      "cell_type": "code",
      "source": [
        "str2 = 'Hello World'"
      ],
      "metadata": {
        "id": "VFWa4VaVqgOv"
      },
      "execution_count": null,
      "outputs": []
    },
    {
      "cell_type": "code",
      "source": [
        "length = 0"
      ],
      "metadata": {
        "id": "2m0g_EOirAXT"
      },
      "execution_count": null,
      "outputs": []
    },
    {
      "cell_type": "code",
      "source": [
        "for i in str2:\n",
        "  length += 1\n",
        "print(length)"
      ],
      "metadata": {
        "colab": {
          "base_uri": "https://localhost:8080/"
        },
        "id": "5IcNFYnSqylF",
        "outputId": "a70014e5-ee02-4bc3-dde6-98b6a0854636"
      },
      "execution_count": null,
      "outputs": [
        {
          "output_type": "stream",
          "name": "stdout",
          "text": [
            "11\n"
          ]
        }
      ]
    },
    {
      "cell_type": "markdown",
      "source": [
        "9. Write a program that calculates the average of a list of numbers using a `for` loop."
      ],
      "metadata": {
        "id": "VMxXox8frDGS"
      }
    },
    {
      "cell_type": "code",
      "source": [
        "list3 = [1, 2, 3, 4, 5, 6, 7, 8, 9, 10]"
      ],
      "metadata": {
        "id": "_c19YU9zq2eq"
      },
      "execution_count": null,
      "outputs": []
    },
    {
      "cell_type": "code",
      "source": [
        "for i in list3:\n",
        "  avg = sum(list3) / len(list3)\n",
        "print(avg)"
      ],
      "metadata": {
        "colab": {
          "base_uri": "https://localhost:8080/"
        },
        "id": "5iLzYP0ArTyQ",
        "outputId": "17ffb0ad-7731-47db-bde5-4bbeec811d85"
      },
      "execution_count": null,
      "outputs": [
        {
          "output_type": "stream",
          "name": "stdout",
          "text": [
            "5.5\n"
          ]
        }
      ]
    },
    {
      "cell_type": "markdown",
      "source": [
        "10. Develop a program that prints the first `n` Fibonacci numbers using a `for` loop."
      ],
      "metadata": {
        "id": "IGyaQx9lrZ_-"
      }
    },
    {
      "cell_type": "code",
      "source": [
        "num = int(input('Enter a number: '))"
      ],
      "metadata": {
        "colab": {
          "base_uri": "https://localhost:8080/"
        },
        "id": "_2S1rod5rWtK",
        "outputId": "08b2a709-2c69-41ba-8fe3-25d7a2e0d873"
      },
      "execution_count": null,
      "outputs": [
        {
          "name": "stdout",
          "output_type": "stream",
          "text": [
            "Enter a number: 7\n"
          ]
        }
      ]
    },
    {
      "cell_type": "code",
      "source": [
        "a = 0\n",
        "b = 1\n",
        "if num <= 0:\n",
        "  print(\"Please enter a positive integer\")\n",
        "elif num == 1:\n",
        "  print(a)\n",
        "else:\n",
        "  print(a, end = ' ')\n",
        "  print(b, end = ' ')\n",
        "  for i in range(2, num):\n",
        "    c = a + b\n",
        "    print(c, end = ' ')\n",
        "    a = b\n",
        "    b = c"
      ],
      "metadata": {
        "colab": {
          "base_uri": "https://localhost:8080/"
        },
        "id": "JVubXtmsrszt",
        "outputId": "c72c4c4e-e6c7-4c18-9f36-f253fe734a20"
      },
      "execution_count": null,
      "outputs": [
        {
          "output_type": "stream",
          "name": "stdout",
          "text": [
            "0 1 1 2 3 5 8 "
          ]
        }
      ]
    },
    {
      "cell_type": "markdown",
      "source": [
        "### Intermediate Level"
      ],
      "metadata": {
        "id": "SerjFS7ntcqD"
      }
    },
    {
      "cell_type": "markdown",
      "source": [
        "11. Write a program to check if a given list contains any duplicates using a `for` loop."
      ],
      "metadata": {
        "id": "1I3rohOStnJN"
      }
    },
    {
      "cell_type": "code",
      "source": [
        "list4 = [1, 2, 3, 4, 5, 6, 7, 8, 9, 10, 1, 2, 3]"
      ],
      "metadata": {
        "id": "dWPl83jktXdK"
      },
      "execution_count": null,
      "outputs": []
    },
    {
      "cell_type": "code",
      "source": [
        "count = 0"
      ],
      "metadata": {
        "id": "CsrNYUAVoCTO"
      },
      "execution_count": null,
      "outputs": []
    },
    {
      "cell_type": "code",
      "source": [
        "for i in list4:\n",
        "  if list4.count(i) > 1:\n",
        "    count += 1\n",
        "    break"
      ],
      "metadata": {
        "id": "GQEUM69QvS9h"
      },
      "execution_count": null,
      "outputs": []
    },
    {
      "cell_type": "code",
      "source": [
        "if count > 0:\n",
        "  print('List contains duplicates')\n",
        "else:\n",
        "  print('List does not contain duplicates')"
      ],
      "metadata": {
        "colab": {
          "base_uri": "https://localhost:8080/"
        },
        "id": "_k9xIJU6vXLu",
        "outputId": "166a86cc-c92d-4256-9648-38f4c0785ffb"
      },
      "execution_count": null,
      "outputs": [
        {
          "output_type": "stream",
          "name": "stdout",
          "text": [
            "List contains duplicates\n"
          ]
        }
      ]
    },
    {
      "cell_type": "markdown",
      "source": [
        "12. Create a program that prints the prime numbers in a given range using a `for` loop."
      ],
      "metadata": {
        "id": "60_gdF8ioXQv"
      }
    },
    {
      "cell_type": "code",
      "source": [
        "for i in range(1, 101):\n",
        "  if i > 1:\n",
        "    for j in range(2, i):\n",
        "      if i % j == 0:\n",
        "        break\n",
        "    else:\n",
        "      print(i, end = ' ')"
      ],
      "metadata": {
        "colab": {
          "base_uri": "https://localhost:8080/"
        },
        "id": "F7gkkfGRoS2a",
        "outputId": "04ffc7f0-f47b-4f75-d3d9-30bf078c1803"
      },
      "execution_count": null,
      "outputs": [
        {
          "output_type": "stream",
          "name": "stdout",
          "text": [
            "2 3 5 7 11 13 17 19 23 29 31 37 41 43 47 53 59 61 67 71 73 79 83 89 97 "
          ]
        }
      ]
    },
    {
      "cell_type": "markdown",
      "source": [
        "13. Develop a program that counts the number of vowels in a string using a `for` loop."
      ],
      "metadata": {
        "id": "0AokQxSxpJBJ"
      }
    },
    {
      "cell_type": "code",
      "source": [
        "str3 = 'I am Akash Dhar'"
      ],
      "metadata": {
        "id": "aHNpgqQPpGnI"
      },
      "execution_count": null,
      "outputs": []
    },
    {
      "cell_type": "code",
      "source": [
        "vowels = 'aeiouAEIOU'"
      ],
      "metadata": {
        "id": "poNmnWvfGqzr"
      },
      "execution_count": null,
      "outputs": []
    },
    {
      "cell_type": "code",
      "source": [
        "count = 0"
      ],
      "metadata": {
        "id": "_wTSvYkKHYDa"
      },
      "execution_count": null,
      "outputs": []
    },
    {
      "cell_type": "code",
      "source": [
        "for i in str3:\n",
        "  if i in vowels:\n",
        "    count+=1\n",
        "print(count)"
      ],
      "metadata": {
        "colab": {
          "base_uri": "https://localhost:8080/"
        },
        "id": "Z2VD2ZaqHU5m",
        "outputId": "a80b1b15-7394-4d3f-daf8-8ffdd788594b"
      },
      "execution_count": null,
      "outputs": [
        {
          "output_type": "stream",
          "name": "stdout",
          "text": [
            "5\n"
          ]
        }
      ]
    },
    {
      "cell_type": "markdown",
      "source": [
        "14. Write a program to find the maximum element in a 2D list using a nested `for` loop."
      ],
      "metadata": {
        "id": "n94ZpHQ4HhS0"
      }
    },
    {
      "cell_type": "code",
      "source": [
        "matrix = [[1, 2, 3], [4, 5, 6], [7, 8, 9]]"
      ],
      "metadata": {
        "id": "iTcOvbqHHdBY"
      },
      "execution_count": null,
      "outputs": []
    },
    {
      "cell_type": "code",
      "source": [
        "maximum = matrix[0][0]"
      ],
      "metadata": {
        "id": "Cw-erxWeHo_j"
      },
      "execution_count": null,
      "outputs": []
    },
    {
      "cell_type": "code",
      "source": [
        "for row in matrix:\n",
        "  for element in row:\n",
        "    if element > maximum:\n",
        "      maximum = element\n",
        "print('The maximun element in the given 2D list is: ', maximum)"
      ],
      "metadata": {
        "colab": {
          "base_uri": "https://localhost:8080/"
        },
        "id": "SKDirUwDJOKg",
        "outputId": "509ffb90-3cb3-4e57-8c04-0dc2e483b408"
      },
      "execution_count": null,
      "outputs": [
        {
          "output_type": "stream",
          "name": "stdout",
          "text": [
            "The maximun element in the given 2D list is:  9\n"
          ]
        }
      ]
    },
    {
      "cell_type": "markdown",
      "source": [
        "15. Create a program that removes all occurrences of a specific element from a list using a `for` loop."
      ],
      "metadata": {
        "id": "4XPoFS4cJlB1"
      }
    },
    {
      "cell_type": "code",
      "source": [
        "list5 = [1, 2, 1, 3, 4, 5, 6, 1, 7, 8, 9, 10]"
      ],
      "metadata": {
        "id": "LFH17OgoJhhf"
      },
      "execution_count": null,
      "outputs": []
    },
    {
      "cell_type": "code",
      "source": [
        "for i  in list5:\n",
        "  if i==1:\n",
        "    list5.remove(i)\n",
        "print(list5)"
      ],
      "metadata": {
        "colab": {
          "base_uri": "https://localhost:8080/"
        },
        "id": "xFa5HG3QJvYV",
        "outputId": "57e7f09c-3af0-45b4-d6a5-811059028958"
      },
      "execution_count": null,
      "outputs": [
        {
          "output_type": "stream",
          "name": "stdout",
          "text": [
            "[2, 3, 4, 5, 6, 7, 8, 9, 10]\n"
          ]
        }
      ]
    },
    {
      "cell_type": "markdown",
      "source": [
        "16. Develop a program that generates a multiplication table for numbers from 1 to 5 using a nested `for` loop."
      ],
      "metadata": {
        "id": "yOWVInceJ4Sy"
      }
    },
    {
      "cell_type": "code",
      "source": [
        "for i in range(1, 6):\n",
        "  for j in range(1, 11):\n",
        "    print('{} * {} = {}'.format(i, j, i*j))\n",
        "  print()"
      ],
      "metadata": {
        "colab": {
          "base_uri": "https://localhost:8080/"
        },
        "id": "LhtgSVtdJ2gj",
        "outputId": "220512a8-d0ac-4229-a0e3-a6d4aa08936f"
      },
      "execution_count": null,
      "outputs": [
        {
          "output_type": "stream",
          "name": "stdout",
          "text": [
            "1 * 1 = 1\n",
            "1 * 2 = 2\n",
            "1 * 3 = 3\n",
            "1 * 4 = 4\n",
            "1 * 5 = 5\n",
            "1 * 6 = 6\n",
            "1 * 7 = 7\n",
            "1 * 8 = 8\n",
            "1 * 9 = 9\n",
            "1 * 10 = 10\n",
            "\n",
            "2 * 1 = 2\n",
            "2 * 2 = 4\n",
            "2 * 3 = 6\n",
            "2 * 4 = 8\n",
            "2 * 5 = 10\n",
            "2 * 6 = 12\n",
            "2 * 7 = 14\n",
            "2 * 8 = 16\n",
            "2 * 9 = 18\n",
            "2 * 10 = 20\n",
            "\n",
            "3 * 1 = 3\n",
            "3 * 2 = 6\n",
            "3 * 3 = 9\n",
            "3 * 4 = 12\n",
            "3 * 5 = 15\n",
            "3 * 6 = 18\n",
            "3 * 7 = 21\n",
            "3 * 8 = 24\n",
            "3 * 9 = 27\n",
            "3 * 10 = 30\n",
            "\n",
            "4 * 1 = 4\n",
            "4 * 2 = 8\n",
            "4 * 3 = 12\n",
            "4 * 4 = 16\n",
            "4 * 5 = 20\n",
            "4 * 6 = 24\n",
            "4 * 7 = 28\n",
            "4 * 8 = 32\n",
            "4 * 9 = 36\n",
            "4 * 10 = 40\n",
            "\n",
            "5 * 1 = 5\n",
            "5 * 2 = 10\n",
            "5 * 3 = 15\n",
            "5 * 4 = 20\n",
            "5 * 5 = 25\n",
            "5 * 6 = 30\n",
            "5 * 7 = 35\n",
            "5 * 8 = 40\n",
            "5 * 9 = 45\n",
            "5 * 10 = 50\n",
            "\n"
          ]
        }
      ]
    },
    {
      "cell_type": "markdown",
      "source": [
        "17. Write a program that converts a list of Fahrenheit temperatures to Celsius using a `for` loop."
      ],
      "metadata": {
        "id": "wDLZEFJeMZnW"
      }
    },
    {
      "cell_type": "code",
      "source": [
        "farhenheit = [32, 68, 100, 212]"
      ],
      "metadata": {
        "id": "Vy_hQS7sKaYg"
      },
      "execution_count": null,
      "outputs": []
    },
    {
      "cell_type": "code",
      "source": [
        "celsius = []"
      ],
      "metadata": {
        "id": "wX8tYYSkOyVd"
      },
      "execution_count": null,
      "outputs": []
    },
    {
      "cell_type": "code",
      "source": [
        "for temp in farhenheit:\n",
        "  cel = (temp - 32) * 5/9\n",
        "  celsius.append(cel)\n",
        "print(celsius)"
      ],
      "metadata": {
        "colab": {
          "base_uri": "https://localhost:8080/"
        },
        "id": "JmK4_QsbOZA3",
        "outputId": "728b1a6b-a0a3-4d0a-cedb-fca35456f074"
      },
      "execution_count": null,
      "outputs": [
        {
          "output_type": "stream",
          "name": "stdout",
          "text": [
            "[0.0, 20.0, 37.77777777777778, 100.0]\n"
          ]
        }
      ]
    },
    {
      "cell_type": "markdown",
      "source": [
        "18. Create a program to print the common elements from two lists using a `for` loop."
      ],
      "metadata": {
        "id": "Z9SZKYCwPII8"
      }
    },
    {
      "cell_type": "code",
      "source": [
        "list6 = [1, 2, 3, 4, 5]\n",
        "list7 = [3, 4, 5, 6, 7]"
      ],
      "metadata": {
        "id": "qHbM9iiqPCiL"
      },
      "execution_count": null,
      "outputs": []
    },
    {
      "cell_type": "code",
      "source": [
        "for element in list6:\n",
        "  if element in list7:\n",
        "    print(element, end = ' ')"
      ],
      "metadata": {
        "colab": {
          "base_uri": "https://localhost:8080/"
        },
        "id": "N6JaQFW-PRI9",
        "outputId": "01b91393-4817-456e-e22b-c12ff886227d"
      },
      "execution_count": null,
      "outputs": [
        {
          "output_type": "stream",
          "name": "stdout",
          "text": [
            "3 4 5 "
          ]
        }
      ]
    },
    {
      "cell_type": "markdown",
      "source": [
        "19. Develop a program that prints the pattern of right-angled triangles using a `for` loop. Use ‘*’ to draw the\n",
        "pattern"
      ],
      "metadata": {
        "id": "d-3IDeUkPYQl"
      }
    },
    {
      "cell_type": "code",
      "source": [
        "for row in range(1, 6):\n",
        "  for element in range(row):\n",
        "    print('*', end = ' ')\n",
        "  print()"
      ],
      "metadata": {
        "colab": {
          "base_uri": "https://localhost:8080/"
        },
        "id": "Z3sawph9PWi4",
        "outputId": "2da7e9bb-9f19-4282-f367-290c0e4307f8"
      },
      "execution_count": null,
      "outputs": [
        {
          "output_type": "stream",
          "name": "stdout",
          "text": [
            "* \n",
            "* * \n",
            "* * * \n",
            "* * * * \n",
            "* * * * * \n"
          ]
        }
      ]
    },
    {
      "cell_type": "markdown",
      "source": [
        "20. Write a program to find the greatest common divisor (GCD) of two numbers using a `for` loop."
      ],
      "metadata": {
        "id": "La9EqhNQRWJw"
      }
    },
    {
      "cell_type": "code",
      "source": [
        "num1 = int(input('Enter first number: '))\n",
        "num2 = int(input('Enter second number: '))"
      ],
      "metadata": {
        "colab": {
          "base_uri": "https://localhost:8080/"
        },
        "id": "1BT7Q7nIS-87",
        "outputId": "d72a838d-f4e1-4386-a0b9-e8dd7ddc77bf"
      },
      "execution_count": null,
      "outputs": [
        {
          "name": "stdout",
          "output_type": "stream",
          "text": [
            "Enter first number: 72\n",
            "Enter second number: 24\n"
          ]
        }
      ]
    },
    {
      "cell_type": "code",
      "source": [
        "for i in range(1, min(num1, num2) + 1):\n",
        "  if num1 % i == 0 and num2 % i == 0:\n",
        "    gcd = i\n",
        "print(gcd)"
      ],
      "metadata": {
        "colab": {
          "base_uri": "https://localhost:8080/"
        },
        "id": "5oU8yLoOTM_A",
        "outputId": "5bc9bdae-028f-47e3-af91-07b814cc684f"
      },
      "execution_count": null,
      "outputs": [
        {
          "output_type": "stream",
          "name": "stdout",
          "text": [
            "24\n"
          ]
        }
      ]
    },
    {
      "cell_type": "markdown",
      "source": [
        "### Advanced Level:\n",
        "\n",
        "21. Create a program that calculates the sum of the digits of numbers in a list using a list comprehension."
      ],
      "metadata": {
        "id": "3LPL1s6WTjPM"
      }
    },
    {
      "cell_type": "code",
      "source": [
        "list8 = [21, 37, 302, 63]"
      ],
      "metadata": {
        "id": "nTYBV9v1TYwk"
      },
      "execution_count": null,
      "outputs": []
    },
    {
      "cell_type": "code",
      "source": [
        "for i in range(len(list8)):\n",
        "  list8[i] = sum(int(digit) for digit in str(list8[i]))\n",
        "print(list8)"
      ],
      "metadata": {
        "colab": {
          "base_uri": "https://localhost:8080/"
        },
        "id": "wkVfjDRRT4d2",
        "outputId": "dc58060e-8261-4eee-be7a-652b75e8ea52"
      },
      "execution_count": null,
      "outputs": [
        {
          "output_type": "stream",
          "name": "stdout",
          "text": [
            "[3, 10, 5, 9]\n"
          ]
        }
      ]
    },
    {
      "cell_type": "markdown",
      "source": [
        "22. Write a program to find the prime factors of a given number using a `for` loop and list comprehension."
      ],
      "metadata": {
        "id": "O1FopwydUMcT"
      }
    },
    {
      "cell_type": "code",
      "source": [
        "num = int(input('Enter a number: '))"
      ],
      "metadata": {
        "colab": {
          "base_uri": "https://localhost:8080/"
        },
        "id": "AfFh7-pJUJY3",
        "outputId": "1ec69e4f-5382-4e64-bba8-ebd3eff4121c"
      },
      "execution_count": null,
      "outputs": [
        {
          "name": "stdout",
          "output_type": "stream",
          "text": [
            "Enter a number: 69\n"
          ]
        }
      ]
    },
    {
      "cell_type": "code",
      "source": [
        "prime_factors = [i for i in range(2, num+1) if num % i == 0]"
      ],
      "metadata": {
        "id": "73bB5eMxYewK"
      },
      "execution_count": null,
      "outputs": []
    },
    {
      "cell_type": "code",
      "source": [
        "print(prime_factors)"
      ],
      "metadata": {
        "colab": {
          "base_uri": "https://localhost:8080/"
        },
        "id": "n-lqqfnpUSPn",
        "outputId": "e392c4f5-38a7-4a4c-976c-3bbfc2fb7221"
      },
      "execution_count": null,
      "outputs": [
        {
          "output_type": "stream",
          "name": "stdout",
          "text": [
            "[3, 23, 69]\n"
          ]
        }
      ]
    },
    {
      "cell_type": "markdown",
      "source": [
        "23. Develop a program that extracts unique elements from a list and stores them in a new list using a list\n",
        "comprehension."
      ],
      "metadata": {
        "id": "pzSlPpLVZC1H"
      }
    },
    {
      "cell_type": "code",
      "source": [
        "list9 = [1, 2, 2, 3, 4, 4, 5, 6, 6, 7, 8, 8, 9, 10]"
      ],
      "metadata": {
        "id": "AGEVM-KvY3Nd"
      },
      "execution_count": null,
      "outputs": []
    },
    {
      "cell_type": "code",
      "source": [
        "unique_elements = [i for i in list9 if list9.count(i) == 1]"
      ],
      "metadata": {
        "id": "tX_JcrLpZeW8"
      },
      "execution_count": null,
      "outputs": []
    },
    {
      "cell_type": "code",
      "source": [
        "print(unique_elements)"
      ],
      "metadata": {
        "colab": {
          "base_uri": "https://localhost:8080/"
        },
        "id": "onW4d-wHZuiL",
        "outputId": "41c23f7e-669d-4439-c9bd-d306f005ab22"
      },
      "execution_count": null,
      "outputs": [
        {
          "output_type": "stream",
          "name": "stdout",
          "text": [
            "[1, 3, 5, 7, 9, 10]\n"
          ]
        }
      ]
    },
    {
      "cell_type": "markdown",
      "source": [
        "24. Create a program that generates a list of all palindromic numbers up to a specified limit using a list\n",
        "comprehension."
      ],
      "metadata": {
        "id": "uOdyh4cnZ5ih"
      }
    },
    {
      "cell_type": "code",
      "source": [
        "limit = 200"
      ],
      "metadata": {
        "id": "YQ4-i39dZyGU"
      },
      "execution_count": null,
      "outputs": []
    },
    {
      "cell_type": "code",
      "source": [
        "palindrome_list = [i for i  in range(1, limit+1) if str(i) == str(i)[::-1]]"
      ],
      "metadata": {
        "id": "sTy7pmsCaV8k"
      },
      "execution_count": null,
      "outputs": []
    },
    {
      "cell_type": "code",
      "source": [
        "print('List of Palindrome Numbers: ', palindrome_list)"
      ],
      "metadata": {
        "colab": {
          "base_uri": "https://localhost:8080/"
        },
        "id": "Qh_PN0dZbocy",
        "outputId": "00d75b86-604c-46d3-88f2-d745c8102865"
      },
      "execution_count": null,
      "outputs": [
        {
          "output_type": "stream",
          "name": "stdout",
          "text": [
            "List of Palindrome Numbers:  [1, 2, 3, 4, 5, 6, 7, 8, 9, 11, 22, 33, 44, 55, 66, 77, 88, 99, 101, 111, 121, 131, 141, 151, 161, 171, 181, 191]\n"
          ]
        }
      ]
    },
    {
      "cell_type": "markdown",
      "source": [
        "25. Write a program to flatten a nested list using list comprehension."
      ],
      "metadata": {
        "id": "2haKsd7_b7mN"
      }
    },
    {
      "cell_type": "code",
      "source": [
        "list10 = [[1, 2, 3], [4, 5, 6], [7, 8, 9]]"
      ],
      "metadata": {
        "id": "EldFLapIb1Ws"
      },
      "execution_count": null,
      "outputs": []
    },
    {
      "cell_type": "code",
      "source": [
        "flatten_list = [element for sublist in list10 for element in sublist]"
      ],
      "metadata": {
        "id": "aA235vjHkpke"
      },
      "execution_count": null,
      "outputs": []
    },
    {
      "cell_type": "code",
      "source": [
        "print('The flattened list is ', flatten_list)"
      ],
      "metadata": {
        "colab": {
          "base_uri": "https://localhost:8080/"
        },
        "id": "oi9a-U75Sq6A",
        "outputId": "1a6f6810-da33-4e52-b59a-75e7ba804fdf"
      },
      "execution_count": null,
      "outputs": [
        {
          "output_type": "stream",
          "name": "stdout",
          "text": [
            "The flattened list is  [1, 2, 3, 4, 5, 6, 7, 8, 9]\n"
          ]
        }
      ]
    },
    {
      "cell_type": "markdown",
      "source": [
        "26. Develop a program that computes the sum of even and odd numbers in a list separately using list\n",
        "comprehension."
      ],
      "metadata": {
        "id": "RVmjiN4TTTGb"
      }
    },
    {
      "cell_type": "code",
      "source": [
        "list11 = [1, 97, 23, 92, 13, 123, 34, 78, 30, 24]"
      ],
      "metadata": {
        "id": "zAk5fnF6Sw49"
      },
      "execution_count": null,
      "outputs": []
    },
    {
      "cell_type": "code",
      "source": [
        "even_sum = sum(i for i in list11 if i % 2 == 0)"
      ],
      "metadata": {
        "id": "PhK2K_PFTZMm"
      },
      "execution_count": null,
      "outputs": []
    },
    {
      "cell_type": "code",
      "source": [
        "odd_sum = sum(i for i in list11 if i % 2 != 0)"
      ],
      "metadata": {
        "id": "0PUWuTsrURR8"
      },
      "execution_count": null,
      "outputs": []
    },
    {
      "cell_type": "code",
      "source": [
        "print('Sum of even numbers: ', even_sum)\n",
        "print('Sum of odd numbers: ', odd_sum)"
      ],
      "metadata": {
        "colab": {
          "base_uri": "https://localhost:8080/"
        },
        "id": "O_j0w6VKUTbx",
        "outputId": "be1c6ed5-f16b-49cf-97c3-8289f433a828"
      },
      "execution_count": null,
      "outputs": [
        {
          "output_type": "stream",
          "name": "stdout",
          "text": [
            "Sum of even numbers:  258\n",
            "Sum of odd numbers:  257\n"
          ]
        }
      ]
    },
    {
      "cell_type": "markdown",
      "source": [
        "27. Create a program that generates a list of squares of odd numbers between 1 and 10 using list\n",
        "comprehension."
      ],
      "metadata": {
        "id": "VMmReexWVUAb"
      }
    },
    {
      "cell_type": "code",
      "source": [
        "square_odd = [i**2 for i in range(1,11) if i % 2 != 0]"
      ],
      "metadata": {
        "id": "N0Cjqt1BUVh0"
      },
      "execution_count": null,
      "outputs": []
    },
    {
      "cell_type": "code",
      "source": [
        "print('The list is as follows: ', square_odd)"
      ],
      "metadata": {
        "colab": {
          "base_uri": "https://localhost:8080/"
        },
        "id": "nARPZDnIVgNQ",
        "outputId": "2be83a34-202d-4605-a293-2c1f0eb549b4"
      },
      "execution_count": null,
      "outputs": [
        {
          "output_type": "stream",
          "name": "stdout",
          "text": [
            "The list is as follows:  [1, 9, 25, 49, 81]\n"
          ]
        }
      ]
    },
    {
      "cell_type": "markdown",
      "source": [
        "28. Write a program that combines two lists into a dictionary using list comprehension."
      ],
      "metadata": {
        "id": "6hBEzdi4Vrbg"
      }
    },
    {
      "cell_type": "code",
      "source": [
        "list12 = [23, 45, 67, 89, 10]\n",
        "list13 = ['a', 'b', 'c', 'd', 'e']"
      ],
      "metadata": {
        "id": "QHaMZsJoVlry"
      },
      "execution_count": null,
      "outputs": []
    },
    {
      "cell_type": "code",
      "source": [
        "combine_dict = {list13[i]: list12[i] for i in range(len(min(list12, list13, key=len)))}"
      ],
      "metadata": {
        "id": "levgUO-gXdV8"
      },
      "execution_count": null,
      "outputs": []
    },
    {
      "cell_type": "code",
      "source": [
        "print('The combined dictionary is as follows: ', combine_dict)"
      ],
      "metadata": {
        "colab": {
          "base_uri": "https://localhost:8080/"
        },
        "id": "JPk25GCaX81B",
        "outputId": "f616412d-0b9a-4bb2-b272-1dbf5adb44b5"
      },
      "execution_count": null,
      "outputs": [
        {
          "output_type": "stream",
          "name": "stdout",
          "text": [
            "The combined dictionary is as follows:  {'a': 23, 'b': 45, 'c': 67, 'd': 89, 'e': 10}\n"
          ]
        }
      ]
    },
    {
      "cell_type": "markdown",
      "source": [
        "29. Develop a program that extracts the vowels from a string and stores them in a list using list comprehension."
      ],
      "metadata": {
        "id": "8XE_EVHHZulg"
      }
    },
    {
      "cell_type": "code",
      "source": [
        "vowels = 'aeiouAEIOU'"
      ],
      "metadata": {
        "id": "iu0r2tcxYMD0"
      },
      "execution_count": null,
      "outputs": []
    },
    {
      "cell_type": "code",
      "source": [
        "str4 = 'What a wonderfull day it is'"
      ],
      "metadata": {
        "id": "mv2XyVvkf0pv"
      },
      "execution_count": null,
      "outputs": []
    },
    {
      "cell_type": "code",
      "source": [
        "extract_vowels = [i for i in str4 if i in vowels]"
      ],
      "metadata": {
        "id": "MuB53TLTgBng"
      },
      "execution_count": null,
      "outputs": []
    },
    {
      "cell_type": "code",
      "source": [
        "print('The extracted vowels are: ', extract_vowels)"
      ],
      "metadata": {
        "colab": {
          "base_uri": "https://localhost:8080/"
        },
        "id": "Fc3J114bg8hh",
        "outputId": "739d6595-f638-4058-b95b-3c669f99e29a"
      },
      "execution_count": null,
      "outputs": [
        {
          "output_type": "stream",
          "name": "stdout",
          "text": [
            "The extracted vowels are:  ['a', 'a', 'o', 'e', 'u', 'a', 'i', 'i']\n"
          ]
        }
      ]
    },
    {
      "cell_type": "markdown",
      "source": [
        "30. Create a program that removes all non-numeric characters from a list of strings using list comprehension."
      ],
      "metadata": {
        "id": "otO87ZlIhBpM"
      }
    },
    {
      "cell_type": "code",
      "source": [
        "list14 = ['abc123', '456def', '789ghi', 'jkl']\n",
        "numeric_char = '0123456789'"
      ],
      "metadata": {
        "id": "K_czPPQvg_HM"
      },
      "execution_count": null,
      "outputs": []
    },
    {
      "cell_type": "code",
      "source": [
        "num_list = [''.join(i for i in string if i in numeric_char) for string in list14]"
      ],
      "metadata": {
        "id": "WwH93b61hfuO"
      },
      "execution_count": null,
      "outputs": []
    },
    {
      "cell_type": "code",
      "source": [
        "print('The numeric character list is: ', num_list)"
      ],
      "metadata": {
        "colab": {
          "base_uri": "https://localhost:8080/"
        },
        "id": "e5-0YT60iU9Z",
        "outputId": "e3f934bd-fa9f-407d-bb40-97dace7d8da4"
      },
      "execution_count": null,
      "outputs": [
        {
          "output_type": "stream",
          "name": "stdout",
          "text": [
            "The numeric character list is:  ['123', '456', '789', '']\n"
          ]
        }
      ]
    },
    {
      "cell_type": "markdown",
      "source": [
        "### Challenge Level:\n",
        "\n",
        "31. Write a program to generate a list of prime numbers using the Sieve of Eratosthenes algorithm and list\n",
        "comprehension."
      ],
      "metadata": {
        "id": "n-EpVgdkif_0"
      }
    },
    {
      "cell_type": "code",
      "source": [
        "limit = 30"
      ],
      "metadata": {
        "id": "JcOk7muNidNt"
      },
      "execution_count": null,
      "outputs": []
    },
    {
      "cell_type": "code",
      "source": [
        "primes = [True] * (limit +1)"
      ],
      "metadata": {
        "id": "HNZhFHVhnoXU"
      },
      "execution_count": null,
      "outputs": []
    },
    {
      "cell_type": "code",
      "source": [
        "for p in range(2, int(limit**0.5)+1):\n",
        "  if primes[p]:\n",
        "    for i in range(p*p, limit+1, p):\n",
        "      primes[i] = False"
      ],
      "metadata": {
        "id": "S1SrTvzQntYT"
      },
      "execution_count": null,
      "outputs": []
    },
    {
      "cell_type": "code",
      "source": [
        "prime_number = [prime for prime in range(2, limit+1) if primes[prime]]"
      ],
      "metadata": {
        "id": "rFf5qERUoU1T"
      },
      "execution_count": null,
      "outputs": []
    },
    {
      "cell_type": "code",
      "source": [
        "print('The list of prime numbers generated using the Sieve of Eratosthenes algorithm is: ', prime_number)"
      ],
      "metadata": {
        "colab": {
          "base_uri": "https://localhost:8080/"
        },
        "id": "DKh70f6AoyRZ",
        "outputId": "4d84a29f-8f5a-45ac-dee3-249df738fc58"
      },
      "execution_count": null,
      "outputs": [
        {
          "output_type": "stream",
          "name": "stdout",
          "text": [
            "The list of prime numbers generated using the Sieve of Eratosthenes algorithm is:  [2, 3, 5, 7, 11, 13, 17, 19, 23, 29]\n"
          ]
        }
      ]
    },
    {
      "cell_type": "markdown",
      "source": [
        "32. Create a program that generates a list of all Pythagorean triplets up to a specified limit using list\n",
        "comprehension."
      ],
      "metadata": {
        "id": "sdiVlzixq46P"
      }
    },
    {
      "cell_type": "code",
      "source": [
        "limit = int(input('Enter a limit: '))"
      ],
      "metadata": {
        "colab": {
          "base_uri": "https://localhost:8080/"
        },
        "id": "yWbNkQx0q2iL",
        "outputId": "a4d62260-228b-4665-80b8-b7421c5757de"
      },
      "execution_count": null,
      "outputs": [
        {
          "name": "stdout",
          "output_type": "stream",
          "text": [
            "Enter a limit: 30\n"
          ]
        }
      ]
    },
    {
      "cell_type": "code",
      "source": [
        "pythagorean_triplets = [(a, b, c) for a in range(1, limit+1) for b in range(a, limit+1) for c in range(b, limit+1) if a**2 + b**2 == c**2]"
      ],
      "metadata": {
        "id": "qAO3LjB2uzDc"
      },
      "execution_count": null,
      "outputs": []
    },
    {
      "cell_type": "code",
      "source": [
        "print('The generated list is: ', pythagorean_triplets)"
      ],
      "metadata": {
        "colab": {
          "base_uri": "https://localhost:8080/"
        },
        "id": "SPfFRORvvJ-T",
        "outputId": "2a4adbce-87d0-41b6-e178-411d85c1de04"
      },
      "execution_count": null,
      "outputs": [
        {
          "output_type": "stream",
          "name": "stdout",
          "text": [
            "The generated list is:  [(3, 4, 5), (5, 12, 13), (6, 8, 10), (7, 24, 25), (8, 15, 17), (9, 12, 15), (10, 24, 26), (12, 16, 20), (15, 20, 25), (18, 24, 30), (20, 21, 29)]\n"
          ]
        }
      ]
    },
    {
      "cell_type": "markdown",
      "source": [
        "33. Develop a program that generates a list of all possible combinations of two lists using list comprehension."
      ],
      "metadata": {
        "id": "usYUyR3BvYSh"
      }
    },
    {
      "cell_type": "code",
      "source": [
        "list15 = [23, 42, 78, 12]\n",
        "list16 = [1, 2, 3, 4]"
      ],
      "metadata": {
        "id": "m4MRXI6xvR1q"
      },
      "execution_count": null,
      "outputs": []
    },
    {
      "cell_type": "code",
      "source": [
        "possible_combinations = [(i, j) for i in list15 for j in list16]"
      ],
      "metadata": {
        "id": "qkTdBkyqvf6y"
      },
      "execution_count": null,
      "outputs": []
    },
    {
      "cell_type": "code",
      "source": [
        "print('List of all possible combinations of two lists is: ', possible_combinations)"
      ],
      "metadata": {
        "colab": {
          "base_uri": "https://localhost:8080/"
        },
        "id": "t3ddH325vwQz",
        "outputId": "a0d4a694-d1b1-4941-8784-c3d1d9a5c65e"
      },
      "execution_count": null,
      "outputs": [
        {
          "output_type": "stream",
          "name": "stdout",
          "text": [
            "List of all possible combinations of two lists is:  [(23, 1), (23, 2), (23, 3), (23, 4), (42, 1), (42, 2), (42, 3), (42, 4), (78, 1), (78, 2), (78, 3), (78, 4), (12, 1), (12, 2), (12, 3), (12, 4)]\n"
          ]
        }
      ]
    },
    {
      "cell_type": "markdown",
      "source": [
        "34. Write a program that calculates the mean, median, and mode of a list of numbers using list\n",
        "comprehension."
      ],
      "metadata": {
        "id": "baWSKJlmv-ux"
      }
    },
    {
      "cell_type": "code",
      "source": [
        "list17 = [23, 45, 67, 89, 78, 12, 34, 56, 78, 90]"
      ],
      "metadata": {
        "id": "YmnbN0Q3v43d"
      },
      "execution_count": null,
      "outputs": []
    },
    {
      "cell_type": "code",
      "source": [
        "mean = sum([num for num in list17])/len(list17)"
      ],
      "metadata": {
        "id": "6VCxzQPuwG5-"
      },
      "execution_count": null,
      "outputs": []
    },
    {
      "cell_type": "code",
      "source": [
        "sorted_list = sorted([num for num in list17])\n",
        "n = len(sorted_list)"
      ],
      "metadata": {
        "id": "NSfNXzrcDejj"
      },
      "execution_count": null,
      "outputs": []
    },
    {
      "cell_type": "code",
      "source": [
        "median = sorted_list[n//2] if n % 2 == 1 else (sorted_list[n//2 - 1] + sorted_list[n//2]) / 2"
      ],
      "metadata": {
        "id": "KcQZe860Dl7c"
      },
      "execution_count": null,
      "outputs": []
    },
    {
      "cell_type": "code",
      "source": [
        "from statistics import mode\n",
        "\n",
        "mode_value = mode([num for num in list17])"
      ],
      "metadata": {
        "id": "3BPveNWgEeSN"
      },
      "execution_count": null,
      "outputs": []
    },
    {
      "cell_type": "code",
      "source": [
        "print('Mean: ', mean)\n",
        "print('Median: ', median)\n",
        "print('Mode: ', mode_value)"
      ],
      "metadata": {
        "colab": {
          "base_uri": "https://localhost:8080/"
        },
        "id": "zz9k_jBeEqUF",
        "outputId": "ee525892-47a8-4787-e4da-89943375ce06"
      },
      "execution_count": null,
      "outputs": [
        {
          "output_type": "stream",
          "name": "stdout",
          "text": [
            "Mean:  57.2\n",
            "Median:  61.5\n",
            "Mode:  78\n"
          ]
        }
      ]
    },
    {
      "cell_type": "markdown",
      "source": [
        "35. Create a program that generates Pascal's triangle up to a specified number of rows using list\n",
        "comprehension."
      ],
      "metadata": {
        "id": "39oyUe9JE_9m"
      }
    },
    {
      "cell_type": "code",
      "source": [
        "rows = int(input('Enter the number of rows: '))"
      ],
      "metadata": {
        "colab": {
          "base_uri": "https://localhost:8080/"
        },
        "id": "CxA-gp7CEtWk",
        "outputId": "eaec88ed-e27f-40dd-8115-bbdeb95cc60e"
      },
      "execution_count": null,
      "outputs": [
        {
          "name": "stdout",
          "output_type": "stream",
          "text": [
            "Enter the number of rows: 7\n"
          ]
        }
      ]
    },
    {
      "cell_type": "code",
      "source": [
        "triangle = [[1]]"
      ],
      "metadata": {
        "id": "xami8f7pHk9C"
      },
      "execution_count": null,
      "outputs": []
    },
    {
      "cell_type": "code",
      "source": [
        "for i in range(1, rows+1):\n",
        "  row = ([1] + [triangle[i-1][j] + triangle[i-1][j+1] for j in range(i-1)] + [1])\n",
        "  triangle.append(row)\n",
        "\n",
        "  print(' ' * (rows - i), end = ' ')\n",
        "  print(triangle[i-1])"
      ],
      "metadata": {
        "colab": {
          "base_uri": "https://localhost:8080/"
        },
        "id": "IBHKYHOrHpZ0",
        "outputId": "75f7f59f-238e-4122-a2d0-b65e3d150630"
      },
      "execution_count": null,
      "outputs": [
        {
          "output_type": "stream",
          "name": "stdout",
          "text": [
            "       [1]\n",
            "      [1, 1]\n",
            "     [1, 2, 1]\n",
            "    [1, 3, 3, 1]\n",
            "   [1, 4, 6, 4, 1]\n",
            "  [1, 5, 10, 10, 5, 1]\n",
            " [1, 6, 15, 20, 15, 6, 1]\n"
          ]
        }
      ]
    },
    {
      "cell_type": "markdown",
      "source": [
        "36. Develop a program that calculates the sum of the digits of a factorial of numbers from 1 to 5 using list\n",
        "comprehension."
      ],
      "metadata": {
        "id": "LOz6kAyOKWk-"
      }
    },
    {
      "cell_type": "code",
      "source": [
        "for i in range(1, 6):\n",
        "  facto = 1\n",
        "  for j in range(1, i+1):\n",
        "    facto *= j\n",
        "    sum_of_digits = sum(int(digit) for digit in str(facto))\n",
        "  print(f'Sum of digits of factorial of {i} is {sum_of_digits}')"
      ],
      "metadata": {
        "colab": {
          "base_uri": "https://localhost:8080/"
        },
        "id": "kNT1lBE9JEdB",
        "outputId": "5de3b331-b971-4307-9e17-3afa911d7e93"
      },
      "execution_count": null,
      "outputs": [
        {
          "output_type": "stream",
          "name": "stdout",
          "text": [
            "Sum of digits of factorial of 1 is 1\n",
            "Sum of digits of factorial of 2 is 2\n",
            "Sum of digits of factorial of 3 is 6\n",
            "Sum of digits of factorial of 4 is 6\n",
            "Sum of digits of factorial of 5 is 3\n"
          ]
        }
      ]
    },
    {
      "cell_type": "markdown",
      "source": [
        "37. Write a program that finds the longest word in a sentence using list comprehension."
      ],
      "metadata": {
        "id": "PbT5yi6BMbHW"
      }
    },
    {
      "cell_type": "code",
      "source": [
        "sentence = 'Why is the sky blue'"
      ],
      "metadata": {
        "id": "83MPBRcbLnEq"
      },
      "execution_count": null,
      "outputs": []
    },
    {
      "cell_type": "code",
      "source": [
        "long_word = 0"
      ],
      "metadata": {
        "id": "UFKIYyo2M4En"
      },
      "execution_count": null,
      "outputs": []
    },
    {
      "cell_type": "code",
      "source": [
        "for i in sentence.split():\n",
        "  long_word = max(long_word, len(i))\n",
        "\n",
        "longest_word = [i for i in sentence.split() if len(i) == long_word]"
      ],
      "metadata": {
        "id": "y98_PL3SM7-V"
      },
      "execution_count": null,
      "outputs": []
    },
    {
      "cell_type": "code",
      "source": [
        "print('The longest word in the given sentence is: ', longest_word)"
      ],
      "metadata": {
        "colab": {
          "base_uri": "https://localhost:8080/"
        },
        "id": "VI5TL79XNexf",
        "outputId": "db061499-95cf-49b3-bd8d-5099ecf416ba"
      },
      "execution_count": null,
      "outputs": [
        {
          "output_type": "stream",
          "name": "stdout",
          "text": [
            "The longest word in the given sentence is:  ['blue']\n"
          ]
        }
      ]
    },
    {
      "cell_type": "markdown",
      "source": [
        "38. Create a program that filters a list of strings to include only those with more than three vowels using list\n",
        "comprehension."
      ],
      "metadata": {
        "id": "me9CW80yOC_V"
      }
    },
    {
      "cell_type": "code",
      "source": [
        "list18 = ['apple', 'banana', 'cherry', 'date', 'elderberry', 'fig', 'grape', 'honeydew', 'kiwi', 'lemon', 'mango', 'nectarine']"
      ],
      "metadata": {
        "id": "BETke56gN9hW"
      },
      "execution_count": null,
      "outputs": []
    },
    {
      "cell_type": "code",
      "source": [
        "vowels = 'aeiouAEIOU'\n",
        "three_vowel = []"
      ],
      "metadata": {
        "id": "w24TK020ON4t"
      },
      "execution_count": null,
      "outputs": []
    },
    {
      "cell_type": "code",
      "source": [
        "for string in list18:\n",
        "  count = 0\n",
        "  if sum(1 for char in string if char in vowels) > 3:\n",
        "    three_vowel.append(string)"
      ],
      "metadata": {
        "id": "GhLyTjO9P_Ow"
      },
      "execution_count": null,
      "outputs": []
    },
    {
      "cell_type": "code",
      "source": [
        "print('The filtered list is: ', three_vowel)"
      ],
      "metadata": {
        "colab": {
          "base_uri": "https://localhost:8080/"
        },
        "id": "v-SPPXIVQ7u2",
        "outputId": "6086cee4-1a8e-4b4c-caac-7cac9fbca33c"
      },
      "execution_count": null,
      "outputs": [
        {
          "output_type": "stream",
          "name": "stdout",
          "text": [
            "The filtered list is:  ['nectarine']\n"
          ]
        }
      ]
    },
    {
      "cell_type": "markdown",
      "source": [
        "39. Develop a program that calculates the sum of the digits of numbers from 1 to 1000 using list\n",
        "comprehension."
      ],
      "metadata": {
        "id": "PZ0j2PpTB0Bk"
      }
    },
    {
      "cell_type": "code",
      "source": [
        "num_list = list(range(1, 1001))"
      ],
      "metadata": {
        "id": "ui9eqLV9HBVx"
      },
      "execution_count": 22,
      "outputs": []
    },
    {
      "cell_type": "code",
      "source": [
        "sum_of_digits = [sum(int(digit) for digit in str(num)) for num in range(1, 1001)]"
      ],
      "metadata": {
        "id": "jsUmYqzzEIoa"
      },
      "execution_count": 26,
      "outputs": []
    },
    {
      "cell_type": "code",
      "source": [
        "print('The list is: ', sum_of_digits)"
      ],
      "metadata": {
        "colab": {
          "base_uri": "https://localhost:8080/"
        },
        "id": "LEqqfRpaEKWn",
        "outputId": "4b9d6ce7-9f29-4eee-9915-e6e32eceac9b"
      },
      "execution_count": 27,
      "outputs": [
        {
          "output_type": "stream",
          "name": "stdout",
          "text": [
            "The list is:  [1, 2, 3, 4, 5, 6, 7, 8, 9, 1, 2, 3, 4, 5, 6, 7, 8, 9, 10, 2, 3, 4, 5, 6, 7, 8, 9, 10, 11, 3, 4, 5, 6, 7, 8, 9, 10, 11, 12, 4, 5, 6, 7, 8, 9, 10, 11, 12, 13, 5, 6, 7, 8, 9, 10, 11, 12, 13, 14, 6, 7, 8, 9, 10, 11, 12, 13, 14, 15, 7, 8, 9, 10, 11, 12, 13, 14, 15, 16, 8, 9, 10, 11, 12, 13, 14, 15, 16, 17, 9, 10, 11, 12, 13, 14, 15, 16, 17, 18, 1, 2, 3, 4, 5, 6, 7, 8, 9, 10, 2, 3, 4, 5, 6, 7, 8, 9, 10, 11, 3, 4, 5, 6, 7, 8, 9, 10, 11, 12, 4, 5, 6, 7, 8, 9, 10, 11, 12, 13, 5, 6, 7, 8, 9, 10, 11, 12, 13, 14, 6, 7, 8, 9, 10, 11, 12, 13, 14, 15, 7, 8, 9, 10, 11, 12, 13, 14, 15, 16, 8, 9, 10, 11, 12, 13, 14, 15, 16, 17, 9, 10, 11, 12, 13, 14, 15, 16, 17, 18, 10, 11, 12, 13, 14, 15, 16, 17, 18, 19, 2, 3, 4, 5, 6, 7, 8, 9, 10, 11, 3, 4, 5, 6, 7, 8, 9, 10, 11, 12, 4, 5, 6, 7, 8, 9, 10, 11, 12, 13, 5, 6, 7, 8, 9, 10, 11, 12, 13, 14, 6, 7, 8, 9, 10, 11, 12, 13, 14, 15, 7, 8, 9, 10, 11, 12, 13, 14, 15, 16, 8, 9, 10, 11, 12, 13, 14, 15, 16, 17, 9, 10, 11, 12, 13, 14, 15, 16, 17, 18, 10, 11, 12, 13, 14, 15, 16, 17, 18, 19, 11, 12, 13, 14, 15, 16, 17, 18, 19, 20, 3, 4, 5, 6, 7, 8, 9, 10, 11, 12, 4, 5, 6, 7, 8, 9, 10, 11, 12, 13, 5, 6, 7, 8, 9, 10, 11, 12, 13, 14, 6, 7, 8, 9, 10, 11, 12, 13, 14, 15, 7, 8, 9, 10, 11, 12, 13, 14, 15, 16, 8, 9, 10, 11, 12, 13, 14, 15, 16, 17, 9, 10, 11, 12, 13, 14, 15, 16, 17, 18, 10, 11, 12, 13, 14, 15, 16, 17, 18, 19, 11, 12, 13, 14, 15, 16, 17, 18, 19, 20, 12, 13, 14, 15, 16, 17, 18, 19, 20, 21, 4, 5, 6, 7, 8, 9, 10, 11, 12, 13, 5, 6, 7, 8, 9, 10, 11, 12, 13, 14, 6, 7, 8, 9, 10, 11, 12, 13, 14, 15, 7, 8, 9, 10, 11, 12, 13, 14, 15, 16, 8, 9, 10, 11, 12, 13, 14, 15, 16, 17, 9, 10, 11, 12, 13, 14, 15, 16, 17, 18, 10, 11, 12, 13, 14, 15, 16, 17, 18, 19, 11, 12, 13, 14, 15, 16, 17, 18, 19, 20, 12, 13, 14, 15, 16, 17, 18, 19, 20, 21, 13, 14, 15, 16, 17, 18, 19, 20, 21, 22, 5, 6, 7, 8, 9, 10, 11, 12, 13, 14, 6, 7, 8, 9, 10, 11, 12, 13, 14, 15, 7, 8, 9, 10, 11, 12, 13, 14, 15, 16, 8, 9, 10, 11, 12, 13, 14, 15, 16, 17, 9, 10, 11, 12, 13, 14, 15, 16, 17, 18, 10, 11, 12, 13, 14, 15, 16, 17, 18, 19, 11, 12, 13, 14, 15, 16, 17, 18, 19, 20, 12, 13, 14, 15, 16, 17, 18, 19, 20, 21, 13, 14, 15, 16, 17, 18, 19, 20, 21, 22, 14, 15, 16, 17, 18, 19, 20, 21, 22, 23, 6, 7, 8, 9, 10, 11, 12, 13, 14, 15, 7, 8, 9, 10, 11, 12, 13, 14, 15, 16, 8, 9, 10, 11, 12, 13, 14, 15, 16, 17, 9, 10, 11, 12, 13, 14, 15, 16, 17, 18, 10, 11, 12, 13, 14, 15, 16, 17, 18, 19, 11, 12, 13, 14, 15, 16, 17, 18, 19, 20, 12, 13, 14, 15, 16, 17, 18, 19, 20, 21, 13, 14, 15, 16, 17, 18, 19, 20, 21, 22, 14, 15, 16, 17, 18, 19, 20, 21, 22, 23, 15, 16, 17, 18, 19, 20, 21, 22, 23, 24, 7, 8, 9, 10, 11, 12, 13, 14, 15, 16, 8, 9, 10, 11, 12, 13, 14, 15, 16, 17, 9, 10, 11, 12, 13, 14, 15, 16, 17, 18, 10, 11, 12, 13, 14, 15, 16, 17, 18, 19, 11, 12, 13, 14, 15, 16, 17, 18, 19, 20, 12, 13, 14, 15, 16, 17, 18, 19, 20, 21, 13, 14, 15, 16, 17, 18, 19, 20, 21, 22, 14, 15, 16, 17, 18, 19, 20, 21, 22, 23, 15, 16, 17, 18, 19, 20, 21, 22, 23, 24, 16, 17, 18, 19, 20, 21, 22, 23, 24, 25, 8, 9, 10, 11, 12, 13, 14, 15, 16, 17, 9, 10, 11, 12, 13, 14, 15, 16, 17, 18, 10, 11, 12, 13, 14, 15, 16, 17, 18, 19, 11, 12, 13, 14, 15, 16, 17, 18, 19, 20, 12, 13, 14, 15, 16, 17, 18, 19, 20, 21, 13, 14, 15, 16, 17, 18, 19, 20, 21, 22, 14, 15, 16, 17, 18, 19, 20, 21, 22, 23, 15, 16, 17, 18, 19, 20, 21, 22, 23, 24, 16, 17, 18, 19, 20, 21, 22, 23, 24, 25, 17, 18, 19, 20, 21, 22, 23, 24, 25, 26, 9, 10, 11, 12, 13, 14, 15, 16, 17, 18, 10, 11, 12, 13, 14, 15, 16, 17, 18, 19, 11, 12, 13, 14, 15, 16, 17, 18, 19, 20, 12, 13, 14, 15, 16, 17, 18, 19, 20, 21, 13, 14, 15, 16, 17, 18, 19, 20, 21, 22, 14, 15, 16, 17, 18, 19, 20, 21, 22, 23, 15, 16, 17, 18, 19, 20, 21, 22, 23, 24, 16, 17, 18, 19, 20, 21, 22, 23, 24, 25, 17, 18, 19, 20, 21, 22, 23, 24, 25, 26, 18, 19, 20, 21, 22, 23, 24, 25, 26, 27, 1]\n"
          ]
        }
      ]
    },
    {
      "cell_type": "markdown",
      "source": [
        "40. Write a program that generates a list of prime palindromic numbers using list comprehension."
      ],
      "metadata": {
        "id": "-amwbM4hIZvN"
      }
    },
    {
      "cell_type": "code",
      "source": [
        "prime_palindrome = [num for num in range(2, 1000)\n",
        "                    if str(num) == str(num)[::-1] and\n",
        "                    all(num % i != 0 for i in range(2, int(num**0.5) + 1))]"
      ],
      "metadata": {
        "id": "rFcIdNRzH3X5"
      },
      "execution_count": 29,
      "outputs": []
    },
    {
      "cell_type": "code",
      "source": [
        "print('The list of prime pallindromic numbers is: ', prime_palindrome)"
      ],
      "metadata": {
        "colab": {
          "base_uri": "https://localhost:8080/"
        },
        "id": "hJo47WyFJ3oY",
        "outputId": "9f02e293-9fc3-4fdb-f4e3-82e52c12b71a"
      },
      "execution_count": 30,
      "outputs": [
        {
          "output_type": "stream",
          "name": "stdout",
          "text": [
            "The list of prime pallindromic numbers is:  [2, 3, 5, 7, 11, 101, 131, 151, 181, 191, 313, 353, 373, 383, 727, 757, 787, 797, 919, 929]\n"
          ]
        }
      ]
    },
    {
      "cell_type": "code",
      "source": [],
      "metadata": {
        "id": "e3sP2ry6KMdq"
      },
      "execution_count": null,
      "outputs": []
    }
  ]
}