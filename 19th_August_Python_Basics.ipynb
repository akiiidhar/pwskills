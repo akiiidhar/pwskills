{
 "cells": [
  {
   "cell_type": "markdown",
   "id": "5edfe880-8a7b-46d2-bc9f-ed5a67105baf",
   "metadata": {},
   "source": [
    "TOPIC: Python Basics Variable"
   ]
  },
  {
   "cell_type": "markdown",
   "id": "d765ca06-8549-4a45-a2a8-28b8a5f6a559",
   "metadata": {},
   "source": [
    "1. Declare two variables, `x` and `y`, and assign them integer values. Swap the\n",
    "values of these variables without using any temporary variable."
   ]
  },
  {
   "cell_type": "code",
   "execution_count": 1,
   "id": "81b6df16-86b8-4b70-96ad-7735446257bd",
   "metadata": {},
   "outputs": [],
   "source": [
    "x, y = 3, 5"
   ]
  },
  {
   "cell_type": "code",
   "execution_count": 2,
   "id": "4d7adeb9-76b3-4408-8d96-7e3471abb1ee",
   "metadata": {},
   "outputs": [],
   "source": [
    "x = x+y # x = 3+5 = 8\n",
    "y = x-y # y = 8-5 = 3\n",
    "x = x-y # x = 8-3 = 5"
   ]
  },
  {
   "cell_type": "code",
   "execution_count": 3,
   "id": "1dc8989b-2fc4-46eb-b7b6-2a41d2db4a94",
   "metadata": {},
   "outputs": [
    {
     "data": {
      "text/plain": [
       "(5, 3)"
      ]
     },
     "execution_count": 3,
     "metadata": {},
     "output_type": "execute_result"
    }
   ],
   "source": [
    "x, y"
   ]
  },
  {
   "cell_type": "markdown",
   "id": "5adf07f8-c78f-4499-b8a3-1d660240bec7",
   "metadata": {},
   "source": [
    "2. Create a program that calculates the area of a rectangle. Take the length and\n",
    "width as inputs from the user and store them in variables. Calculate and\n",
    "display the area."
   ]
  },
  {
   "cell_type": "code",
   "execution_count": 4,
   "id": "98646246-33a3-445e-9c5a-7d6ad0fa1303",
   "metadata": {},
   "outputs": [
    {
     "name": "stdin",
     "output_type": "stream",
     "text": [
      "Enter the length of the rectangle:  12\n"
     ]
    }
   ],
   "source": [
    "p = float(input(\"Enter the length of the rectangle: \"))"
   ]
  },
  {
   "cell_type": "code",
   "execution_count": 5,
   "id": "e91afc10-e68c-4870-a429-ff99c7198e80",
   "metadata": {},
   "outputs": [
    {
     "name": "stdin",
     "output_type": "stream",
     "text": [
      "Enter the width of the rectangle:  2\n"
     ]
    }
   ],
   "source": [
    "q = float(input(\"Enter the width of the rectangle: \"))"
   ]
  },
  {
   "cell_type": "code",
   "execution_count": 6,
   "id": "417f49a0-8307-4efd-be9e-5cda04db6016",
   "metadata": {},
   "outputs": [],
   "source": [
    "r = p*q"
   ]
  },
  {
   "cell_type": "code",
   "execution_count": 7,
   "id": "b44b90ef-8c07-4b73-a45a-88f524f6fc04",
   "metadata": {},
   "outputs": [
    {
     "name": "stdout",
     "output_type": "stream",
     "text": [
      "Area of the rectangle is  24.0\n"
     ]
    }
   ],
   "source": [
    "print(\"Area of the rectangle is \", r)"
   ]
  },
  {
   "cell_type": "markdown",
   "id": "b4bd9631-135f-4beb-b1cd-806322c290ba",
   "metadata": {},
   "source": [
    "3. Write a Python program that converts temperatures from Celsius to\n",
    "Fahrenheit. Take the temperature in Celsius as input, store it in a variable,\n",
    "convert it to Fahrenheit, and display the result."
   ]
  },
  {
   "cell_type": "code",
   "execution_count": 8,
   "id": "6f40d817-3c4a-4479-9486-a07469953e47",
   "metadata": {},
   "outputs": [
    {
     "name": "stdin",
     "output_type": "stream",
     "text": [
      "Enter the temperature in Celsius:  14\n"
     ]
    }
   ],
   "source": [
    "c = float(input(\"Enter the temperature in Celsius: \"))"
   ]
  },
  {
   "cell_type": "code",
   "execution_count": 9,
   "id": "bce6f682-cb2b-4106-8875-2fdf5c82f179",
   "metadata": {},
   "outputs": [],
   "source": [
    "f = ((9/5)*c)+32"
   ]
  },
  {
   "cell_type": "code",
   "execution_count": 10,
   "id": "93aa86e5-a72c-4bd7-aefb-184b7f558977",
   "metadata": {},
   "outputs": [
    {
     "name": "stdout",
     "output_type": "stream",
     "text": [
      "The temperature in Fahrenheit is  57.2\n"
     ]
    }
   ],
   "source": [
    "print(\"The temperature in Fahrenheit is \", f)"
   ]
  },
  {
   "cell_type": "markdown",
   "id": "ba19d717-4b2b-40ea-96d2-f5c860139d23",
   "metadata": {},
   "source": [
    "TOPIC: String Based Questions"
   ]
  },
  {
   "cell_type": "markdown",
   "id": "d71e82c4-38b3-4615-91f0-3b93bbbc8ab9",
   "metadata": {},
   "source": [
    "1. Write a Python program that takes a string as input and prints the length of\n",
    "the string."
   ]
  },
  {
   "cell_type": "code",
   "execution_count": 11,
   "id": "b0eb639b-ac94-49ad-a146-cac011feb035",
   "metadata": {},
   "outputs": [
    {
     "name": "stdin",
     "output_type": "stream",
     "text": [
      "Enter a sentence:  I am Akash.\n"
     ]
    }
   ],
   "source": [
    "s = input(\"Enter a sentence: \")"
   ]
  },
  {
   "cell_type": "code",
   "execution_count": 12,
   "id": "7a1d79bb-f903-47d3-b66a-507a4807ee72",
   "metadata": {},
   "outputs": [
    {
     "name": "stdout",
     "output_type": "stream",
     "text": [
      "The length of the entered string is  11\n"
     ]
    }
   ],
   "source": [
    "print(\"The length of the entered string is \", len(s))"
   ]
  },
  {
   "cell_type": "markdown",
   "id": "c7035aab-068a-4851-b5d9-33a7482c0fb9",
   "metadata": {},
   "source": [
    "2. Create a program that takes a sentence from the user and counts the number\n",
    "of vowels (a, e, i, o, u) in the string."
   ]
  },
  {
   "cell_type": "code",
   "execution_count": 13,
   "id": "121b15a8-a23d-4627-9076-a4b36eb18309",
   "metadata": {},
   "outputs": [
    {
     "name": "stdin",
     "output_type": "stream",
     "text": [
      "Enter a sentence:  Where is India?\n"
     ]
    }
   ],
   "source": [
    "inp = input(\"Enter a sentence: \")"
   ]
  },
  {
   "cell_type": "code",
   "execution_count": 14,
   "id": "a8c783c8-231b-4f64-b8d9-dcd424c31abe",
   "metadata": {},
   "outputs": [],
   "source": [
    "count = 0\n",
    "\n",
    "for i in inp:\n",
    "    if i == 'a' or i == 'A':\n",
    "        count = count+1\n",
    "    elif i == 'e' or i == 'E':\n",
    "        count = count+1\n",
    "    elif i == 'i' or i == 'I':\n",
    "        count = count+1\n",
    "    elif i == 'o' or i == 'O':\n",
    "        count = count+1\n",
    "    elif i == 'u' or i == 'U':\n",
    "        count = count+1"
   ]
  },
  {
   "cell_type": "code",
   "execution_count": 15,
   "id": "d8578301-618c-4af1-8097-ed2a6915b04e",
   "metadata": {},
   "outputs": [
    {
     "name": "stdout",
     "output_type": "stream",
     "text": [
      "Number of vowels in the given sentence:  6\n"
     ]
    }
   ],
   "source": [
    "print(\"Number of vowels in the given sentence: \", count)"
   ]
  },
  {
   "cell_type": "markdown",
   "id": "0e4c9d69-6dd9-4cef-b3a6-a2f5bc329f07",
   "metadata": {},
   "source": [
    "3. Given a string, reverse the order of characters using string slicing and print\n",
    "the reversed string."
   ]
  },
  {
   "cell_type": "code",
   "execution_count": 16,
   "id": "6512d6bd-d46f-4480-b9df-4af0b060c331",
   "metadata": {},
   "outputs": [
    {
     "name": "stdin",
     "output_type": "stream",
     "text": [
      "Enter a sentence:  Who are you?\n"
     ]
    }
   ],
   "source": [
    "inp = input(\"Enter a sentence: \")"
   ]
  },
  {
   "cell_type": "code",
   "execution_count": 17,
   "id": "1fddbc6a-56fe-48cd-8179-cb2f50e36259",
   "metadata": {},
   "outputs": [],
   "source": [
    "out = inp[::-1]"
   ]
  },
  {
   "cell_type": "code",
   "execution_count": 18,
   "id": "beb04c37-a16c-4e99-b85a-e6bde6b8e4e3",
   "metadata": {},
   "outputs": [
    {
     "name": "stdout",
     "output_type": "stream",
     "text": [
      "Reverse of the given sentence:  ?uoy era ohW\n"
     ]
    }
   ],
   "source": [
    "print(\"Reverse of the given sentence: \", out)"
   ]
  },
  {
   "cell_type": "markdown",
   "id": "0db9f7ec-96ee-4785-8046-46490d4cab5e",
   "metadata": {},
   "source": [
    "4. Write a program that takes a string as input and checks if it is a palindrome\n",
    "(reads the same forwards and backwards)."
   ]
  },
  {
   "cell_type": "code",
   "execution_count": 22,
   "id": "28d1b170-6a29-4a80-a6c9-7947db4efcdb",
   "metadata": {},
   "outputs": [
    {
     "name": "stdin",
     "output_type": "stream",
     "text": [
      "Enter a sentence:  madam\n"
     ]
    }
   ],
   "source": [
    "inp = input(\"Enter a sentence: \")"
   ]
  },
  {
   "cell_type": "code",
   "execution_count": 23,
   "id": "2d6a979c-7618-4d35-865f-4e01d1879925",
   "metadata": {},
   "outputs": [],
   "source": [
    "temp = inp[::-1]"
   ]
  },
  {
   "cell_type": "code",
   "execution_count": 24,
   "id": "e743fa03-96fd-4618-8edf-4189b88c1f55",
   "metadata": {},
   "outputs": [
    {
     "name": "stdout",
     "output_type": "stream",
     "text": [
      "The given string is a palindrome.\n"
     ]
    }
   ],
   "source": [
    "if inp == temp:\n",
    "    print(\"The given string is a palindrome.\")\n",
    "else:\n",
    "    print(\"The given string is not a palindrome.\")"
   ]
  },
  {
   "cell_type": "markdown",
   "id": "396c8e65-9464-4f01-9cfa-c9d2d406dab4",
   "metadata": {},
   "source": [
    "5. Create a program that takes a string as input and removes all the spaces from\n",
    "it. Print the modified string without spaces."
   ]
  },
  {
   "cell_type": "code",
   "execution_count": 25,
   "id": "452b0ea9-f4a2-49cb-96d4-36727f30b723",
   "metadata": {},
   "outputs": [
    {
     "name": "stdin",
     "output_type": "stream",
     "text": [
      "Enter a sentence:  What is your name?\n"
     ]
    }
   ],
   "source": [
    "inp = input(\"Enter a sentence: \")"
   ]
  },
  {
   "cell_type": "code",
   "execution_count": 26,
   "id": "e148b681-813a-40bb-a575-8b6332a1f9bb",
   "metadata": {},
   "outputs": [],
   "source": [
    "out = inp.replace(\" \", \"\")"
   ]
  },
  {
   "cell_type": "code",
   "execution_count": 27,
   "id": "4d5428f5-a01a-4d35-a33d-e2d8c5be75a1",
   "metadata": {},
   "outputs": [
    {
     "name": "stdout",
     "output_type": "stream",
     "text": [
      "The modified string without spaces:  Whatisyourname?\n"
     ]
    }
   ],
   "source": [
    "print(\"The modified string without spaces: \", out)"
   ]
  },
  {
   "cell_type": "code",
   "execution_count": null,
   "id": "97325da0-77fc-4bce-b501-373ad1e7aca9",
   "metadata": {},
   "outputs": [],
   "source": []
  }
 ],
 "metadata": {
  "kernelspec": {
   "display_name": "Python 3 (ipykernel)",
   "language": "python",
   "name": "python3"
  },
  "language_info": {
   "codemirror_mode": {
    "name": "ipython",
    "version": 3
   },
   "file_extension": ".py",
   "mimetype": "text/x-python",
   "name": "python",
   "nbconvert_exporter": "python",
   "pygments_lexer": "ipython3",
   "version": "3.10.8"
  }
 },
 "nbformat": 4,
 "nbformat_minor": 5
}
